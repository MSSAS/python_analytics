{
 "cells": [
  {
   "cell_type": "code",
   "execution_count": 34,
   "id": "8b6ef800",
   "metadata": {
    "ExecuteTime": {
     "end_time": "2025-04-02T17:24:26.310475Z",
     "start_time": "2025-04-02T17:24:26.307274Z"
    }
   },
   "outputs": [],
   "source": [
    "import pandas as pd\n",
    "import seaborn as sns\n",
    "import numpy as np\n",
    "from scipy.stats import ttest_ind\n",
    "from scipy.stats import f_oneway"
   ]
  },
  {
   "cell_type": "code",
   "execution_count": 2,
   "id": "2312ed1f",
   "metadata": {
    "ExecuteTime": {
     "end_time": "2025-04-02T16:40:57.524826Z",
     "start_time": "2025-04-02T16:40:55.597190Z"
    }
   },
   "outputs": [],
   "source": [
    "ads_date = pd.read_csv('C:/Users/spit/Desktop/cur/karpov_1/Python/ads_data.csv')"
   ]
  },
  {
   "cell_type": "code",
   "execution_count": 3,
   "id": "512ca984",
   "metadata": {
    "ExecuteTime": {
     "end_time": "2025-04-02T16:40:57.540819Z",
     "start_time": "2025-04-02T16:40:57.525825Z"
    }
   },
   "outputs": [
    {
     "data": {
      "text/html": [
       "<div>\n",
       "<style scoped>\n",
       "    .dataframe tbody tr th:only-of-type {\n",
       "        vertical-align: middle;\n",
       "    }\n",
       "\n",
       "    .dataframe tbody tr th {\n",
       "        vertical-align: top;\n",
       "    }\n",
       "\n",
       "    .dataframe thead th {\n",
       "        text-align: right;\n",
       "    }\n",
       "</style>\n",
       "<table border=\"1\" class=\"dataframe\">\n",
       "  <thead>\n",
       "    <tr style=\"text-align: right;\">\n",
       "      <th></th>\n",
       "      <th>ad_id</th>\n",
       "      <th>time</th>\n",
       "      <th>event</th>\n",
       "      <th>date</th>\n",
       "      <th>ad_cost_type</th>\n",
       "      <th>has_video</th>\n",
       "      <th>client_union_id</th>\n",
       "      <th>campaign_union_id</th>\n",
       "      <th>platform</th>\n",
       "      <th>ad_cost</th>\n",
       "      <th>target_audience_count</th>\n",
       "      <th>user_id</th>\n",
       "    </tr>\n",
       "  </thead>\n",
       "  <tbody>\n",
       "    <tr>\n",
       "      <th>0</th>\n",
       "      <td>23456</td>\n",
       "      <td>1554076848</td>\n",
       "      <td>view</td>\n",
       "      <td>2019-04-01</td>\n",
       "      <td>CPM</td>\n",
       "      <td>0</td>\n",
       "      <td>5681</td>\n",
       "      <td>23456</td>\n",
       "      <td>android</td>\n",
       "      <td>190.0</td>\n",
       "      <td>125560</td>\n",
       "      <td>793</td>\n",
       "    </tr>\n",
       "    <tr>\n",
       "      <th>1</th>\n",
       "      <td>111941</td>\n",
       "      <td>1554135866</td>\n",
       "      <td>view</td>\n",
       "      <td>2019-04-01</td>\n",
       "      <td>CPM</td>\n",
       "      <td>0</td>\n",
       "      <td>111793</td>\n",
       "      <td>111941</td>\n",
       "      <td>ios</td>\n",
       "      <td>215.2</td>\n",
       "      <td>32277</td>\n",
       "      <td>1041</td>\n",
       "    </tr>\n",
       "    <tr>\n",
       "      <th>2</th>\n",
       "      <td>111941</td>\n",
       "      <td>1554135866</td>\n",
       "      <td>view</td>\n",
       "      <td>2019-04-01</td>\n",
       "      <td>CPM</td>\n",
       "      <td>0</td>\n",
       "      <td>111793</td>\n",
       "      <td>111941</td>\n",
       "      <td>ios</td>\n",
       "      <td>215.2</td>\n",
       "      <td>32277</td>\n",
       "      <td>41</td>\n",
       "    </tr>\n",
       "    <tr>\n",
       "      <th>3</th>\n",
       "      <td>42987</td>\n",
       "      <td>1554135866</td>\n",
       "      <td>view</td>\n",
       "      <td>2019-04-01</td>\n",
       "      <td>CPM</td>\n",
       "      <td>0</td>\n",
       "      <td>28541</td>\n",
       "      <td>42985</td>\n",
       "      <td>ios</td>\n",
       "      <td>199.1</td>\n",
       "      <td>80160</td>\n",
       "      <td>898</td>\n",
       "    </tr>\n",
       "    <tr>\n",
       "      <th>4</th>\n",
       "      <td>23456</td>\n",
       "      <td>1554135866</td>\n",
       "      <td>view</td>\n",
       "      <td>2019-04-01</td>\n",
       "      <td>CPM</td>\n",
       "      <td>0</td>\n",
       "      <td>5681</td>\n",
       "      <td>23456</td>\n",
       "      <td>web</td>\n",
       "      <td>190.0</td>\n",
       "      <td>125560</td>\n",
       "      <td>29</td>\n",
       "    </tr>\n",
       "  </tbody>\n",
       "</table>\n",
       "</div>"
      ],
      "text/plain": [
       "    ad_id        time event        date ad_cost_type  has_video  \\\n",
       "0   23456  1554076848  view  2019-04-01          CPM          0   \n",
       "1  111941  1554135866  view  2019-04-01          CPM          0   \n",
       "2  111941  1554135866  view  2019-04-01          CPM          0   \n",
       "3   42987  1554135866  view  2019-04-01          CPM          0   \n",
       "4   23456  1554135866  view  2019-04-01          CPM          0   \n",
       "\n",
       "   client_union_id  campaign_union_id platform  ad_cost  \\\n",
       "0             5681              23456  android    190.0   \n",
       "1           111793             111941      ios    215.2   \n",
       "2           111793             111941      ios    215.2   \n",
       "3            28541              42985      ios    199.1   \n",
       "4             5681              23456      web    190.0   \n",
       "\n",
       "   target_audience_count  user_id  \n",
       "0                 125560      793  \n",
       "1                  32277     1041  \n",
       "2                  32277       41  \n",
       "3                  80160      898  \n",
       "4                 125560       29  "
      ]
     },
     "execution_count": 3,
     "metadata": {},
     "output_type": "execute_result"
    }
   ],
   "source": [
    "ads_date.head()"
   ]
  },
  {
   "cell_type": "code",
   "execution_count": 4,
   "id": "6a543cc4",
   "metadata": {
    "ExecuteTime": {
     "end_time": "2025-04-02T16:40:57.546394Z",
     "start_time": "2025-04-02T16:40:57.542332Z"
    }
   },
   "outputs": [
    {
     "data": {
      "text/plain": [
       "ad_id                      int64\n",
       "time                       int64\n",
       "event                     object\n",
       "date                      object\n",
       "ad_cost_type              object\n",
       "has_video                  int64\n",
       "client_union_id            int64\n",
       "campaign_union_id          int64\n",
       "platform                  object\n",
       "ad_cost                  float64\n",
       "target_audience_count      int64\n",
       "user_id                    int64\n",
       "dtype: object"
      ]
     },
     "execution_count": 4,
     "metadata": {},
     "output_type": "execute_result"
    }
   ],
   "source": [
    "ads_date.dtypes"
   ]
  },
  {
   "cell_type": "code",
   "execution_count": 5,
   "id": "1121db87",
   "metadata": {
    "ExecuteTime": {
     "end_time": "2025-04-02T16:40:57.768366Z",
     "start_time": "2025-04-02T16:40:57.548392Z"
    }
   },
   "outputs": [],
   "source": [
    "ads_date['date'] = pd.to_datetime(ads_date['date'])"
   ]
  },
  {
   "cell_type": "code",
   "execution_count": 6,
   "id": "1adf11f1",
   "metadata": {
    "ExecuteTime": {
     "end_time": "2025-04-02T16:40:58.183929Z",
     "start_time": "2025-04-02T16:40:57.769876Z"
    }
   },
   "outputs": [
    {
     "data": {
      "text/html": [
       "<div>\n",
       "<style scoped>\n",
       "    .dataframe tbody tr th:only-of-type {\n",
       "        vertical-align: middle;\n",
       "    }\n",
       "\n",
       "    .dataframe tbody tr th {\n",
       "        vertical-align: top;\n",
       "    }\n",
       "\n",
       "    .dataframe thead th {\n",
       "        text-align: right;\n",
       "    }\n",
       "</style>\n",
       "<table border=\"1\" class=\"dataframe\">\n",
       "  <thead>\n",
       "    <tr style=\"text-align: right;\">\n",
       "      <th></th>\n",
       "      <th>ad_id</th>\n",
       "      <th>ad_cost_type</th>\n",
       "      <th>platform</th>\n",
       "      <th>event</th>\n",
       "      <th>user_id</th>\n",
       "    </tr>\n",
       "  </thead>\n",
       "  <tbody>\n",
       "    <tr>\n",
       "      <th>0</th>\n",
       "      <td>3</td>\n",
       "      <td>CPC</td>\n",
       "      <td>android</td>\n",
       "      <td>click</td>\n",
       "      <td>5</td>\n",
       "    </tr>\n",
       "    <tr>\n",
       "      <th>1</th>\n",
       "      <td>3</td>\n",
       "      <td>CPC</td>\n",
       "      <td>android</td>\n",
       "      <td>view</td>\n",
       "      <td>244</td>\n",
       "    </tr>\n",
       "    <tr>\n",
       "      <th>2</th>\n",
       "      <td>3</td>\n",
       "      <td>CPC</td>\n",
       "      <td>ios</td>\n",
       "      <td>click</td>\n",
       "      <td>3</td>\n",
       "    </tr>\n",
       "    <tr>\n",
       "      <th>3</th>\n",
       "      <td>3</td>\n",
       "      <td>CPC</td>\n",
       "      <td>ios</td>\n",
       "      <td>view</td>\n",
       "      <td>147</td>\n",
       "    </tr>\n",
       "    <tr>\n",
       "      <th>4</th>\n",
       "      <td>3</td>\n",
       "      <td>CPC</td>\n",
       "      <td>web</td>\n",
       "      <td>click</td>\n",
       "      <td>1</td>\n",
       "    </tr>\n",
       "  </tbody>\n",
       "</table>\n",
       "</div>"
      ],
      "text/plain": [
       "   ad_id ad_cost_type platform  event  user_id\n",
       "0      3          CPC  android  click        5\n",
       "1      3          CPC  android   view      244\n",
       "2      3          CPC      ios  click        3\n",
       "3      3          CPC      ios   view      147\n",
       "4      3          CPC      web  click        1"
      ]
     },
     "execution_count": 6,
     "metadata": {},
     "output_type": "execute_result"
    }
   ],
   "source": [
    "df = ads_date.groupby(['ad_id', 'ad_cost_type', 'platform','event'], as_index=False) \\\n",
    "    .agg({'user_id':'count'})\n",
    "df.head()"
   ]
  },
  {
   "cell_type": "code",
   "execution_count": 7,
   "id": "1b152414",
   "metadata": {
    "ExecuteTime": {
     "end_time": "2025-04-02T16:40:58.198082Z",
     "start_time": "2025-04-02T16:40:58.184930Z"
    }
   },
   "outputs": [
    {
     "data": {
      "text/html": [
       "<div>\n",
       "<style scoped>\n",
       "    .dataframe tbody tr th:only-of-type {\n",
       "        vertical-align: middle;\n",
       "    }\n",
       "\n",
       "    .dataframe tbody tr th {\n",
       "        vertical-align: top;\n",
       "    }\n",
       "\n",
       "    .dataframe thead th {\n",
       "        text-align: right;\n",
       "    }\n",
       "</style>\n",
       "<table border=\"1\" class=\"dataframe\">\n",
       "  <thead>\n",
       "    <tr style=\"text-align: right;\">\n",
       "      <th>event</th>\n",
       "      <th>ad_id</th>\n",
       "      <th>ad_cost_type</th>\n",
       "      <th>platform</th>\n",
       "      <th>click</th>\n",
       "      <th>view</th>\n",
       "    </tr>\n",
       "  </thead>\n",
       "  <tbody>\n",
       "    <tr>\n",
       "      <th>0</th>\n",
       "      <td>3</td>\n",
       "      <td>CPC</td>\n",
       "      <td>android</td>\n",
       "      <td>5.0</td>\n",
       "      <td>244.0</td>\n",
       "    </tr>\n",
       "    <tr>\n",
       "      <th>1</th>\n",
       "      <td>3</td>\n",
       "      <td>CPC</td>\n",
       "      <td>ios</td>\n",
       "      <td>3.0</td>\n",
       "      <td>147.0</td>\n",
       "    </tr>\n",
       "    <tr>\n",
       "      <th>2</th>\n",
       "      <td>3</td>\n",
       "      <td>CPC</td>\n",
       "      <td>web</td>\n",
       "      <td>1.0</td>\n",
       "      <td>99.0</td>\n",
       "    </tr>\n",
       "    <tr>\n",
       "      <th>3</th>\n",
       "      <td>2132</td>\n",
       "      <td>CPC</td>\n",
       "      <td>android</td>\n",
       "      <td>1.0</td>\n",
       "      <td>55.0</td>\n",
       "    </tr>\n",
       "    <tr>\n",
       "      <th>4</th>\n",
       "      <td>2132</td>\n",
       "      <td>CPC</td>\n",
       "      <td>ios</td>\n",
       "      <td>NaN</td>\n",
       "      <td>26.0</td>\n",
       "    </tr>\n",
       "  </tbody>\n",
       "</table>\n",
       "</div>"
      ],
      "text/plain": [
       "event  ad_id ad_cost_type platform  click   view\n",
       "0          3          CPC  android    5.0  244.0\n",
       "1          3          CPC      ios    3.0  147.0\n",
       "2          3          CPC      web    1.0   99.0\n",
       "3       2132          CPC  android    1.0   55.0\n",
       "4       2132          CPC      ios    NaN   26.0"
      ]
     },
     "execution_count": 7,
     "metadata": {},
     "output_type": "execute_result"
    }
   ],
   "source": [
    "df = df.pivot(index = ['ad_id', 'ad_cost_type', 'platform'], columns='event', values='user_id').reset_index()\n",
    "df.head()"
   ]
  },
  {
   "cell_type": "code",
   "execution_count": 8,
   "id": "e3043aac",
   "metadata": {
    "ExecuteTime": {
     "end_time": "2025-04-02T16:40:58.203726Z",
     "start_time": "2025-04-02T16:40:58.199083Z"
    }
   },
   "outputs": [],
   "source": [
    "cost_type_df = df.groupby(['ad_id', 'ad_cost_type'], as_index=False) \\\n",
    "    .agg({'click':'sum', 'view':'sum'})"
   ]
  },
  {
   "cell_type": "code",
   "execution_count": 9,
   "id": "6d3f69a3",
   "metadata": {
    "ExecuteTime": {
     "end_time": "2025-04-02T16:40:58.210247Z",
     "start_time": "2025-04-02T16:40:58.204723Z"
    }
   },
   "outputs": [],
   "source": [
    "cost_type_df = cost_type_df.query('view > 100 & click > 0')"
   ]
  },
  {
   "cell_type": "code",
   "execution_count": 10,
   "id": "23d59026",
   "metadata": {
    "ExecuteTime": {
     "end_time": "2025-04-02T16:40:58.214552Z",
     "start_time": "2025-04-02T16:40:58.211760Z"
    }
   },
   "outputs": [],
   "source": [
    "cost_type_df['ctr'] = cost_type_df.click / cost_type_df.view"
   ]
  },
  {
   "cell_type": "code",
   "execution_count": 11,
   "id": "4f982beb",
   "metadata": {
    "ExecuteTime": {
     "end_time": "2025-04-02T16:40:58.219324Z",
     "start_time": "2025-04-02T16:40:58.215553Z"
    }
   },
   "outputs": [],
   "source": [
    "cost_type_df['ctr_log'] = np.log(cost_type_df['ctr'])"
   ]
  },
  {
   "cell_type": "code",
   "execution_count": 12,
   "id": "6d828a60",
   "metadata": {
    "ExecuteTime": {
     "end_time": "2025-04-02T16:40:58.229531Z",
     "start_time": "2025-04-02T16:40:58.220324Z"
    }
   },
   "outputs": [
    {
     "data": {
      "text/html": [
       "<div>\n",
       "<style scoped>\n",
       "    .dataframe tbody tr th:only-of-type {\n",
       "        vertical-align: middle;\n",
       "    }\n",
       "\n",
       "    .dataframe tbody tr th {\n",
       "        vertical-align: top;\n",
       "    }\n",
       "\n",
       "    .dataframe thead th {\n",
       "        text-align: right;\n",
       "    }\n",
       "</style>\n",
       "<table border=\"1\" class=\"dataframe\">\n",
       "  <thead>\n",
       "    <tr style=\"text-align: right;\">\n",
       "      <th>event</th>\n",
       "      <th>ad_id</th>\n",
       "      <th>ad_cost_type</th>\n",
       "      <th>click</th>\n",
       "      <th>view</th>\n",
       "      <th>ctr</th>\n",
       "      <th>ctr_log</th>\n",
       "    </tr>\n",
       "  </thead>\n",
       "  <tbody>\n",
       "    <tr>\n",
       "      <th>0</th>\n",
       "      <td>3</td>\n",
       "      <td>CPC</td>\n",
       "      <td>9.0</td>\n",
       "      <td>490.0</td>\n",
       "      <td>0.018367</td>\n",
       "      <td>-3.997181</td>\n",
       "    </tr>\n",
       "    <tr>\n",
       "      <th>2</th>\n",
       "      <td>2276</td>\n",
       "      <td>CPC</td>\n",
       "      <td>2.0</td>\n",
       "      <td>1454.0</td>\n",
       "      <td>0.001376</td>\n",
       "      <td>-6.588926</td>\n",
       "    </tr>\n",
       "    <tr>\n",
       "      <th>4</th>\n",
       "      <td>2643</td>\n",
       "      <td>CPM</td>\n",
       "      <td>3.0</td>\n",
       "      <td>286.0</td>\n",
       "      <td>0.010490</td>\n",
       "      <td>-4.557380</td>\n",
       "    </tr>\n",
       "    <tr>\n",
       "      <th>5</th>\n",
       "      <td>4585</td>\n",
       "      <td>CPC</td>\n",
       "      <td>53.0</td>\n",
       "      <td>476.0</td>\n",
       "      <td>0.111345</td>\n",
       "      <td>-2.195126</td>\n",
       "    </tr>\n",
       "    <tr>\n",
       "      <th>6</th>\n",
       "      <td>4877</td>\n",
       "      <td>CPC</td>\n",
       "      <td>5.0</td>\n",
       "      <td>2160.0</td>\n",
       "      <td>0.002315</td>\n",
       "      <td>-6.068426</td>\n",
       "    </tr>\n",
       "    <tr>\n",
       "      <th>...</th>\n",
       "      <td>...</td>\n",
       "      <td>...</td>\n",
       "      <td>...</td>\n",
       "      <td>...</td>\n",
       "      <td>...</td>\n",
       "      <td>...</td>\n",
       "    </tr>\n",
       "    <tr>\n",
       "      <th>350</th>\n",
       "      <td>121941</td>\n",
       "      <td>CPM</td>\n",
       "      <td>1.0</td>\n",
       "      <td>640.0</td>\n",
       "      <td>0.001563</td>\n",
       "      <td>-6.461468</td>\n",
       "    </tr>\n",
       "    <tr>\n",
       "      <th>351</th>\n",
       "      <td>121943</td>\n",
       "      <td>CPC</td>\n",
       "      <td>15.0</td>\n",
       "      <td>1722.0</td>\n",
       "      <td>0.008711</td>\n",
       "      <td>-4.743191</td>\n",
       "    </tr>\n",
       "    <tr>\n",
       "      <th>352</th>\n",
       "      <td>122042</td>\n",
       "      <td>CPM</td>\n",
       "      <td>1.0</td>\n",
       "      <td>155.0</td>\n",
       "      <td>0.006452</td>\n",
       "      <td>-5.043425</td>\n",
       "    </tr>\n",
       "    <tr>\n",
       "      <th>353</th>\n",
       "      <td>122063</td>\n",
       "      <td>CPM</td>\n",
       "      <td>1.0</td>\n",
       "      <td>260.0</td>\n",
       "      <td>0.003846</td>\n",
       "      <td>-5.560682</td>\n",
       "    </tr>\n",
       "    <tr>\n",
       "      <th>354</th>\n",
       "      <td>122086</td>\n",
       "      <td>CPC</td>\n",
       "      <td>50.0</td>\n",
       "      <td>1999.0</td>\n",
       "      <td>0.025013</td>\n",
       "      <td>-3.688379</td>\n",
       "    </tr>\n",
       "  </tbody>\n",
       "</table>\n",
       "<p>302 rows × 6 columns</p>\n",
       "</div>"
      ],
      "text/plain": [
       "event   ad_id ad_cost_type  click    view       ctr   ctr_log\n",
       "0           3          CPC    9.0   490.0  0.018367 -3.997181\n",
       "2        2276          CPC    2.0  1454.0  0.001376 -6.588926\n",
       "4        2643          CPM    3.0   286.0  0.010490 -4.557380\n",
       "5        4585          CPC   53.0   476.0  0.111345 -2.195126\n",
       "6        4877          CPC    5.0  2160.0  0.002315 -6.068426\n",
       "..        ...          ...    ...     ...       ...       ...\n",
       "350    121941          CPM    1.0   640.0  0.001563 -6.461468\n",
       "351    121943          CPC   15.0  1722.0  0.008711 -4.743191\n",
       "352    122042          CPM    1.0   155.0  0.006452 -5.043425\n",
       "353    122063          CPM    1.0   260.0  0.003846 -5.560682\n",
       "354    122086          CPC   50.0  1999.0  0.025013 -3.688379\n",
       "\n",
       "[302 rows x 6 columns]"
      ]
     },
     "execution_count": 12,
     "metadata": {},
     "output_type": "execute_result"
    }
   ],
   "source": [
    "cost_type_df"
   ]
  },
  {
   "cell_type": "code",
   "execution_count": 13,
   "id": "2880ba2e",
   "metadata": {
    "ExecuteTime": {
     "end_time": "2025-04-02T16:40:58.396155Z",
     "start_time": "2025-04-02T16:40:58.230530Z"
    }
   },
   "outputs": [
    {
     "data": {
      "text/plain": [
       "<Axes: xlabel='ad_cost_type', ylabel='ctr'>"
      ]
     },
     "execution_count": 13,
     "metadata": {},
     "output_type": "execute_result"
    },
    {
     "data": {
      "image/png": "[encoded data removed]",
      "text/plain": [
       "<Figure size 640x480 with 1 Axes>"
      ]
     },
     "metadata": {},
     "output_type": "display_data"
    }
   ],
   "source": [
    "sns.boxplot(x='ad_cost_type', y='ctr', data=cost_type_df)"
   ]
  },
  {
   "cell_type": "code",
   "execution_count": 14,
   "id": "de276672",
   "metadata": {
    "ExecuteTime": {
     "end_time": "2025-04-02T16:40:58.405307Z",
     "start_time": "2025-04-02T16:40:58.399154Z"
    }
   },
   "outputs": [
    {
     "data": {
      "text/html": [
       "<div>\n",
       "<style scoped>\n",
       "    .dataframe tbody tr th:only-of-type {\n",
       "        vertical-align: middle;\n",
       "    }\n",
       "\n",
       "    .dataframe tbody tr th {\n",
       "        vertical-align: top;\n",
       "    }\n",
       "\n",
       "    .dataframe thead th {\n",
       "        text-align: right;\n",
       "    }\n",
       "</style>\n",
       "<table border=\"1\" class=\"dataframe\">\n",
       "  <thead>\n",
       "    <tr style=\"text-align: right;\">\n",
       "      <th>event</th>\n",
       "      <th>ctr</th>\n",
       "    </tr>\n",
       "    <tr>\n",
       "      <th>ad_cost_type</th>\n",
       "      <th></th>\n",
       "    </tr>\n",
       "  </thead>\n",
       "  <tbody>\n",
       "    <tr>\n",
       "      <th>CPC</th>\n",
       "      <td>0.012019</td>\n",
       "    </tr>\n",
       "    <tr>\n",
       "      <th>CPM</th>\n",
       "      <td>0.010490</td>\n",
       "    </tr>\n",
       "  </tbody>\n",
       "</table>\n",
       "</div>"
      ],
      "text/plain": [
       "event              ctr\n",
       "ad_cost_type          \n",
       "CPC           0.012019\n",
       "CPM           0.010490"
      ]
     },
     "execution_count": 14,
     "metadata": {},
     "output_type": "execute_result"
    }
   ],
   "source": [
    "cost_type_df.groupby('ad_cost_type').agg({'ctr':'median'})"
   ]
  },
  {
   "cell_type": "code",
   "execution_count": 15,
   "id": "7c9e4360",
   "metadata": {
    "ExecuteTime": {
     "end_time": "2025-04-02T16:40:58.412932Z",
     "start_time": "2025-04-02T16:40:58.406308Z"
    }
   },
   "outputs": [
    {
     "data": {
      "text/html": [
       "<div>\n",
       "<style scoped>\n",
       "    .dataframe tbody tr th:only-of-type {\n",
       "        vertical-align: middle;\n",
       "    }\n",
       "\n",
       "    .dataframe tbody tr th {\n",
       "        vertical-align: top;\n",
       "    }\n",
       "\n",
       "    .dataframe thead th {\n",
       "        text-align: right;\n",
       "    }\n",
       "</style>\n",
       "<table border=\"1\" class=\"dataframe\">\n",
       "  <thead>\n",
       "    <tr style=\"text-align: right;\">\n",
       "      <th>event</th>\n",
       "      <th>ctr</th>\n",
       "    </tr>\n",
       "    <tr>\n",
       "      <th>ad_cost_type</th>\n",
       "      <th></th>\n",
       "    </tr>\n",
       "  </thead>\n",
       "  <tbody>\n",
       "    <tr>\n",
       "      <th>CPC</th>\n",
       "      <td>0.024107</td>\n",
       "    </tr>\n",
       "    <tr>\n",
       "      <th>CPM</th>\n",
       "      <td>0.019467</td>\n",
       "    </tr>\n",
       "  </tbody>\n",
       "</table>\n",
       "</div>"
      ],
      "text/plain": [
       "event              ctr\n",
       "ad_cost_type          \n",
       "CPC           0.024107\n",
       "CPM           0.019467"
      ]
     },
     "execution_count": 15,
     "metadata": {},
     "output_type": "execute_result"
    }
   ],
   "source": [
    "cost_type_df.groupby('ad_cost_type').agg({'ctr':'mean'})"
   ]
  },
  {
   "cell_type": "code",
   "execution_count": 16,
   "id": "8d0dea78",
   "metadata": {
    "ExecuteTime": {
     "end_time": "2025-04-02T16:40:58.533115Z",
     "start_time": "2025-04-02T16:40:58.413934Z"
    }
   },
   "outputs": [
    {
     "name": "stderr",
     "output_type": "stream",
     "text": [
      "C:\\Users\\spit\\AppData\\Local\\Temp\\ipykernel_5832\\1730320536.py:1: UserWarning: \n",
      "\n",
      "`distplot` is a deprecated function and will be removed in seaborn v0.14.0.\n",
      "\n",
      "Please adapt your code to use either `displot` (a figure-level function with\n",
      "similar flexibility) or `histplot` (an axes-level function for histograms).\n",
      "\n",
      "For a guide to updating your code to use the new functions, please see\n",
      "https://gist.github.com/mwaskom/de44147ed2974457ad6372750bbe5751\n",
      "\n",
      "  sns.distplot(np.log(cost_type_df.ctr))\n"
     ]
    },
    {
     "data": {
      "text/plain": [
       "<Axes: xlabel='ctr', ylabel='Density'>"
      ]
     },
     "execution_count": 16,
     "metadata": {},
     "output_type": "execute_result"
    },
    {
     "data": {
      "image/png": "[encoded data removed]",
      "text/plain": [
       "<Figure size 640x480 with 1 Axes>"
      ]
     },
     "metadata": {},
     "output_type": "display_data"
    }
   ],
   "source": [
    "sns.distplot(np.log(cost_type_df.ctr))"
   ]
  },
  {
   "cell_type": "code",
   "execution_count": 17,
   "id": "e60d48e5",
   "metadata": {
    "ExecuteTime": {
     "end_time": "2025-04-02T16:40:58.662114Z",
     "start_time": "2025-04-02T16:40:58.534115Z"
    }
   },
   "outputs": [
    {
     "name": "stderr",
     "output_type": "stream",
     "text": [
      "C:\\Users\\spit\\AppData\\Local\\Temp\\ipykernel_5832\\3858719707.py:1: UserWarning: \n",
      "\n",
      "`distplot` is a deprecated function and will be removed in seaborn v0.14.0.\n",
      "\n",
      "Please adapt your code to use either `displot` (a figure-level function with\n",
      "similar flexibility) or `histplot` (an axes-level function for histograms).\n",
      "\n",
      "For a guide to updating your code to use the new functions, please see\n",
      "https://gist.github.com/mwaskom/de44147ed2974457ad6372750bbe5751\n",
      "\n",
      "  sns.distplot(cost_type_df.ctr)\n"
     ]
    },
    {
     "data": {
      "text/plain": [
       "<Axes: xlabel='ctr', ylabel='Density'>"
      ]
     },
     "execution_count": 17,
     "metadata": {},
     "output_type": "execute_result"
    },
    {
     "data": {
      "image/png": "[encoded data removed]",
      "text/plain": [
       "<Figure size 640x480 with 1 Axes>"
      ]
     },
     "metadata": {},
     "output_type": "display_data"
    }
   ],
   "source": [
    "sns.distplot(cost_type_df.ctr)"
   ]
  },
  {
   "cell_type": "code",
   "execution_count": 18,
   "id": "55e9c929",
   "metadata": {
    "ExecuteTime": {
     "end_time": "2025-04-02T16:40:58.672114Z",
     "start_time": "2025-04-02T16:40:58.663112Z"
    }
   },
   "outputs": [
    {
     "data": {
      "text/html": [
       "<div>\n",
       "<style scoped>\n",
       "    .dataframe tbody tr th:only-of-type {\n",
       "        vertical-align: middle;\n",
       "    }\n",
       "\n",
       "    .dataframe tbody tr th {\n",
       "        vertical-align: top;\n",
       "    }\n",
       "\n",
       "    .dataframe thead th {\n",
       "        text-align: right;\n",
       "    }\n",
       "</style>\n",
       "<table border=\"1\" class=\"dataframe\">\n",
       "  <thead>\n",
       "    <tr style=\"text-align: right;\">\n",
       "      <th>event</th>\n",
       "      <th>ad_id</th>\n",
       "      <th>ad_cost_type</th>\n",
       "      <th>click</th>\n",
       "      <th>view</th>\n",
       "      <th>ctr</th>\n",
       "      <th>ctr_log</th>\n",
       "    </tr>\n",
       "  </thead>\n",
       "  <tbody>\n",
       "    <tr>\n",
       "      <th>0</th>\n",
       "      <td>3</td>\n",
       "      <td>CPC</td>\n",
       "      <td>9.0</td>\n",
       "      <td>490.0</td>\n",
       "      <td>0.018367</td>\n",
       "      <td>-3.997181</td>\n",
       "    </tr>\n",
       "    <tr>\n",
       "      <th>2</th>\n",
       "      <td>2276</td>\n",
       "      <td>CPC</td>\n",
       "      <td>2.0</td>\n",
       "      <td>1454.0</td>\n",
       "      <td>0.001376</td>\n",
       "      <td>-6.588926</td>\n",
       "    </tr>\n",
       "    <tr>\n",
       "      <th>4</th>\n",
       "      <td>2643</td>\n",
       "      <td>CPM</td>\n",
       "      <td>3.0</td>\n",
       "      <td>286.0</td>\n",
       "      <td>0.010490</td>\n",
       "      <td>-4.557380</td>\n",
       "    </tr>\n",
       "    <tr>\n",
       "      <th>5</th>\n",
       "      <td>4585</td>\n",
       "      <td>CPC</td>\n",
       "      <td>53.0</td>\n",
       "      <td>476.0</td>\n",
       "      <td>0.111345</td>\n",
       "      <td>-2.195126</td>\n",
       "    </tr>\n",
       "    <tr>\n",
       "      <th>6</th>\n",
       "      <td>4877</td>\n",
       "      <td>CPC</td>\n",
       "      <td>5.0</td>\n",
       "      <td>2160.0</td>\n",
       "      <td>0.002315</td>\n",
       "      <td>-6.068426</td>\n",
       "    </tr>\n",
       "    <tr>\n",
       "      <th>...</th>\n",
       "      <td>...</td>\n",
       "      <td>...</td>\n",
       "      <td>...</td>\n",
       "      <td>...</td>\n",
       "      <td>...</td>\n",
       "      <td>...</td>\n",
       "    </tr>\n",
       "    <tr>\n",
       "      <th>350</th>\n",
       "      <td>121941</td>\n",
       "      <td>CPM</td>\n",
       "      <td>1.0</td>\n",
       "      <td>640.0</td>\n",
       "      <td>0.001563</td>\n",
       "      <td>-6.461468</td>\n",
       "    </tr>\n",
       "    <tr>\n",
       "      <th>351</th>\n",
       "      <td>121943</td>\n",
       "      <td>CPC</td>\n",
       "      <td>15.0</td>\n",
       "      <td>1722.0</td>\n",
       "      <td>0.008711</td>\n",
       "      <td>-4.743191</td>\n",
       "    </tr>\n",
       "    <tr>\n",
       "      <th>352</th>\n",
       "      <td>122042</td>\n",
       "      <td>CPM</td>\n",
       "      <td>1.0</td>\n",
       "      <td>155.0</td>\n",
       "      <td>0.006452</td>\n",
       "      <td>-5.043425</td>\n",
       "    </tr>\n",
       "    <tr>\n",
       "      <th>353</th>\n",
       "      <td>122063</td>\n",
       "      <td>CPM</td>\n",
       "      <td>1.0</td>\n",
       "      <td>260.0</td>\n",
       "      <td>0.003846</td>\n",
       "      <td>-5.560682</td>\n",
       "    </tr>\n",
       "    <tr>\n",
       "      <th>354</th>\n",
       "      <td>122086</td>\n",
       "      <td>CPC</td>\n",
       "      <td>50.0</td>\n",
       "      <td>1999.0</td>\n",
       "      <td>0.025013</td>\n",
       "      <td>-3.688379</td>\n",
       "    </tr>\n",
       "  </tbody>\n",
       "</table>\n",
       "<p>302 rows × 6 columns</p>\n",
       "</div>"
      ],
      "text/plain": [
       "event   ad_id ad_cost_type  click    view       ctr   ctr_log\n",
       "0           3          CPC    9.0   490.0  0.018367 -3.997181\n",
       "2        2276          CPC    2.0  1454.0  0.001376 -6.588926\n",
       "4        2643          CPM    3.0   286.0  0.010490 -4.557380\n",
       "5        4585          CPC   53.0   476.0  0.111345 -2.195126\n",
       "6        4877          CPC    5.0  2160.0  0.002315 -6.068426\n",
       "..        ...          ...    ...     ...       ...       ...\n",
       "350    121941          CPM    1.0   640.0  0.001563 -6.461468\n",
       "351    121943          CPC   15.0  1722.0  0.008711 -4.743191\n",
       "352    122042          CPM    1.0   155.0  0.006452 -5.043425\n",
       "353    122063          CPM    1.0   260.0  0.003846 -5.560682\n",
       "354    122086          CPC   50.0  1999.0  0.025013 -3.688379\n",
       "\n",
       "[302 rows x 6 columns]"
      ]
     },
     "execution_count": 18,
     "metadata": {},
     "output_type": "execute_result"
    }
   ],
   "source": [
    "cost_type_df"
   ]
  },
  {
   "cell_type": "code",
   "execution_count": 19,
   "id": "b9412a73",
   "metadata": {
    "ExecuteTime": {
     "end_time": "2025-04-02T16:40:58.679489Z",
     "start_time": "2025-04-02T16:40:58.674115Z"
    }
   },
   "outputs": [
    {
     "data": {
      "text/plain": [
       "0     -3.997181\n",
       "2     -6.588926\n",
       "5     -2.195126\n",
       "6     -6.068426\n",
       "7     -3.704823\n",
       "11    -5.831882\n",
       "13    -4.018549\n",
       "14    -4.766438\n",
       "15    -2.523226\n",
       "17    -4.884694\n",
       "19    -6.898715\n",
       "20    -4.655863\n",
       "21    -4.139159\n",
       "25    -3.061386\n",
       "31    -3.212187\n",
       "32    -3.459466\n",
       "34    -3.356746\n",
       "37    -6.362597\n",
       "52    -4.897840\n",
       "54    -4.826712\n",
       "82    -4.801285\n",
       "106   -4.525405\n",
       "117   -5.284218\n",
       "120   -4.695011\n",
       "125   -1.787876\n",
       "151   -4.882802\n",
       "155   -3.107436\n",
       "228   -3.791737\n",
       "245   -4.586242\n",
       "254   -4.686952\n",
       "255   -4.881286\n",
       "256   -3.309630\n",
       "258   -3.222790\n",
       "259   -3.530553\n",
       "266   -5.755215\n",
       "270   -3.367296\n",
       "279   -3.672496\n",
       "284   -2.981276\n",
       "295   -2.484907\n",
       "300   -4.337291\n",
       "301   -4.424847\n",
       "304   -4.789573\n",
       "306   -4.382027\n",
       "321   -3.719651\n",
       "322   -5.499215\n",
       "332   -4.465908\n",
       "333   -3.258097\n",
       "334   -4.409763\n",
       "335   -7.006695\n",
       "336   -4.421247\n",
       "337   -6.312944\n",
       "340   -7.013016\n",
       "348   -2.768245\n",
       "351   -4.743191\n",
       "354   -3.688379\n",
       "Name: ctr_log, dtype: float64"
      ]
     },
     "execution_count": 19,
     "metadata": {},
     "output_type": "execute_result"
    }
   ],
   "source": [
    "cost_type_df[cost_type_df.ad_cost_type =='CPC'].ctr_log"
   ]
  },
  {
   "cell_type": "code",
   "execution_count": 20,
   "id": "b52170fd",
   "metadata": {
    "ExecuteTime": {
     "end_time": "2025-04-02T16:40:58.686443Z",
     "start_time": "2025-04-02T16:40:58.680486Z"
    }
   },
   "outputs": [
    {
     "data": {
      "text/plain": [
       "4     -4.557380\n",
       "8     -3.751854\n",
       "9     -4.143135\n",
       "10    -3.392269\n",
       "12    -4.727388\n",
       "         ...   \n",
       "346   -3.533687\n",
       "349   -4.424847\n",
       "350   -6.461468\n",
       "352   -5.043425\n",
       "353   -5.560682\n",
       "Name: ctr_log, Length: 247, dtype: float64"
      ]
     },
     "execution_count": 20,
     "metadata": {},
     "output_type": "execute_result"
    }
   ],
   "source": [
    "cost_type_df[cost_type_df.ad_cost_type =='CPM'].ctr_log"
   ]
  },
  {
   "cell_type": "code",
   "execution_count": 21,
   "id": "6c2aed10",
   "metadata": {
    "ExecuteTime": {
     "end_time": "2025-04-02T16:40:58.694555Z",
     "start_time": "2025-04-02T16:40:58.687440Z"
    }
   },
   "outputs": [
    {
     "data": {
      "text/plain": [
       "TtestResult(statistic=1.1407296867039143, pvalue=0.25489224816951805, df=300.0)"
      ]
     },
     "execution_count": 21,
     "metadata": {},
     "output_type": "execute_result"
    }
   ],
   "source": [
    "ttest_ind(cost_type_df[cost_type_df.ad_cost_type =='CPC'].ctr_log,\n",
    "         cost_type_df[cost_type_df.ad_cost_type =='CPM'].ctr_log)"
   ]
  },
  {
   "cell_type": "markdown",
   "id": "e5647ca9",
   "metadata": {},
   "source": [
    "если бы была верна 0 гипотиза(ctrы ad_cost_type CPC и CPM отличаются), то вероянтность получить такие или еще более экстремальные данные составили бы 25%. Мы не смогли отклонить гипотизу, о том что ctrы ad_cost_type CPC и CPM отличаются. \\\n",
    "скорее всего различаются из-за рандома"
   ]
  },
  {
   "cell_type": "code",
   "execution_count": 22,
   "id": "a20c6f61",
   "metadata": {
    "ExecuteTime": {
     "end_time": "2025-04-02T16:40:58.701571Z",
     "start_time": "2025-04-02T16:40:58.695551Z"
    }
   },
   "outputs": [],
   "source": [
    "platform_df = df.groupby(['ad_id', 'platform'], as_index=False) \\\n",
    "    .agg({'click':'sum', 'view':'sum'})"
   ]
  },
  {
   "cell_type": "code",
   "execution_count": 23,
   "id": "b7b9dc43",
   "metadata": {
    "ExecuteTime": {
     "end_time": "2025-04-02T16:40:58.708848Z",
     "start_time": "2025-04-02T16:40:58.702571Z"
    }
   },
   "outputs": [],
   "source": [
    "platform_df = platform_df.query('view > 100 & click > 0')"
   ]
  },
  {
   "cell_type": "code",
   "execution_count": 24,
   "id": "9a27a0fb",
   "metadata": {
    "ExecuteTime": {
     "end_time": "2025-04-02T16:40:58.713302Z",
     "start_time": "2025-04-02T16:40:58.709846Z"
    }
   },
   "outputs": [],
   "source": [
    "platform_df['ctr'] = platform_df.click / platform_df.view"
   ]
  },
  {
   "cell_type": "code",
   "execution_count": 25,
   "id": "66ca04f5",
   "metadata": {
    "ExecuteTime": {
     "end_time": "2025-04-02T16:40:58.719300Z",
     "start_time": "2025-04-02T16:40:58.715300Z"
    }
   },
   "outputs": [],
   "source": [
    "platform_df['ctr_log'] = np.log(platform_df.click / platform_df.view)"
   ]
  },
  {
   "cell_type": "code",
   "execution_count": 26,
   "id": "64eb467d",
   "metadata": {
    "ExecuteTime": {
     "end_time": "2025-04-02T16:40:58.728301Z",
     "start_time": "2025-04-02T16:40:58.720302Z"
    },
    "scrolled": true
   },
   "outputs": [
    {
     "data": {
      "text/html": [
       "<div>\n",
       "<style scoped>\n",
       "    .dataframe tbody tr th:only-of-type {\n",
       "        vertical-align: middle;\n",
       "    }\n",
       "\n",
       "    .dataframe tbody tr th {\n",
       "        vertical-align: top;\n",
       "    }\n",
       "\n",
       "    .dataframe thead th {\n",
       "        text-align: right;\n",
       "    }\n",
       "</style>\n",
       "<table border=\"1\" class=\"dataframe\">\n",
       "  <thead>\n",
       "    <tr style=\"text-align: right;\">\n",
       "      <th>event</th>\n",
       "      <th>ad_id</th>\n",
       "      <th>platform</th>\n",
       "      <th>click</th>\n",
       "      <th>view</th>\n",
       "      <th>ctr</th>\n",
       "      <th>ctr_log</th>\n",
       "    </tr>\n",
       "  </thead>\n",
       "  <tbody>\n",
       "    <tr>\n",
       "      <th>0</th>\n",
       "      <td>3</td>\n",
       "      <td>android</td>\n",
       "      <td>5.0</td>\n",
       "      <td>244.0</td>\n",
       "      <td>0.020492</td>\n",
       "      <td>-3.887730</td>\n",
       "    </tr>\n",
       "    <tr>\n",
       "      <th>1</th>\n",
       "      <td>3</td>\n",
       "      <td>ios</td>\n",
       "      <td>3.0</td>\n",
       "      <td>147.0</td>\n",
       "      <td>0.020408</td>\n",
       "      <td>-3.891820</td>\n",
       "    </tr>\n",
       "    <tr>\n",
       "      <th>6</th>\n",
       "      <td>2276</td>\n",
       "      <td>android</td>\n",
       "      <td>2.0</td>\n",
       "      <td>703.0</td>\n",
       "      <td>0.002845</td>\n",
       "      <td>-5.862210</td>\n",
       "    </tr>\n",
       "    <tr>\n",
       "      <th>15</th>\n",
       "      <td>4585</td>\n",
       "      <td>android</td>\n",
       "      <td>17.0</td>\n",
       "      <td>224.0</td>\n",
       "      <td>0.075893</td>\n",
       "      <td>-2.578433</td>\n",
       "    </tr>\n",
       "    <tr>\n",
       "      <th>16</th>\n",
       "      <td>4585</td>\n",
       "      <td>ios</td>\n",
       "      <td>24.0</td>\n",
       "      <td>148.0</td>\n",
       "      <td>0.162162</td>\n",
       "      <td>-1.819158</td>\n",
       "    </tr>\n",
       "  </tbody>\n",
       "</table>\n",
       "</div>"
      ],
      "text/plain": [
       "event  ad_id platform  click   view       ctr   ctr_log\n",
       "0          3  android    5.0  244.0  0.020492 -3.887730\n",
       "1          3      ios    3.0  147.0  0.020408 -3.891820\n",
       "6       2276  android    2.0  703.0  0.002845 -5.862210\n",
       "15      4585  android   17.0  224.0  0.075893 -2.578433\n",
       "16      4585      ios   24.0  148.0  0.162162 -1.819158"
      ]
     },
     "execution_count": 26,
     "metadata": {},
     "output_type": "execute_result"
    }
   ],
   "source": [
    "platform_df.head()"
   ]
  },
  {
   "cell_type": "code",
   "execution_count": 27,
   "id": "e1c01f07",
   "metadata": {
    "ExecuteTime": {
     "end_time": "2025-04-02T16:40:58.827820Z",
     "start_time": "2025-04-02T16:40:58.729299Z"
    }
   },
   "outputs": [
    {
     "data": {
      "text/plain": [
       "<Axes: xlabel='platform', ylabel='ctr_log'>"
      ]
     },
     "execution_count": 27,
     "metadata": {},
     "output_type": "execute_result"
    },
    {
     "data": {
      "image/png": "[encoded data removed]",
      "text/plain": [
       "<Figure size 640x480 with 1 Axes>"
      ]
     },
     "metadata": {},
     "output_type": "display_data"
    }
   ],
   "source": [
    "sns.boxplot(x='platform', y = 'ctr_log', data =platform_df )"
   ]
  },
  {
   "cell_type": "code",
   "execution_count": 28,
   "id": "88bf5368",
   "metadata": {
    "ExecuteTime": {
     "end_time": "2025-04-02T16:40:58.949948Z",
     "start_time": "2025-04-02T16:40:58.828823Z"
    }
   },
   "outputs": [
    {
     "name": "stderr",
     "output_type": "stream",
     "text": [
      "C:\\Users\\spit\\AppData\\Local\\Temp\\ipykernel_5832\\765944427.py:1: UserWarning: \n",
      "\n",
      "`distplot` is a deprecated function and will be removed in seaborn v0.14.0.\n",
      "\n",
      "Please adapt your code to use either `displot` (a figure-level function with\n",
      "similar flexibility) or `histplot` (an axes-level function for histograms).\n",
      "\n",
      "For a guide to updating your code to use the new functions, please see\n",
      "https://gist.github.com/mwaskom/de44147ed2974457ad6372750bbe5751\n",
      "\n",
      "  sns.distplot(platform_df.ctr_log)\n"
     ]
    },
    {
     "data": {
      "text/plain": [
       "<Axes: xlabel='ctr_log', ylabel='Density'>"
      ]
     },
     "execution_count": 28,
     "metadata": {},
     "output_type": "execute_result"
    },
    {
     "data": {
      "image/png": "[encoded data removed]",
      "text/plain": [
       "<Figure size 640x480 with 1 Axes>"
      ]
     },
     "metadata": {},
     "output_type": "display_data"
    }
   ],
   "source": [
    "sns.distplot(platform_df.ctr_log)"
   ]
  },
  {
   "cell_type": "code",
   "execution_count": 29,
   "id": "85eb330a",
   "metadata": {
    "ExecuteTime": {
     "end_time": "2025-04-02T17:19:56.506095Z",
     "start_time": "2025-04-02T17:19:56.499247Z"
    }
   },
   "outputs": [
    {
     "data": {
      "text/html": [
       "<div>\n",
       "<style scoped>\n",
       "    .dataframe tbody tr th:only-of-type {\n",
       "        vertical-align: middle;\n",
       "    }\n",
       "\n",
       "    .dataframe tbody tr th {\n",
       "        vertical-align: top;\n",
       "    }\n",
       "\n",
       "    .dataframe thead th {\n",
       "        text-align: right;\n",
       "    }\n",
       "</style>\n",
       "<table border=\"1\" class=\"dataframe\">\n",
       "  <thead>\n",
       "    <tr style=\"text-align: right;\">\n",
       "      <th>event</th>\n",
       "      <th>ctr</th>\n",
       "    </tr>\n",
       "    <tr>\n",
       "      <th>platform</th>\n",
       "      <th></th>\n",
       "    </tr>\n",
       "  </thead>\n",
       "  <tbody>\n",
       "    <tr>\n",
       "      <th>android</th>\n",
       "      <td>0.010695</td>\n",
       "    </tr>\n",
       "    <tr>\n",
       "      <th>ios</th>\n",
       "      <td>0.009554</td>\n",
       "    </tr>\n",
       "    <tr>\n",
       "      <th>web</th>\n",
       "      <td>0.011213</td>\n",
       "    </tr>\n",
       "  </tbody>\n",
       "</table>\n",
       "</div>"
      ],
      "text/plain": [
       "event          ctr\n",
       "platform          \n",
       "android   0.010695\n",
       "ios       0.009554\n",
       "web       0.011213"
      ]
     },
     "execution_count": 29,
     "metadata": {},
     "output_type": "execute_result"
    }
   ],
   "source": [
    "platform_df.groupby('platform').agg({'ctr':'median'})"
   ]
  },
  {
   "cell_type": "code",
   "execution_count": 31,
   "id": "b789079b",
   "metadata": {
    "ExecuteTime": {
     "end_time": "2025-04-02T17:22:41.253289Z",
     "start_time": "2025-04-02T17:22:41.246873Z"
    }
   },
   "outputs": [
    {
     "data": {
      "text/plain": [
       "TtestResult(statistic=0.37737835082801163, pvalue=0.7060862996066313, df=413.0)"
      ]
     },
     "execution_count": 31,
     "metadata": {},
     "output_type": "execute_result"
    }
   ],
   "source": [
    "ttest_ind(platform_df[platform_df.platform =='android'].ctr_log,\n",
    "         platform_df[platform_df.platform =='ios'].ctr_log)"
   ]
  },
  {
   "cell_type": "code",
   "execution_count": 35,
   "id": "2dc35dd6",
   "metadata": {
    "ExecuteTime": {
     "end_time": "2025-04-02T17:24:31.354792Z",
     "start_time": "2025-04-02T17:24:31.349221Z"
    }
   },
   "outputs": [
    {
     "data": {
      "text/plain": [
       "F_onewayResult(statistic=0.12221144552264519, pvalue=0.884985296331977)"
      ]
     },
     "execution_count": 35,
     "metadata": {},
     "output_type": "execute_result"
    }
   ],
   "source": [
    "f_oneway(platform_df[platform_df.platform =='android'].ctr_log,\n",
    "        platform_df[platform_df.platform =='ios'].ctr_log,\n",
    "        platform_df[platform_df.platform =='web'].ctr_log)"
   ]
  },
  {
   "cell_type": "markdown",
   "id": "c799a61c",
   "metadata": {},
   "source": [
    "3 группы стат занчимо не разливаются"
   ]
  },
  {
   "cell_type": "markdown",
   "id": "feece3eb",
   "metadata": {},
   "source": [
    "f_oneway 0 гипотиза что средняя 1 группы отличается от других групп"
   ]
  },
  {
   "cell_type": "code",
   "execution_count": null,
   "id": "bbd1552d",
   "metadata": {},
   "outputs": [],
   "source": []
  },
  {
   "cell_type": "code",
   "execution_count": null,
   "id": "50a8f933",
   "metadata": {},
   "outputs": [],
   "source": []
  },
  {
   "cell_type": "code",
   "execution_count": null,
   "id": "4ec2c68f",
   "metadata": {},
   "outputs": [],
   "source": []
  },
  {
   "cell_type": "code",
   "execution_count": null,
   "id": "85a8f308",
   "metadata": {},
   "outputs": [],
   "source": []
  }
 ],
 "metadata": {
  "kernelspec": {
   "display_name": "Python 3 (ipykernel)",
   "language": "python",
   "name": "python3"
  },
  "language_info": {
   "codemirror_mode": {
    "name": "ipython",
    "version": 3
   },
   "file_extension": ".py",
   "mimetype": "text/x-python",
   "name": "python",
   "nbconvert_exporter": "python",
   "pygments_lexer": "ipython3",
   "version": "3.12.3"
  },
  "varInspector": {
   "cols": {
    "lenName": 16,
    "lenType": 16,
    "lenVar": 40
   },
   "kernels_config": {
    "python": {
     "delete_cmd_postfix": "",
     "delete_cmd_prefix": "del ",
     "library": "var_list.py",
     "varRefreshCmd": "print(var_dic_list())"
    },
    "r": {
     "delete_cmd_postfix": ") ",
     "delete_cmd_prefix": "rm(",
     "library": "var_list.r",
     "varRefreshCmd": "cat(var_dic_list()) "
    }
   },
   "types_to_exclude": [
    "module",
    "function",
    "builtin_function_or_method",
    "instance",
    "_Feature"
   ],
   "window_display": false
  }
 },
 "nbformat": 4,
 "nbformat_minor": 5
}
