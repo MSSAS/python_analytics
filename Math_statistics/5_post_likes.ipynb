{
 "cells": [
  {
   "cell_type": "markdown",
   "id": "bd3fee77",
   "metadata": {},
   "source": [
    "Anova in Python"
   ]
  },
  {
   "cell_type": "code",
   "execution_count": 1,
   "id": "b7647a36",
   "metadata": {
    "ExecuteTime": {
     "end_time": "2025-04-07T19:48:50.580720Z",
     "start_time": "2025-04-07T19:48:47.707988Z"
    }
   },
   "outputs": [],
   "source": [
    "import pandas as pd\n",
    "import numpy as np\n",
    "\n",
    "import scipy.stats as ss\n",
    "import statsmodels.api as sm\n",
    "import statsmodels.formula.api as smf\n",
    "from statsmodels.stats.api import anova_lm\n",
    "from statsmodels.stats.multicomp import (pairwise_tukeyhsd, MultiComparison)\n",
    "\n",
    "import pingouin as pg\n",
    "\n",
    "import seaborn as sns "
   ]
  },
  {
   "cell_type": "code",
   "execution_count": 2,
   "id": "e699a823",
   "metadata": {
    "ExecuteTime": {
     "end_time": "2025-04-07T19:48:50.594916Z",
     "start_time": "2025-04-07T19:48:50.582923Z"
    }
   },
   "outputs": [],
   "source": [
    "post_likes = pd.read_csv('C:/Users/spit/Desktop/math/5/class/5 post_likes.csv')"
   ]
  },
  {
   "cell_type": "code",
   "execution_count": 3,
   "id": "c93934fa",
   "metadata": {
    "ExecuteTime": {
     "end_time": "2025-04-07T19:48:50.605698Z",
     "start_time": "2025-04-07T19:48:50.594916Z"
    }
   },
   "outputs": [
    {
     "data": {
      "text/html": [
       "<div>\n",
       "<style scoped>\n",
       "    .dataframe tbody tr th:only-of-type {\n",
       "        vertical-align: middle;\n",
       "    }\n",
       "\n",
       "    .dataframe tbody tr th {\n",
       "        vertical-align: top;\n",
       "    }\n",
       "\n",
       "    .dataframe thead th {\n",
       "        text-align: right;\n",
       "    }\n",
       "</style>\n",
       "<table border=\"1\" class=\"dataframe\">\n",
       "  <thead>\n",
       "    <tr style=\"text-align: right;\">\n",
       "      <th></th>\n",
       "      <th>id</th>\n",
       "      <th>button</th>\n",
       "      <th>likes</th>\n",
       "    </tr>\n",
       "  </thead>\n",
       "  <tbody>\n",
       "    <tr>\n",
       "      <th>0</th>\n",
       "      <td>S001</td>\n",
       "      <td>red</td>\n",
       "      <td>160</td>\n",
       "    </tr>\n",
       "    <tr>\n",
       "      <th>1</th>\n",
       "      <td>S002</td>\n",
       "      <td>red</td>\n",
       "      <td>150</td>\n",
       "    </tr>\n",
       "    <tr>\n",
       "      <th>2</th>\n",
       "      <td>S003</td>\n",
       "      <td>red</td>\n",
       "      <td>150</td>\n",
       "    </tr>\n",
       "    <tr>\n",
       "      <th>3</th>\n",
       "      <td>S004</td>\n",
       "      <td>red</td>\n",
       "      <td>150</td>\n",
       "    </tr>\n",
       "    <tr>\n",
       "      <th>4</th>\n",
       "      <td>S005</td>\n",
       "      <td>red</td>\n",
       "      <td>187</td>\n",
       "    </tr>\n",
       "  </tbody>\n",
       "</table>\n",
       "</div>"
      ],
      "text/plain": [
       "     id button  likes\n",
       "0  S001    red    160\n",
       "1  S002    red    150\n",
       "2  S003    red    150\n",
       "3  S004    red    150\n",
       "4  S005    red    187"
      ]
     },
     "execution_count": 3,
     "metadata": {},
     "output_type": "execute_result"
    }
   ],
   "source": [
    "post_likes.head()"
   ]
  },
  {
   "cell_type": "code",
   "execution_count": 4,
   "id": "09313c91",
   "metadata": {
    "ExecuteTime": {
     "end_time": "2025-04-07T19:48:50.610409Z",
     "start_time": "2025-04-07T19:48:50.607062Z"
    }
   },
   "outputs": [
    {
     "data": {
      "text/plain": [
       "array(['red', 'green', 'blue'], dtype=object)"
      ]
     },
     "execution_count": 4,
     "metadata": {},
     "output_type": "execute_result"
    }
   ],
   "source": [
    "post_likes.button.unique()"
   ]
  },
  {
   "cell_type": "code",
   "execution_count": null,
   "id": "707caa34",
   "metadata": {},
   "outputs": [],
   "source": []
  },
  {
   "cell_type": "code",
   "execution_count": null,
   "id": "94ab8eec",
   "metadata": {},
   "outputs": [],
   "source": []
  },
  {
   "cell_type": "code",
   "execution_count": 5,
   "id": "9228ec2d",
   "metadata": {
    "ExecuteTime": {
     "end_time": "2025-04-07T19:48:50.746226Z",
     "start_time": "2025-04-07T19:48:50.612391Z"
    },
    "scrolled": false
   },
   "outputs": [
    {
     "name": "stderr",
     "output_type": "stream",
     "text": [
      "C:\\Users\\spit\\AppData\\Local\\Temp\\ipykernel_7148\\2151973330.py:1: FutureWarning: \n",
      "\n",
      "Passing `palette` without assigning `hue` is deprecated and will be removed in v0.14.0. Assign the `x` variable to `hue` and set `legend=False` for the same effect.\n",
      "\n",
      "  sns.boxplot(x='button', y='likes', data=post_likes, palette=['r','g','b'])\n"
     ]
    },
    {
     "data": {
      "text/plain": [
       "<Axes: xlabel='button', ylabel='likes'>"
      ]
     },
     "execution_count": 5,
     "metadata": {},
     "output_type": "execute_result"
    },
    {
     "data": {
      "image/png": "[encoded data removed]",
      "text/plain": [
       "<Figure size 640x480 with 1 Axes>"
      ]
     },
     "metadata": {},
     "output_type": "display_data"
    }
   ],
   "source": [
    "sns.boxplot(x='button', y='likes', data=post_likes, palette=['r','g','b'])"
   ]
  },
  {
   "cell_type": "code",
   "execution_count": null,
   "id": "912a6b60",
   "metadata": {},
   "outputs": [],
   "source": []
  },
  {
   "cell_type": "code",
   "execution_count": null,
   "id": "b41b7e71",
   "metadata": {},
   "outputs": [],
   "source": []
  },
  {
   "cell_type": "code",
   "execution_count": null,
   "id": "a9bce13f",
   "metadata": {},
   "outputs": [],
   "source": []
  },
  {
   "cell_type": "code",
   "execution_count": 6,
   "id": "6474374a",
   "metadata": {
    "ExecuteTime": {
     "end_time": "2025-04-07T19:48:50.847330Z",
     "start_time": "2025-04-07T19:48:50.746226Z"
    }
   },
   "outputs": [
    {
     "name": "stderr",
     "output_type": "stream",
     "text": [
      "C:\\Users\\spit\\AppData\\Local\\Temp\\ipykernel_7148\\3385918453.py:2: FutureWarning: \n",
      "\n",
      "Passing `palette` without assigning `hue` is deprecated and will be removed in v0.14.0. Assign the `x` variable to `hue` and set `legend=False` for the same effect.\n",
      "\n",
      "  sns.violinplot(x='button', y='likes', data=post_likes, palette=['r','g','b'])\n"
     ]
    },
    {
     "data": {
      "text/plain": [
       "<Axes: xlabel='button', ylabel='likes'>"
      ]
     },
     "execution_count": 6,
     "metadata": {},
     "output_type": "execute_result"
    },
    {
     "data": {
      "image/png": "[encoded data removed]",
      "text/plain": [
       "<Figure size 640x480 with 1 Axes>"
      ]
     },
     "metadata": {},
     "output_type": "display_data"
    }
   ],
   "source": [
    "#показываетк какая форма у распределения\n",
    "sns.violinplot(x='button', y='likes', data=post_likes, palette=['r','g','b'])"
   ]
  },
  {
   "cell_type": "markdown",
   "id": "fc0d3911",
   "metadata": {},
   "source": [
    "#### Три способа посчитать однофакторный ANOVA:"
   ]
  },
  {
   "cell_type": "code",
   "execution_count": 7,
   "id": "bd3a0ed9",
   "metadata": {
    "ExecuteTime": {
     "end_time": "2025-04-07T19:48:50.855833Z",
     "start_time": "2025-04-07T19:48:50.848611Z"
    }
   },
   "outputs": [],
   "source": [
    "# через scipy\n",
    "\n",
    "red = post_likes.query(\"button == 'red'\").likes\n",
    "green = post_likes.query(\"button == 'green'\").likes\n",
    "blue = post_likes.query(\"button == 'blue'\").likes"
   ]
  },
  {
   "cell_type": "code",
   "execution_count": 8,
   "id": "d0a269d4",
   "metadata": {
    "ExecuteTime": {
     "end_time": "2025-04-07T19:48:50.861285Z",
     "start_time": "2025-04-07T19:48:50.856957Z"
    }
   },
   "outputs": [
    {
     "data": {
      "text/plain": [
       "F_onewayResult(statistic=85.99631112614011, pvalue=3.4370045810218544e-30)"
      ]
     },
     "execution_count": 8,
     "metadata": {},
     "output_type": "execute_result"
    }
   ],
   "source": [
    "ss.f_oneway(red, green, blue)"
   ]
  },
  {
   "cell_type": "code",
   "execution_count": null,
   "id": "e1866098",
   "metadata": {},
   "outputs": [],
   "source": []
  },
  {
   "cell_type": "code",
   "execution_count": null,
   "id": "e76c09d6",
   "metadata": {},
   "outputs": [],
   "source": []
  },
  {
   "cell_type": "code",
   "execution_count": 9,
   "id": "e4f9a557",
   "metadata": {
    "ExecuteTime": {
     "end_time": "2025-04-07T19:48:50.877770Z",
     "start_time": "2025-04-07T19:48:50.862965Z"
    }
   },
   "outputs": [
    {
     "data": {
      "text/html": [
       "<div>\n",
       "<style scoped>\n",
       "    .dataframe tbody tr th:only-of-type {\n",
       "        vertical-align: middle;\n",
       "    }\n",
       "\n",
       "    .dataframe tbody tr th {\n",
       "        vertical-align: top;\n",
       "    }\n",
       "\n",
       "    .dataframe thead th {\n",
       "        text-align: right;\n",
       "    }\n",
       "</style>\n",
       "<table border=\"1\" class=\"dataframe\">\n",
       "  <thead>\n",
       "    <tr style=\"text-align: right;\">\n",
       "      <th></th>\n",
       "      <th>df</th>\n",
       "      <th>sum_sq</th>\n",
       "      <th>mean_sq</th>\n",
       "      <th>F</th>\n",
       "      <th>PR(&gt;F)</th>\n",
       "    </tr>\n",
       "  </thead>\n",
       "  <tbody>\n",
       "    <tr>\n",
       "      <th>C(button)</th>\n",
       "      <td>2.0</td>\n",
       "      <td>201960.286667</td>\n",
       "      <td>100980.143333</td>\n",
       "      <td>85.996311</td>\n",
       "      <td>3.437005e-30</td>\n",
       "    </tr>\n",
       "    <tr>\n",
       "      <th>Residual</th>\n",
       "      <td>297.0</td>\n",
       "      <td>348748.710000</td>\n",
       "      <td>1174.238081</td>\n",
       "      <td>NaN</td>\n",
       "      <td>NaN</td>\n",
       "    </tr>\n",
       "  </tbody>\n",
       "</table>\n",
       "</div>"
      ],
      "text/plain": [
       "              df         sum_sq        mean_sq          F        PR(>F)\n",
       "C(button)    2.0  201960.286667  100980.143333  85.996311  3.437005e-30\n",
       "Residual   297.0  348748.710000    1174.238081        NaN           NaN"
      ]
     },
     "execution_count": 9,
     "metadata": {},
     "output_type": "execute_result"
    }
   ],
   "source": [
    "#через statsmodel\n",
    "\n",
    "model = smf.ols(formula = \"likes ~ C(button)\", data=post_likes).fit()\n",
    "anova_lm(model)"
   ]
  },
  {
   "cell_type": "code",
   "execution_count": null,
   "id": "59fa4317",
   "metadata": {},
   "outputs": [],
   "source": []
  },
  {
   "cell_type": "code",
   "execution_count": 10,
   "id": "e13c280c",
   "metadata": {
    "ExecuteTime": {
     "end_time": "2025-04-07T19:48:50.892191Z",
     "start_time": "2025-04-07T19:48:50.879009Z"
    }
   },
   "outputs": [
    {
     "data": {
      "text/html": [
       "<div>\n",
       "<style scoped>\n",
       "    .dataframe tbody tr th:only-of-type {\n",
       "        vertical-align: middle;\n",
       "    }\n",
       "\n",
       "    .dataframe tbody tr th {\n",
       "        vertical-align: top;\n",
       "    }\n",
       "\n",
       "    .dataframe thead th {\n",
       "        text-align: right;\n",
       "    }\n",
       "</style>\n",
       "<table border=\"1\" class=\"dataframe\">\n",
       "  <thead>\n",
       "    <tr style=\"text-align: right;\">\n",
       "      <th></th>\n",
       "      <th>Source</th>\n",
       "      <th>ddof1</th>\n",
       "      <th>ddof2</th>\n",
       "      <th>F</th>\n",
       "      <th>p-unc</th>\n",
       "      <th>np2</th>\n",
       "    </tr>\n",
       "  </thead>\n",
       "  <tbody>\n",
       "    <tr>\n",
       "      <th>0</th>\n",
       "      <td>button</td>\n",
       "      <td>2</td>\n",
       "      <td>297</td>\n",
       "      <td>85.996311</td>\n",
       "      <td>3.437005e-30</td>\n",
       "      <td>0.366728</td>\n",
       "    </tr>\n",
       "  </tbody>\n",
       "</table>\n",
       "</div>"
      ],
      "text/plain": [
       "   Source  ddof1  ddof2          F         p-unc       np2\n",
       "0  button      2    297  85.996311  3.437005e-30  0.366728"
      ]
     },
     "execution_count": 10,
     "metadata": {},
     "output_type": "execute_result"
    }
   ],
   "source": [
    "# через pingouin\n",
    "\n",
    "pg.anova(data=post_likes, dv='likes', between='button')"
   ]
  },
  {
   "cell_type": "markdown",
   "id": "58e6f40a",
   "metadata": {
    "ExecuteTime": {
     "end_time": "2025-04-06T01:15:02.878906Z",
     "start_time": "2025-04-06T01:15:02.871728Z"
    }
   },
   "source": [
    "pvalue<5 \\\n",
    "Стат значемы \\\n",
    "разница между кнопками есть"
   ]
  },
  {
   "cell_type": "code",
   "execution_count": null,
   "id": "a1dc9966",
   "metadata": {},
   "outputs": [],
   "source": []
  },
  {
   "cell_type": "code",
   "execution_count": 11,
   "id": "099ca842",
   "metadata": {
    "ExecuteTime": {
     "end_time": "2025-04-07T19:48:51.004966Z",
     "start_time": "2025-04-07T19:48:50.893190Z"
    }
   },
   "outputs": [
    {
     "data": {
      "text/plain": [
       "<Axes: xlabel='button', ylabel='likes'>"
      ]
     },
     "execution_count": 11,
     "metadata": {},
     "output_type": "execute_result"
    },
    {
     "data": {
      "image/png": "[encoded data removed]",
      "text/plain": [
       "<Figure size 640x480 with 1 Axes>"
      ]
     },
     "metadata": {},
     "output_type": "display_data"
    }
   ],
   "source": [
    "# среднее с доверительным интервалом\n",
    "\n",
    "sns.pointplot(x='button', y = 'likes', data = post_likes)"
   ]
  },
  {
   "cell_type": "markdown",
   "id": "1b358078",
   "metadata": {},
   "source": [
    "Тестируем нормальность:"
   ]
  },
  {
   "cell_type": "code",
   "execution_count": 12,
   "id": "b69241e5",
   "metadata": {
    "ExecuteTime": {
     "end_time": "2025-04-07T19:48:51.009762Z",
     "start_time": "2025-04-07T19:48:51.006252Z"
    }
   },
   "outputs": [
    {
     "name": "stdout",
     "output_type": "stream",
     "text": [
      "ShapiroResult(statistic=0.9881042719700356, pvalue=0.5159271795029703)\n",
      "ShapiroResult(statistic=0.9887177694213334, pvalue=0.5625343189802698)\n",
      "ShapiroResult(statistic=0.9937933538295788, pvalue=0.930978144920684)\n"
     ]
    }
   ],
   "source": [
    "print(ss.shapiro(red))\n",
    "print(ss.shapiro(green))\n",
    "print(ss.shapiro(blue))"
   ]
  },
  {
   "cell_type": "code",
   "execution_count": 13,
   "id": "3bcd56f6",
   "metadata": {
    "ExecuteTime": {
     "end_time": "2025-04-07T19:48:51.019219Z",
     "start_time": "2025-04-07T19:48:51.009762Z"
    }
   },
   "outputs": [
    {
     "name": "stdout",
     "output_type": "stream",
     "text": [
      "NormaltestResult(statistic=1.834358590753997, pvalue=0.3996447324611219)\n",
      "NormaltestResult(statistic=0.6727062715909409, pvalue=0.7143707913703767)\n",
      "NormaltestResult(statistic=0.4606964500747045, pvalue=0.7942569741771747)\n"
     ]
    }
   ],
   "source": [
    "# другой вариант\n",
    "\n",
    "print(ss.normaltest(red))\n",
    "print(ss.normaltest(green))\n",
    "print(ss.normaltest(blue))"
   ]
  },
  {
   "cell_type": "code",
   "execution_count": 14,
   "id": "e5b51b33",
   "metadata": {
    "ExecuteTime": {
     "end_time": "2025-04-07T19:48:51.035320Z",
     "start_time": "2025-04-07T19:48:51.021223Z"
    }
   },
   "outputs": [
    {
     "data": {
      "text/html": [
       "<div>\n",
       "<style scoped>\n",
       "    .dataframe tbody tr th:only-of-type {\n",
       "        vertical-align: middle;\n",
       "    }\n",
       "\n",
       "    .dataframe tbody tr th {\n",
       "        vertical-align: top;\n",
       "    }\n",
       "\n",
       "    .dataframe thead th {\n",
       "        text-align: right;\n",
       "    }\n",
       "</style>\n",
       "<table border=\"1\" class=\"dataframe\">\n",
       "  <thead>\n",
       "    <tr style=\"text-align: right;\">\n",
       "      <th></th>\n",
       "      <th>W</th>\n",
       "      <th>pval</th>\n",
       "      <th>normal</th>\n",
       "    </tr>\n",
       "    <tr>\n",
       "      <th>button</th>\n",
       "      <th></th>\n",
       "      <th></th>\n",
       "      <th></th>\n",
       "    </tr>\n",
       "  </thead>\n",
       "  <tbody>\n",
       "    <tr>\n",
       "      <th>red</th>\n",
       "      <td>1.834359</td>\n",
       "      <td>0.399645</td>\n",
       "      <td>True</td>\n",
       "    </tr>\n",
       "    <tr>\n",
       "      <th>green</th>\n",
       "      <td>0.672706</td>\n",
       "      <td>0.714371</td>\n",
       "      <td>True</td>\n",
       "    </tr>\n",
       "    <tr>\n",
       "      <th>blue</th>\n",
       "      <td>0.460696</td>\n",
       "      <td>0.794257</td>\n",
       "      <td>True</td>\n",
       "    </tr>\n",
       "  </tbody>\n",
       "</table>\n",
       "</div>"
      ],
      "text/plain": [
       "               W      pval  normal\n",
       "button                            \n",
       "red     1.834359  0.399645    True\n",
       "green   0.672706  0.714371    True\n",
       "blue    0.460696  0.794257    True"
      ]
     },
     "execution_count": 14,
     "metadata": {},
     "output_type": "execute_result"
    }
   ],
   "source": [
    "# через pingouin\n",
    "\n",
    "pg.normality(data = post_likes, dv=\"likes\", group='button', method='normaltest')"
   ]
  },
  {
   "cell_type": "code",
   "execution_count": 15,
   "id": "bd79fe79",
   "metadata": {
    "ExecuteTime": {
     "end_time": "2025-04-07T19:48:51.188912Z",
     "start_time": "2025-04-07T19:48:51.036572Z"
    }
   },
   "outputs": [
    {
     "data": {
      "text/plain": [
       "<Axes: xlabel='Theoretical quantiles', ylabel='Ordered quantiles'>"
      ]
     },
     "execution_count": 15,
     "metadata": {},
     "output_type": "execute_result"
    },
    {
     "data": {
      "image/png": "[encoded data removed]",
      "text/plain": [
       "<Figure size 640x480 with 1 Axes>"
      ]
     },
     "metadata": {},
     "output_type": "display_data"
    }
   ],
   "source": [
    "# нормальность через квантиль-квантиль графики. Доверительный интервал - пунктиром\n",
    "\n",
    "pg.qqplot(blue)"
   ]
  },
  {
   "cell_type": "markdown",
   "id": "cf7c926b",
   "metadata": {},
   "source": [
    "Тестируем различия в дисперсиях:"
   ]
  },
  {
   "cell_type": "code",
   "execution_count": null,
   "id": "f082c52c",
   "metadata": {},
   "outputs": [],
   "source": []
  },
  {
   "cell_type": "code",
   "execution_count": 16,
   "id": "bd74821a",
   "metadata": {
    "ExecuteTime": {
     "end_time": "2025-04-07T19:48:51.194353Z",
     "start_time": "2025-04-07T19:48:51.188912Z"
    }
   },
   "outputs": [
    {
     "data": {
      "text/plain": [
       "LeveneResult(statistic=35.214282435572876, pvalue=1.8886636651084242e-14)"
      ]
     },
     "execution_count": 16,
     "metadata": {},
     "output_type": "execute_result"
    }
   ],
   "source": [
    "# ченрез scipy\n",
    "\n",
    "ss.levene(red, green, blue)"
   ]
  },
  {
   "cell_type": "code",
   "execution_count": 17,
   "id": "2e597b3e",
   "metadata": {
    "ExecuteTime": {
     "end_time": "2025-04-07T19:48:51.203109Z",
     "start_time": "2025-04-07T19:48:51.195350Z"
    }
   },
   "outputs": [
    {
     "data": {
      "text/html": [
       "<div>\n",
       "<style scoped>\n",
       "    .dataframe tbody tr th:only-of-type {\n",
       "        vertical-align: middle;\n",
       "    }\n",
       "\n",
       "    .dataframe tbody tr th {\n",
       "        vertical-align: top;\n",
       "    }\n",
       "\n",
       "    .dataframe thead th {\n",
       "        text-align: right;\n",
       "    }\n",
       "</style>\n",
       "<table border=\"1\" class=\"dataframe\">\n",
       "  <thead>\n",
       "    <tr style=\"text-align: right;\">\n",
       "      <th></th>\n",
       "      <th>W</th>\n",
       "      <th>pval</th>\n",
       "      <th>equal_var</th>\n",
       "    </tr>\n",
       "  </thead>\n",
       "  <tbody>\n",
       "    <tr>\n",
       "      <th>levene</th>\n",
       "      <td>35.214282</td>\n",
       "      <td>1.888664e-14</td>\n",
       "      <td>False</td>\n",
       "    </tr>\n",
       "  </tbody>\n",
       "</table>\n",
       "</div>"
      ],
      "text/plain": [
       "                W          pval  equal_var\n",
       "levene  35.214282  1.888664e-14      False"
      ]
     },
     "execution_count": 17,
     "metadata": {},
     "output_type": "execute_result"
    }
   ],
   "source": [
    "# ченрез pingouin\n",
    "\n",
    "pg.homoscedasticity(data=post_likes, dv='likes', group='button')"
   ]
  },
  {
   "cell_type": "code",
   "execution_count": null,
   "id": "5adc290e",
   "metadata": {},
   "outputs": [],
   "source": []
  },
  {
   "cell_type": "code",
   "execution_count": 18,
   "id": "520ec098",
   "metadata": {
    "ExecuteTime": {
     "end_time": "2025-04-07T19:48:51.213814Z",
     "start_time": "2025-04-07T19:48:51.203109Z"
    }
   },
   "outputs": [
    {
     "data": {
      "text/html": [
       "<div>\n",
       "<style scoped>\n",
       "    .dataframe tbody tr th:only-of-type {\n",
       "        vertical-align: middle;\n",
       "    }\n",
       "\n",
       "    .dataframe tbody tr th {\n",
       "        vertical-align: top;\n",
       "    }\n",
       "\n",
       "    .dataframe thead th {\n",
       "        text-align: right;\n",
       "    }\n",
       "</style>\n",
       "<table border=\"1\" class=\"dataframe\">\n",
       "  <thead>\n",
       "    <tr style=\"text-align: right;\">\n",
       "      <th></th>\n",
       "      <th>Source</th>\n",
       "      <th>ddof1</th>\n",
       "      <th>ddof2</th>\n",
       "      <th>F</th>\n",
       "      <th>p-unc</th>\n",
       "      <th>np2</th>\n",
       "    </tr>\n",
       "  </thead>\n",
       "  <tbody>\n",
       "    <tr>\n",
       "      <th>0</th>\n",
       "      <td>button</td>\n",
       "      <td>2</td>\n",
       "      <td>182.958104</td>\n",
       "      <td>177.856578</td>\n",
       "      <td>1.255660e-43</td>\n",
       "      <td>0.366728</td>\n",
       "    </tr>\n",
       "  </tbody>\n",
       "</table>\n",
       "</div>"
      ],
      "text/plain": [
       "   Source  ddof1       ddof2           F         p-unc       np2\n",
       "0  button      2  182.958104  177.856578  1.255660e-43  0.366728"
      ]
     },
     "execution_count": 18,
     "metadata": {},
     "output_type": "execute_result"
    }
   ],
   "source": [
    "#anova Уэлча в pingouin\n",
    "\n",
    "pg.welch_anova(data=post_likes, dv='likes', between='button')"
   ]
  },
  {
   "cell_type": "code",
   "execution_count": null,
   "id": "f41f709a",
   "metadata": {},
   "outputs": [],
   "source": []
  },
  {
   "cell_type": "code",
   "execution_count": null,
   "id": "f97daa38",
   "metadata": {},
   "outputs": [],
   "source": []
  },
  {
   "cell_type": "code",
   "execution_count": null,
   "id": "72c5b3ef",
   "metadata": {},
   "outputs": [],
   "source": []
  },
  {
   "cell_type": "code",
   "execution_count": 22,
   "id": "0858a295",
   "metadata": {
    "ExecuteTime": {
     "end_time": "2025-04-07T20:54:35.947798Z",
     "start_time": "2025-04-07T20:54:35.923816Z"
    }
   },
   "outputs": [
    {
     "name": "stderr",
     "output_type": "stream",
     "text": [
      "C:\\Users\\spit\\anaconda3\\Lib\\site-packages\\pingouin\\pairwise.py:28: UserWarning: pairwise_ttests is deprecated, use pairwise_tests instead.\n",
      "  warnings.warn(\"pairwise_ttests is deprecated, use pairwise_tests instead.\", UserWarning)\n"
     ]
    },
    {
     "data": {
      "text/html": [
       "<div>\n",
       "<style scoped>\n",
       "    .dataframe tbody tr th:only-of-type {\n",
       "        vertical-align: middle;\n",
       "    }\n",
       "\n",
       "    .dataframe tbody tr th {\n",
       "        vertical-align: top;\n",
       "    }\n",
       "\n",
       "    .dataframe thead th {\n",
       "        text-align: right;\n",
       "    }\n",
       "</style>\n",
       "<table border=\"1\" class=\"dataframe\">\n",
       "  <thead>\n",
       "    <tr style=\"text-align: right;\">\n",
       "      <th></th>\n",
       "      <th>Contrast</th>\n",
       "      <th>A</th>\n",
       "      <th>B</th>\n",
       "      <th>Paired</th>\n",
       "      <th>Parametric</th>\n",
       "      <th>T</th>\n",
       "      <th>dof</th>\n",
       "      <th>alternative</th>\n",
       "      <th>p-unc</th>\n",
       "      <th>BF10</th>\n",
       "      <th>hedges</th>\n",
       "    </tr>\n",
       "  </thead>\n",
       "  <tbody>\n",
       "    <tr>\n",
       "      <th>0</th>\n",
       "      <td>button</td>\n",
       "      <td>blue</td>\n",
       "      <td>green</td>\n",
       "      <td>False</td>\n",
       "      <td>True</td>\n",
       "      <td>8.591097</td>\n",
       "      <td>198.0</td>\n",
       "      <td>two-sided</td>\n",
       "      <td>2.561866e-15</td>\n",
       "      <td>2.025e+12</td>\n",
       "      <td>1.210357</td>\n",
       "    </tr>\n",
       "    <tr>\n",
       "      <th>1</th>\n",
       "      <td>button</td>\n",
       "      <td>blue</td>\n",
       "      <td>red</td>\n",
       "      <td>False</td>\n",
       "      <td>True</td>\n",
       "      <td>18.769214</td>\n",
       "      <td>198.0</td>\n",
       "      <td>two-sided</td>\n",
       "      <td>7.952330e-46</td>\n",
       "      <td>1.582e+42</td>\n",
       "      <td>2.644301</td>\n",
       "    </tr>\n",
       "    <tr>\n",
       "      <th>2</th>\n",
       "      <td>button</td>\n",
       "      <td>green</td>\n",
       "      <td>red</td>\n",
       "      <td>False</td>\n",
       "      <td>True</td>\n",
       "      <td>2.240189</td>\n",
       "      <td>198.0</td>\n",
       "      <td>two-sided</td>\n",
       "      <td>2.619001e-02</td>\n",
       "      <td>1.583</td>\n",
       "      <td>0.315609</td>\n",
       "    </tr>\n",
       "  </tbody>\n",
       "</table>\n",
       "</div>"
      ],
      "text/plain": [
       "  Contrast      A      B  Paired  Parametric          T    dof alternative  \\\n",
       "0   button   blue  green   False        True   8.591097  198.0   two-sided   \n",
       "1   button   blue    red   False        True  18.769214  198.0   two-sided   \n",
       "2   button  green    red   False        True   2.240189  198.0   two-sided   \n",
       "\n",
       "          p-unc       BF10    hedges  \n",
       "0  2.561866e-15  2.025e+12  1.210357  \n",
       "1  7.952330e-46  1.582e+42  2.644301  \n",
       "2  2.619001e-02      1.583  0.315609  "
      ]
     },
     "execution_count": 22,
     "metadata": {},
     "output_type": "execute_result"
    }
   ],
   "source": [
    "# попареное сравнение без поправки \n",
    "pg.pairwise_ttests(data=post_likes, dv='likes', between='button')"
   ]
  },
  {
   "cell_type": "code",
   "execution_count": 25,
   "id": "f1ca10c0",
   "metadata": {
    "ExecuteTime": {
     "end_time": "2025-04-07T20:55:14.237465Z",
     "start_time": "2025-04-07T20:55:14.213723Z"
    }
   },
   "outputs": [
    {
     "name": "stderr",
     "output_type": "stream",
     "text": [
      "C:\\Users\\spit\\anaconda3\\Lib\\site-packages\\pingouin\\pairwise.py:28: UserWarning: pairwise_ttests is deprecated, use pairwise_tests instead.\n",
      "  warnings.warn(\"pairwise_ttests is deprecated, use pairwise_tests instead.\", UserWarning)\n"
     ]
    },
    {
     "data": {
      "text/html": [
       "<div>\n",
       "<style scoped>\n",
       "    .dataframe tbody tr th:only-of-type {\n",
       "        vertical-align: middle;\n",
       "    }\n",
       "\n",
       "    .dataframe tbody tr th {\n",
       "        vertical-align: top;\n",
       "    }\n",
       "\n",
       "    .dataframe thead th {\n",
       "        text-align: right;\n",
       "    }\n",
       "</style>\n",
       "<table border=\"1\" class=\"dataframe\">\n",
       "  <thead>\n",
       "    <tr style=\"text-align: right;\">\n",
       "      <th></th>\n",
       "      <th>Contrast</th>\n",
       "      <th>A</th>\n",
       "      <th>B</th>\n",
       "      <th>Paired</th>\n",
       "      <th>Parametric</th>\n",
       "      <th>T</th>\n",
       "      <th>dof</th>\n",
       "      <th>alternative</th>\n",
       "      <th>p-unc</th>\n",
       "      <th>p-corr</th>\n",
       "      <th>p-adjust</th>\n",
       "      <th>BF10</th>\n",
       "      <th>hedges</th>\n",
       "    </tr>\n",
       "  </thead>\n",
       "  <tbody>\n",
       "    <tr>\n",
       "      <th>0</th>\n",
       "      <td>button</td>\n",
       "      <td>blue</td>\n",
       "      <td>green</td>\n",
       "      <td>False</td>\n",
       "      <td>True</td>\n",
       "      <td>8.591097</td>\n",
       "      <td>198.0</td>\n",
       "      <td>two-sided</td>\n",
       "      <td>2.561866e-15</td>\n",
       "      <td>7.685599e-15</td>\n",
       "      <td>bonf</td>\n",
       "      <td>2.025e+12</td>\n",
       "      <td>1.210357</td>\n",
       "    </tr>\n",
       "    <tr>\n",
       "      <th>1</th>\n",
       "      <td>button</td>\n",
       "      <td>blue</td>\n",
       "      <td>red</td>\n",
       "      <td>False</td>\n",
       "      <td>True</td>\n",
       "      <td>18.769214</td>\n",
       "      <td>198.0</td>\n",
       "      <td>two-sided</td>\n",
       "      <td>7.952330e-46</td>\n",
       "      <td>2.385699e-45</td>\n",
       "      <td>bonf</td>\n",
       "      <td>1.582e+42</td>\n",
       "      <td>2.644301</td>\n",
       "    </tr>\n",
       "    <tr>\n",
       "      <th>2</th>\n",
       "      <td>button</td>\n",
       "      <td>green</td>\n",
       "      <td>red</td>\n",
       "      <td>False</td>\n",
       "      <td>True</td>\n",
       "      <td>2.240189</td>\n",
       "      <td>198.0</td>\n",
       "      <td>two-sided</td>\n",
       "      <td>2.619001e-02</td>\n",
       "      <td>7.857004e-02</td>\n",
       "      <td>bonf</td>\n",
       "      <td>1.583</td>\n",
       "      <td>0.315609</td>\n",
       "    </tr>\n",
       "  </tbody>\n",
       "</table>\n",
       "</div>"
      ],
      "text/plain": [
       "  Contrast      A      B  Paired  Parametric          T    dof alternative  \\\n",
       "0   button   blue  green   False        True   8.591097  198.0   two-sided   \n",
       "1   button   blue    red   False        True  18.769214  198.0   two-sided   \n",
       "2   button  green    red   False        True   2.240189  198.0   two-sided   \n",
       "\n",
       "          p-unc        p-corr p-adjust       BF10    hedges  \n",
       "0  2.561866e-15  7.685599e-15     bonf  2.025e+12  1.210357  \n",
       "1  7.952330e-46  2.385699e-45     bonf  1.582e+42  2.644301  \n",
       "2  2.619001e-02  7.857004e-02     bonf      1.583  0.315609  "
      ]
     },
     "execution_count": 25,
     "metadata": {},
     "output_type": "execute_result"
    }
   ],
   "source": [
    "# попареное сравнение с поправкой Бонферрони\n",
    "\n",
    "pg.pairwise_ttests(data=post_likes, dv='likes', between='button', padjust = \"bonf\")"
   ]
  },
  {
   "cell_type": "code",
   "execution_count": 33,
   "id": "cceca026",
   "metadata": {
    "ExecuteTime": {
     "end_time": "2025-04-07T21:21:23.823194Z",
     "start_time": "2025-04-07T21:21:23.798199Z"
    }
   },
   "outputs": [
    {
     "name": "stderr",
     "output_type": "stream",
     "text": [
      "C:\\Users\\spit\\anaconda3\\Lib\\site-packages\\pingouin\\pairwise.py:28: UserWarning: pairwise_ttests is deprecated, use pairwise_tests instead.\n",
      "  warnings.warn(\"pairwise_ttests is deprecated, use pairwise_tests instead.\", UserWarning)\n"
     ]
    },
    {
     "data": {
      "text/html": [
       "<div>\n",
       "<style scoped>\n",
       "    .dataframe tbody tr th:only-of-type {\n",
       "        vertical-align: middle;\n",
       "    }\n",
       "\n",
       "    .dataframe tbody tr th {\n",
       "        vertical-align: top;\n",
       "    }\n",
       "\n",
       "    .dataframe thead th {\n",
       "        text-align: right;\n",
       "    }\n",
       "</style>\n",
       "<table border=\"1\" class=\"dataframe\">\n",
       "  <thead>\n",
       "    <tr style=\"text-align: right;\">\n",
       "      <th></th>\n",
       "      <th>Contrast</th>\n",
       "      <th>A</th>\n",
       "      <th>B</th>\n",
       "      <th>Paired</th>\n",
       "      <th>Parametric</th>\n",
       "      <th>T</th>\n",
       "      <th>dof</th>\n",
       "      <th>alternative</th>\n",
       "      <th>p-unc</th>\n",
       "      <th>p-corr</th>\n",
       "      <th>p-adjust</th>\n",
       "      <th>BF10</th>\n",
       "      <th>hedges</th>\n",
       "    </tr>\n",
       "  </thead>\n",
       "  <tbody>\n",
       "    <tr>\n",
       "      <th>0</th>\n",
       "      <td>button</td>\n",
       "      <td>blue</td>\n",
       "      <td>green</td>\n",
       "      <td>False</td>\n",
       "      <td>True</td>\n",
       "      <td>8.591097</td>\n",
       "      <td>198.0</td>\n",
       "      <td>two-sided</td>\n",
       "      <td>2.561866e-15</td>\n",
       "      <td>5.123733e-15</td>\n",
       "      <td>holm</td>\n",
       "      <td>2.025e+12</td>\n",
       "      <td>1.210357</td>\n",
       "    </tr>\n",
       "    <tr>\n",
       "      <th>1</th>\n",
       "      <td>button</td>\n",
       "      <td>blue</td>\n",
       "      <td>red</td>\n",
       "      <td>False</td>\n",
       "      <td>True</td>\n",
       "      <td>18.769214</td>\n",
       "      <td>198.0</td>\n",
       "      <td>two-sided</td>\n",
       "      <td>7.952330e-46</td>\n",
       "      <td>2.385699e-45</td>\n",
       "      <td>holm</td>\n",
       "      <td>1.582e+42</td>\n",
       "      <td>2.644301</td>\n",
       "    </tr>\n",
       "    <tr>\n",
       "      <th>2</th>\n",
       "      <td>button</td>\n",
       "      <td>green</td>\n",
       "      <td>red</td>\n",
       "      <td>False</td>\n",
       "      <td>True</td>\n",
       "      <td>2.240189</td>\n",
       "      <td>198.0</td>\n",
       "      <td>two-sided</td>\n",
       "      <td>2.619001e-02</td>\n",
       "      <td>2.619001e-02</td>\n",
       "      <td>holm</td>\n",
       "      <td>1.583</td>\n",
       "      <td>0.315609</td>\n",
       "    </tr>\n",
       "  </tbody>\n",
       "</table>\n",
       "</div>"
      ],
      "text/plain": [
       "  Contrast      A      B  Paired  Parametric          T    dof alternative  \\\n",
       "0   button   blue  green   False        True   8.591097  198.0   two-sided   \n",
       "1   button   blue    red   False        True  18.769214  198.0   two-sided   \n",
       "2   button  green    red   False        True   2.240189  198.0   two-sided   \n",
       "\n",
       "          p-unc        p-corr p-adjust       BF10    hedges  \n",
       "0  2.561866e-15  5.123733e-15     holm  2.025e+12  1.210357  \n",
       "1  7.952330e-46  2.385699e-45     holm  1.582e+42  2.644301  \n",
       "2  2.619001e-02  2.619001e-02     holm      1.583  0.315609  "
      ]
     },
     "execution_count": 33,
     "metadata": {},
     "output_type": "execute_result"
    }
   ],
   "source": [
    "# попареное сравнение с поправкой holm\n",
    "\n",
    "pg.pairwise_ttests(data=post_likes, dv='likes', between='button', padjust = \"holm\")"
   ]
  },
  {
   "cell_type": "code",
   "execution_count": null,
   "id": "a093198e",
   "metadata": {},
   "outputs": [],
   "source": []
  },
  {
   "cell_type": "code",
   "execution_count": 36,
   "id": "dc0ecd12",
   "metadata": {
    "ExecuteTime": {
     "end_time": "2025-04-07T21:23:01.180775Z",
     "start_time": "2025-04-07T21:23:01.130325Z"
    }
   },
   "outputs": [
    {
     "data": {
      "text/html": [
       "<div>\n",
       "<style scoped>\n",
       "    .dataframe tbody tr th:only-of-type {\n",
       "        vertical-align: middle;\n",
       "    }\n",
       "\n",
       "    .dataframe tbody tr th {\n",
       "        vertical-align: top;\n",
       "    }\n",
       "\n",
       "    .dataframe thead th {\n",
       "        text-align: right;\n",
       "    }\n",
       "</style>\n",
       "<table border=\"1\" class=\"dataframe\">\n",
       "  <thead>\n",
       "    <tr style=\"text-align: right;\">\n",
       "      <th></th>\n",
       "      <th>A</th>\n",
       "      <th>B</th>\n",
       "      <th>mean(A)</th>\n",
       "      <th>mean(B)</th>\n",
       "      <th>diff</th>\n",
       "      <th>se</th>\n",
       "      <th>T</th>\n",
       "      <th>p-tukey</th>\n",
       "      <th>hedges</th>\n",
       "    </tr>\n",
       "  </thead>\n",
       "  <tbody>\n",
       "    <tr>\n",
       "      <th>0</th>\n",
       "      <td>blue</td>\n",
       "      <td>green</td>\n",
       "      <td>210.03</td>\n",
       "      <td>162.02</td>\n",
       "      <td>48.01</td>\n",
       "      <td>4.846108</td>\n",
       "      <td>9.906919</td>\n",
       "      <td>1.143530e-14</td>\n",
       "      <td>1.210357</td>\n",
       "    </tr>\n",
       "    <tr>\n",
       "      <th>1</th>\n",
       "      <td>blue</td>\n",
       "      <td>red</td>\n",
       "      <td>210.03</td>\n",
       "      <td>149.96</td>\n",
       "      <td>60.07</td>\n",
       "      <td>4.846108</td>\n",
       "      <td>12.395514</td>\n",
       "      <td>1.143530e-14</td>\n",
       "      <td>2.644301</td>\n",
       "    </tr>\n",
       "    <tr>\n",
       "      <th>2</th>\n",
       "      <td>green</td>\n",
       "      <td>red</td>\n",
       "      <td>162.02</td>\n",
       "      <td>149.96</td>\n",
       "      <td>12.06</td>\n",
       "      <td>4.846108</td>\n",
       "      <td>2.488595</td>\n",
       "      <td>3.557351e-02</td>\n",
       "      <td>0.315609</td>\n",
       "    </tr>\n",
       "  </tbody>\n",
       "</table>\n",
       "</div>"
      ],
      "text/plain": [
       "       A      B  mean(A)  mean(B)   diff        se          T       p-tukey  \\\n",
       "0   blue  green   210.03   162.02  48.01  4.846108   9.906919  1.143530e-14   \n",
       "1   blue    red   210.03   149.96  60.07  4.846108  12.395514  1.143530e-14   \n",
       "2  green    red   162.02   149.96  12.06  4.846108   2.488595  3.557351e-02   \n",
       "\n",
       "     hedges  \n",
       "0  1.210357  \n",
       "1  2.644301  \n",
       "2  0.315609  "
      ]
     },
     "execution_count": 36,
     "metadata": {},
     "output_type": "execute_result"
    }
   ],
   "source": [
    "#тьюки\n",
    "\n",
    "pg.pairwise_tukey(data=post_likes, dv='likes', between='button')"
   ]
  },
  {
   "cell_type": "code",
   "execution_count": 39,
   "id": "e186c60a",
   "metadata": {
    "ExecuteTime": {
     "end_time": "2025-04-07T21:25:50.425032Z",
     "start_time": "2025-04-07T21:25:50.385308Z"
    }
   },
   "outputs": [
    {
     "data": {
      "text/html": [
       "<div>\n",
       "<style scoped>\n",
       "    .dataframe tbody tr th:only-of-type {\n",
       "        vertical-align: middle;\n",
       "    }\n",
       "\n",
       "    .dataframe tbody tr th {\n",
       "        vertical-align: top;\n",
       "    }\n",
       "\n",
       "    .dataframe thead th {\n",
       "        text-align: right;\n",
       "    }\n",
       "</style>\n",
       "<table border=\"1\" class=\"dataframe\">\n",
       "  <thead>\n",
       "    <tr style=\"text-align: right;\">\n",
       "      <th></th>\n",
       "      <th>A</th>\n",
       "      <th>B</th>\n",
       "      <th>mean(A)</th>\n",
       "      <th>mean(B)</th>\n",
       "      <th>diff</th>\n",
       "      <th>se</th>\n",
       "      <th>T</th>\n",
       "      <th>df</th>\n",
       "      <th>pval</th>\n",
       "      <th>hedges</th>\n",
       "    </tr>\n",
       "  </thead>\n",
       "  <tbody>\n",
       "    <tr>\n",
       "      <th>0</th>\n",
       "      <td>blue</td>\n",
       "      <td>green</td>\n",
       "      <td>210.03</td>\n",
       "      <td>162.02</td>\n",
       "      <td>48.01</td>\n",
       "      <td>5.588343</td>\n",
       "      <td>8.591097</td>\n",
       "      <td>145.583529</td>\n",
       "      <td>2.242651e-14</td>\n",
       "      <td>1.210357</td>\n",
       "    </tr>\n",
       "    <tr>\n",
       "      <th>1</th>\n",
       "      <td>blue</td>\n",
       "      <td>red</td>\n",
       "      <td>210.03</td>\n",
       "      <td>149.96</td>\n",
       "      <td>60.07</td>\n",
       "      <td>3.200454</td>\n",
       "      <td>18.769214</td>\n",
       "      <td>188.902921</td>\n",
       "      <td>0.000000e+00</td>\n",
       "      <td>2.644301</td>\n",
       "    </tr>\n",
       "    <tr>\n",
       "      <th>2</th>\n",
       "      <td>green</td>\n",
       "      <td>red</td>\n",
       "      <td>162.02</td>\n",
       "      <td>149.96</td>\n",
       "      <td>12.06</td>\n",
       "      <td>5.383475</td>\n",
       "      <td>2.240189</td>\n",
       "      <td>129.889834</td>\n",
       "      <td>6.830241e-02</td>\n",
       "      <td>0.315609</td>\n",
       "    </tr>\n",
       "  </tbody>\n",
       "</table>\n",
       "</div>"
      ],
      "text/plain": [
       "       A      B  mean(A)  mean(B)   diff        se          T          df  \\\n",
       "0   blue  green   210.03   162.02  48.01  5.588343   8.591097  145.583529   \n",
       "1   blue    red   210.03   149.96  60.07  3.200454  18.769214  188.902921   \n",
       "2  green    red   162.02   149.96  12.06  5.383475   2.240189  129.889834   \n",
       "\n",
       "           pval    hedges  \n",
       "0  2.242651e-14  1.210357  \n",
       "1  0.000000e+00  2.644301  \n",
       "2  6.830241e-02  0.315609  "
      ]
     },
     "execution_count": 39,
     "metadata": {},
     "output_type": "execute_result"
    }
   ],
   "source": [
    "# геймс-хоувелл. Поправка на разные дисперсии. Доверяем ему, потому что находили разницу в дисперсиях\n",
    "\n",
    "pg.pairwise_gameshowell(data=post_likes, dv='likes', between='button')"
   ]
  },
  {
   "cell_type": "code",
   "execution_count": null,
   "id": "388820c4",
   "metadata": {},
   "outputs": [],
   "source": []
  },
  {
   "cell_type": "code",
   "execution_count": null,
   "id": "8d2e0f0b",
   "metadata": {},
   "outputs": [],
   "source": []
  },
  {
   "cell_type": "code",
   "execution_count": null,
   "id": "a8d6c7c5",
   "metadata": {},
   "outputs": [],
   "source": []
  },
  {
   "cell_type": "code",
   "execution_count": null,
   "id": "b610aee4",
   "metadata": {},
   "outputs": [],
   "source": []
  },
  {
   "cell_type": "code",
   "execution_count": null,
   "id": "cd4ead5a",
   "metadata": {},
   "outputs": [],
   "source": []
  },
  {
   "cell_type": "code",
   "execution_count": null,
   "id": "1eced5c7",
   "metadata": {},
   "outputs": [],
   "source": []
  },
  {
   "cell_type": "code",
   "execution_count": null,
   "id": "55028702",
   "metadata": {},
   "outputs": [],
   "source": []
  },
  {
   "cell_type": "code",
   "execution_count": null,
   "id": "1add3f5e",
   "metadata": {},
   "outputs": [],
   "source": []
  },
  {
   "cell_type": "code",
   "execution_count": null,
   "id": "8fee17bb",
   "metadata": {},
   "outputs": [],
   "source": []
  },
  {
   "cell_type": "code",
   "execution_count": null,
   "id": "d1f8f7a1",
   "metadata": {},
   "outputs": [],
   "source": []
  },
  {
   "cell_type": "code",
   "execution_count": null,
   "id": "f8ba8c13",
   "metadata": {},
   "outputs": [],
   "source": []
  },
  {
   "cell_type": "code",
   "execution_count": null,
   "id": "7936dc92",
   "metadata": {},
   "outputs": [],
   "source": []
  },
  {
   "cell_type": "code",
   "execution_count": null,
   "id": "daeff255",
   "metadata": {},
   "outputs": [],
   "source": []
  }
 ],
 "metadata": {
  "kernelspec": {
   "display_name": "Python 3 (ipykernel)",
   "language": "python",
   "name": "python3"
  },
  "language_info": {
   "codemirror_mode": {
    "name": "ipython",
    "version": 3
   },
   "file_extension": ".py",
   "mimetype": "text/x-python",
   "name": "python",
   "nbconvert_exporter": "python",
   "pygments_lexer": "ipython3",
   "version": "3.12.3"
  },
  "varInspector": {
   "cols": {
    "lenName": 16,
    "lenType": 16,
    "lenVar": 40
   },
   "kernels_config": {
    "python": {
     "delete_cmd_postfix": "",
     "delete_cmd_prefix": "del ",
     "library": "var_list.py",
     "varRefreshCmd": "print(var_dic_list())"
    },
    "r": {
     "delete_cmd_postfix": ") ",
     "delete_cmd_prefix": "rm(",
     "library": "var_list.r",
     "varRefreshCmd": "cat(var_dic_list()) "
    }
   },
   "types_to_exclude": [
    "module",
    "function",
    "builtin_function_or_method",
    "instance",
    "_Feature"
   ],
   "window_display": false
  }
 },
 "nbformat": 4,
 "nbformat_minor": 5
}
