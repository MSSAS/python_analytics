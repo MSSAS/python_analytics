{
 "cells": [
  {
   "cell_type": "markdown",
   "id": "19c92472",
   "metadata": {},
   "source": [
    "данные за два года: с 4 января 2015 по 3 января 2017. Вам предстоит изучить динамику числа аренд, наличие связи с погодными условиями и выходными, а также объяснить несколько аномалий на графике.\\\n",
    "Задания\\\n",
    "1.\tЗагрузите данные, проверьте число наблюдений и столбцов, наличие пропусков. Убедитесь, что типы данных были прочитаны правильно. При необходимости – приведите переменные к нужным типам.\\\n",
    "2.\tПостройте график по числу поездок по дате и времени.\\\n",
    "3.\tПреобразуйте данные и посчитайте число поездок по дням. Визуализируйте результат.\\\n",
    "4.\tИспользуйте агрегированные данные по дням и посчитайте скользящее среднее с окном 3. В качестве ответа укажите полученное число аренд за 2015-07-09, округлив значение до целого.\\\n",
    "5.\tПосчитайте разницу между наблюдаемыми и значениями, подсчитанными с помощью скользящего среднего. Далее – найдите стандартное отклонение.\\\n",
    "6.\tОпределите границы 99% доверительного интервала, добавьте данную информацию в датафрейм.\\\n",
    "7.\tИзучите аномально высокие значения и укажите день, когда число аренд было наибольшим. Найдите причину данной аномалии.\\\n",
    "8.\tИзучите аномально низкие значения, найдите день с наименьшим числом аренд. Найдите причину данной аномалии.\\\n",
    "Описание данных\\\n",
    "•\ttimestamp – дата и время (точность до часа)\\\n",
    "•\tcnt – количество аренд велосипедов за этот час\\\n",
    "•\tt1 – температура, в С\\\n",
    "•\tt2 – температура \"ощущается как\", в С \\\n",
    "•\thum – влажность (%)\\\n",
    "•\twind_speed – скорость ветра, км/ч\\\n",
    "•\tweather_code – погодные условия:\\\n",
    "1 – ясно (SKC)\\\n",
    "2 – преимущественно ясно / встречаются отдельные облака (SCT)\\\n",
    "3 – облачно / значительные облака (BKN)\\\n",
    "4 – пасмурно (OVC)\\\n",
    "7 – небольшой дождь Rain/ light Rain shower/ Light rain \\\n",
    "10 – дождь с грозой\\\n",
    "26 – снегопад \\\n",
    "94 – ледяной туман (да, такое бывает!)\\\n",
    "•\tisholiday – является ли день праздником (1 – праздник, 0 – нет)\\\n",
    "•\tisweekend –  является ли день выходным (1 – выходной, 0 – нет)\\\n",
    "•\tseason – метеорологический сезон (0 – весна, 1 – лето, 2 – осень, 3 – зима)\n",
    "\n"
   ]
  },
  {
   "cell_type": "code",
   "execution_count": 1,
   "id": "76a38598",
   "metadata": {
    "ExecuteTime": {
     "end_time": "2025-04-03T20:05:02.581951Z",
     "start_time": "2025-04-03T20:05:01.239974Z"
    }
   },
   "outputs": [],
   "source": [
    "import pandas as pd\n",
    "import seaborn as sns\n",
    "sns.set(rc={'figure.figsize':(12,6)}, style=\"whitegrid\")\n",
    "import numpy as np \n",
    "import plotly as pl"
   ]
  },
  {
   "cell_type": "code",
   "execution_count": 2,
   "id": "62ccf343",
   "metadata": {
    "ExecuteTime": {
     "end_time": "2025-04-03T20:05:02.613747Z",
     "start_time": "2025-04-03T20:05:02.582949Z"
    }
   },
   "outputs": [],
   "source": [
    "df = pd.read_csv('C:/Users/spit/Desktop/math/3/3.6 london.csv')"
   ]
  },
  {
   "cell_type": "markdown",
   "id": "895f21bb",
   "metadata": {},
   "source": [
    "Проверка данных"
   ]
  },
  {
   "cell_type": "code",
   "execution_count": 3,
   "id": "2b45aa6a",
   "metadata": {
    "ExecuteTime": {
     "end_time": "2025-04-03T20:05:02.626856Z",
     "start_time": "2025-04-03T20:05:02.614750Z"
    }
   },
   "outputs": [
    {
     "data": {
      "text/html": [
       "<div>\n",
       "<style scoped>\n",
       "    .dataframe tbody tr th:only-of-type {\n",
       "        vertical-align: middle;\n",
       "    }\n",
       "\n",
       "    .dataframe tbody tr th {\n",
       "        vertical-align: top;\n",
       "    }\n",
       "\n",
       "    .dataframe thead th {\n",
       "        text-align: right;\n",
       "    }\n",
       "</style>\n",
       "<table border=\"1\" class=\"dataframe\">\n",
       "  <thead>\n",
       "    <tr style=\"text-align: right;\">\n",
       "      <th></th>\n",
       "      <th>timestamp</th>\n",
       "      <th>cnt</th>\n",
       "      <th>t1</th>\n",
       "      <th>t2</th>\n",
       "      <th>hum</th>\n",
       "      <th>wind_speed</th>\n",
       "      <th>weather_code</th>\n",
       "      <th>is_holiday</th>\n",
       "      <th>is_weekend</th>\n",
       "      <th>season</th>\n",
       "    </tr>\n",
       "  </thead>\n",
       "  <tbody>\n",
       "    <tr>\n",
       "      <th>0</th>\n",
       "      <td>2015-01-04 00:00:00</td>\n",
       "      <td>182</td>\n",
       "      <td>3.0</td>\n",
       "      <td>2.0</td>\n",
       "      <td>93.0</td>\n",
       "      <td>6.0</td>\n",
       "      <td>3.0</td>\n",
       "      <td>0.0</td>\n",
       "      <td>1.0</td>\n",
       "      <td>3.0</td>\n",
       "    </tr>\n",
       "    <tr>\n",
       "      <th>1</th>\n",
       "      <td>2015-01-04 01:00:00</td>\n",
       "      <td>138</td>\n",
       "      <td>3.0</td>\n",
       "      <td>2.5</td>\n",
       "      <td>93.0</td>\n",
       "      <td>5.0</td>\n",
       "      <td>1.0</td>\n",
       "      <td>0.0</td>\n",
       "      <td>1.0</td>\n",
       "      <td>3.0</td>\n",
       "    </tr>\n",
       "    <tr>\n",
       "      <th>2</th>\n",
       "      <td>2015-01-04 02:00:00</td>\n",
       "      <td>134</td>\n",
       "      <td>2.5</td>\n",
       "      <td>2.5</td>\n",
       "      <td>96.5</td>\n",
       "      <td>0.0</td>\n",
       "      <td>1.0</td>\n",
       "      <td>0.0</td>\n",
       "      <td>1.0</td>\n",
       "      <td>3.0</td>\n",
       "    </tr>\n",
       "    <tr>\n",
       "      <th>3</th>\n",
       "      <td>2015-01-04 03:00:00</td>\n",
       "      <td>72</td>\n",
       "      <td>2.0</td>\n",
       "      <td>2.0</td>\n",
       "      <td>100.0</td>\n",
       "      <td>0.0</td>\n",
       "      <td>1.0</td>\n",
       "      <td>0.0</td>\n",
       "      <td>1.0</td>\n",
       "      <td>3.0</td>\n",
       "    </tr>\n",
       "    <tr>\n",
       "      <th>4</th>\n",
       "      <td>2015-01-04 04:00:00</td>\n",
       "      <td>47</td>\n",
       "      <td>2.0</td>\n",
       "      <td>0.0</td>\n",
       "      <td>93.0</td>\n",
       "      <td>6.5</td>\n",
       "      <td>1.0</td>\n",
       "      <td>0.0</td>\n",
       "      <td>1.0</td>\n",
       "      <td>3.0</td>\n",
       "    </tr>\n",
       "  </tbody>\n",
       "</table>\n",
       "</div>"
      ],
      "text/plain": [
       "             timestamp  cnt   t1   t2    hum  wind_speed  weather_code  \\\n",
       "0  2015-01-04 00:00:00  182  3.0  2.0   93.0         6.0           3.0   \n",
       "1  2015-01-04 01:00:00  138  3.0  2.5   93.0         5.0           1.0   \n",
       "2  2015-01-04 02:00:00  134  2.5  2.5   96.5         0.0           1.0   \n",
       "3  2015-01-04 03:00:00   72  2.0  2.0  100.0         0.0           1.0   \n",
       "4  2015-01-04 04:00:00   47  2.0  0.0   93.0         6.5           1.0   \n",
       "\n",
       "   is_holiday  is_weekend  season  \n",
       "0         0.0         1.0     3.0  \n",
       "1         0.0         1.0     3.0  \n",
       "2         0.0         1.0     3.0  \n",
       "3         0.0         1.0     3.0  \n",
       "4         0.0         1.0     3.0  "
      ]
     },
     "execution_count": 3,
     "metadata": {},
     "output_type": "execute_result"
    }
   ],
   "source": [
    "df.head()"
   ]
  },
  {
   "cell_type": "code",
   "execution_count": 4,
   "id": "e8cabbc8",
   "metadata": {
    "ExecuteTime": {
     "end_time": "2025-04-03T20:05:02.631868Z",
     "start_time": "2025-04-03T20:05:02.627861Z"
    }
   },
   "outputs": [
    {
     "data": {
      "text/plain": [
       "timestamp        object\n",
       "cnt               int64\n",
       "t1              float64\n",
       "t2              float64\n",
       "hum             float64\n",
       "wind_speed      float64\n",
       "weather_code    float64\n",
       "is_holiday      float64\n",
       "is_weekend      float64\n",
       "season          float64\n",
       "dtype: object"
      ]
     },
     "execution_count": 4,
     "metadata": {},
     "output_type": "execute_result"
    }
   ],
   "source": [
    "df.dtypes"
   ]
  },
  {
   "cell_type": "code",
   "execution_count": 5,
   "id": "26ff3364",
   "metadata": {
    "ExecuteTime": {
     "end_time": "2025-04-03T20:05:02.647045Z",
     "start_time": "2025-04-03T20:05:02.633874Z"
    }
   },
   "outputs": [],
   "source": [
    "df['timestamp'] = pd.to_datetime(df['timestamp'])"
   ]
  },
  {
   "cell_type": "code",
   "execution_count": 6,
   "id": "473a2f20",
   "metadata": {
    "ExecuteTime": {
     "end_time": "2025-04-03T20:05:02.651776Z",
     "start_time": "2025-04-03T20:05:02.648052Z"
    }
   },
   "outputs": [
    {
     "data": {
      "text/plain": [
       "(17414, 10)"
      ]
     },
     "execution_count": 6,
     "metadata": {},
     "output_type": "execute_result"
    }
   ],
   "source": [
    "df.shape"
   ]
  },
  {
   "cell_type": "code",
   "execution_count": 7,
   "id": "44896eb8",
   "metadata": {
    "ExecuteTime": {
     "end_time": "2025-04-03T20:05:02.658148Z",
     "start_time": "2025-04-03T20:05:02.652782Z"
    }
   },
   "outputs": [
    {
     "data": {
      "text/plain": [
       "timestamp       0\n",
       "cnt             0\n",
       "t1              0\n",
       "t2              0\n",
       "hum             0\n",
       "wind_speed      0\n",
       "weather_code    0\n",
       "is_holiday      0\n",
       "is_weekend      0\n",
       "season          0\n",
       "dtype: int64"
      ]
     },
     "execution_count": 7,
     "metadata": {},
     "output_type": "execute_result"
    }
   ],
   "source": [
    "df.isna().sum()"
   ]
  },
  {
   "cell_type": "markdown",
   "id": "4411c06b",
   "metadata": {},
   "source": [
    "#### Постройте график по числу поездок по дате и времени."
   ]
  },
  {
   "cell_type": "code",
   "execution_count": 8,
   "id": "357af6d5",
   "metadata": {
    "ExecuteTime": {
     "end_time": "2025-04-03T20:05:03.073983Z",
     "start_time": "2025-04-03T20:05:02.659154Z"
    }
   },
   "outputs": [
    {
     "data": {
      "text/plain": [
       "<Axes: xlabel='timestamp', ylabel='cnt'>"
      ]
     },
     "execution_count": 8,
     "metadata": {},
     "output_type": "execute_result"
    },
    {
     "data": {
      "image/png": "[encoded data removed]",
      "text/plain": [
       "<Figure size 1200x600 with 1 Axes>"
      ]
     },
     "metadata": {},
     "output_type": "display_data"
    }
   ],
   "source": [
    "sns.lineplot(data=df, x = 'timestamp', y='cnt')"
   ]
  },
  {
   "cell_type": "markdown",
   "id": "df068d07",
   "metadata": {},
   "source": [
    "Очень сложно что-то понять, нужно преобразовать данные."
   ]
  },
  {
   "cell_type": "markdown",
   "id": "332199f8",
   "metadata": {},
   "source": [
    "#### Преобразуйте данные и посчитайте число поездок по дням. Визуализируйте результат."
   ]
  },
  {
   "cell_type": "code",
   "execution_count": 9,
   "id": "85ed0c22",
   "metadata": {
    "ExecuteTime": {
     "end_time": "2025-04-03T20:05:03.078976Z",
     "start_time": "2025-04-03T20:05:03.074982Z"
    }
   },
   "outputs": [],
   "source": [
    "df.sort_values(by='timestamp')\n",
    "df.set_index('timestamp', drop=False, inplace=True)"
   ]
  },
  {
   "cell_type": "code",
   "execution_count": 10,
   "id": "277bcc85",
   "metadata": {
    "ExecuteTime": {
     "end_time": "2025-04-03T20:05:03.089174Z",
     "start_time": "2025-04-03T20:05:03.079975Z"
    }
   },
   "outputs": [
    {
     "data": {
      "text/html": [
       "<div>\n",
       "<style scoped>\n",
       "    .dataframe tbody tr th:only-of-type {\n",
       "        vertical-align: middle;\n",
       "    }\n",
       "\n",
       "    .dataframe tbody tr th {\n",
       "        vertical-align: top;\n",
       "    }\n",
       "\n",
       "    .dataframe thead th {\n",
       "        text-align: right;\n",
       "    }\n",
       "</style>\n",
       "<table border=\"1\" class=\"dataframe\">\n",
       "  <thead>\n",
       "    <tr style=\"text-align: right;\">\n",
       "      <th></th>\n",
       "      <th>timestamp</th>\n",
       "      <th>cnt</th>\n",
       "      <th>t1</th>\n",
       "      <th>t2</th>\n",
       "      <th>hum</th>\n",
       "      <th>wind_speed</th>\n",
       "      <th>weather_code</th>\n",
       "      <th>is_holiday</th>\n",
       "      <th>is_weekend</th>\n",
       "      <th>season</th>\n",
       "    </tr>\n",
       "    <tr>\n",
       "      <th>timestamp</th>\n",
       "      <th></th>\n",
       "      <th></th>\n",
       "      <th></th>\n",
       "      <th></th>\n",
       "      <th></th>\n",
       "      <th></th>\n",
       "      <th></th>\n",
       "      <th></th>\n",
       "      <th></th>\n",
       "      <th></th>\n",
       "    </tr>\n",
       "  </thead>\n",
       "  <tbody>\n",
       "    <tr>\n",
       "      <th>2015-01-04 00:00:00</th>\n",
       "      <td>2015-01-04 00:00:00</td>\n",
       "      <td>182</td>\n",
       "      <td>3.0</td>\n",
       "      <td>2.0</td>\n",
       "      <td>93.0</td>\n",
       "      <td>6.0</td>\n",
       "      <td>3.0</td>\n",
       "      <td>0.0</td>\n",
       "      <td>1.0</td>\n",
       "      <td>3.0</td>\n",
       "    </tr>\n",
       "    <tr>\n",
       "      <th>2015-01-04 01:00:00</th>\n",
       "      <td>2015-01-04 01:00:00</td>\n",
       "      <td>138</td>\n",
       "      <td>3.0</td>\n",
       "      <td>2.5</td>\n",
       "      <td>93.0</td>\n",
       "      <td>5.0</td>\n",
       "      <td>1.0</td>\n",
       "      <td>0.0</td>\n",
       "      <td>1.0</td>\n",
       "      <td>3.0</td>\n",
       "    </tr>\n",
       "    <tr>\n",
       "      <th>2015-01-04 02:00:00</th>\n",
       "      <td>2015-01-04 02:00:00</td>\n",
       "      <td>134</td>\n",
       "      <td>2.5</td>\n",
       "      <td>2.5</td>\n",
       "      <td>96.5</td>\n",
       "      <td>0.0</td>\n",
       "      <td>1.0</td>\n",
       "      <td>0.0</td>\n",
       "      <td>1.0</td>\n",
       "      <td>3.0</td>\n",
       "    </tr>\n",
       "    <tr>\n",
       "      <th>2015-01-04 03:00:00</th>\n",
       "      <td>2015-01-04 03:00:00</td>\n",
       "      <td>72</td>\n",
       "      <td>2.0</td>\n",
       "      <td>2.0</td>\n",
       "      <td>100.0</td>\n",
       "      <td>0.0</td>\n",
       "      <td>1.0</td>\n",
       "      <td>0.0</td>\n",
       "      <td>1.0</td>\n",
       "      <td>3.0</td>\n",
       "    </tr>\n",
       "    <tr>\n",
       "      <th>2015-01-04 04:00:00</th>\n",
       "      <td>2015-01-04 04:00:00</td>\n",
       "      <td>47</td>\n",
       "      <td>2.0</td>\n",
       "      <td>0.0</td>\n",
       "      <td>93.0</td>\n",
       "      <td>6.5</td>\n",
       "      <td>1.0</td>\n",
       "      <td>0.0</td>\n",
       "      <td>1.0</td>\n",
       "      <td>3.0</td>\n",
       "    </tr>\n",
       "  </tbody>\n",
       "</table>\n",
       "</div>"
      ],
      "text/plain": [
       "                              timestamp  cnt   t1   t2    hum  wind_speed  \\\n",
       "timestamp                                                                   \n",
       "2015-01-04 00:00:00 2015-01-04 00:00:00  182  3.0  2.0   93.0         6.0   \n",
       "2015-01-04 01:00:00 2015-01-04 01:00:00  138  3.0  2.5   93.0         5.0   \n",
       "2015-01-04 02:00:00 2015-01-04 02:00:00  134  2.5  2.5   96.5         0.0   \n",
       "2015-01-04 03:00:00 2015-01-04 03:00:00   72  2.0  2.0  100.0         0.0   \n",
       "2015-01-04 04:00:00 2015-01-04 04:00:00   47  2.0  0.0   93.0         6.5   \n",
       "\n",
       "                     weather_code  is_holiday  is_weekend  season  \n",
       "timestamp                                                          \n",
       "2015-01-04 00:00:00           3.0         0.0         1.0     3.0  \n",
       "2015-01-04 01:00:00           1.0         0.0         1.0     3.0  \n",
       "2015-01-04 02:00:00           1.0         0.0         1.0     3.0  \n",
       "2015-01-04 03:00:00           1.0         0.0         1.0     3.0  \n",
       "2015-01-04 04:00:00           1.0         0.0         1.0     3.0  "
      ]
     },
     "execution_count": 10,
     "metadata": {},
     "output_type": "execute_result"
    }
   ],
   "source": [
    "df.head()"
   ]
  },
  {
   "cell_type": "code",
   "execution_count": 11,
   "id": "aefe28e9",
   "metadata": {
    "ExecuteTime": {
     "end_time": "2025-04-03T20:05:03.493587Z",
     "start_time": "2025-04-03T20:05:03.090180Z"
    }
   },
   "outputs": [
    {
     "data": {
      "text/plain": [
       "<Axes: xlabel='timestamp'>"
      ]
     },
     "execution_count": 11,
     "metadata": {},
     "output_type": "execute_result"
    },
    {
     "data": {
      "image/png": "[encoded data removed]",
      "text/plain": [
       "<Figure size 1200x600 with 1 Axes>"
      ]
     },
     "metadata": {},
     "output_type": "display_data"
    }
   ],
   "source": [
    "df.resample('D').agg({'cnt':'sum'}).plot()"
   ]
  },
  {
   "cell_type": "markdown",
   "id": "2522a7bb",
   "metadata": {},
   "source": [
    "Вывод:\\\n",
    "    Зимой аренд меньше, чем летом\\\n",
    "    макс > 70000\\\n",
    "    встерчается как резкий скачек вверх, так и вниз"
   ]
  },
  {
   "cell_type": "markdown",
   "id": "9f7dcdd0",
   "metadata": {},
   "source": [
    "#### Используйте агрегированные данные по дням и посчитайте скользящее среднее с окном 3. В качестве ответа укажите полученное число аренд за 2015-07-09, округлив значение до целого."
   ]
  },
  {
   "cell_type": "code",
   "execution_count": 12,
   "id": "06eac5a1",
   "metadata": {
    "ExecuteTime": {
     "end_time": "2025-04-03T20:05:03.502737Z",
     "start_time": "2025-04-03T20:05:03.494558Z"
    }
   },
   "outputs": [
    {
     "data": {
      "text/html": [
       "<div>\n",
       "<style scoped>\n",
       "    .dataframe tbody tr th:only-of-type {\n",
       "        vertical-align: middle;\n",
       "    }\n",
       "\n",
       "    .dataframe tbody tr th {\n",
       "        vertical-align: top;\n",
       "    }\n",
       "\n",
       "    .dataframe thead th {\n",
       "        text-align: right;\n",
       "    }\n",
       "</style>\n",
       "<table border=\"1\" class=\"dataframe\">\n",
       "  <thead>\n",
       "    <tr style=\"text-align: right;\">\n",
       "      <th></th>\n",
       "      <th>timestamp</th>\n",
       "      <th>cnt</th>\n",
       "    </tr>\n",
       "  </thead>\n",
       "  <tbody>\n",
       "    <tr>\n",
       "      <th>0</th>\n",
       "      <td>2015-01-04</td>\n",
       "      <td>9234</td>\n",
       "    </tr>\n",
       "    <tr>\n",
       "      <th>1</th>\n",
       "      <td>2015-01-05</td>\n",
       "      <td>20372</td>\n",
       "    </tr>\n",
       "    <tr>\n",
       "      <th>2</th>\n",
       "      <td>2015-01-06</td>\n",
       "      <td>20613</td>\n",
       "    </tr>\n",
       "    <tr>\n",
       "      <th>3</th>\n",
       "      <td>2015-01-07</td>\n",
       "      <td>21064</td>\n",
       "    </tr>\n",
       "    <tr>\n",
       "      <th>4</th>\n",
       "      <td>2015-01-08</td>\n",
       "      <td>15601</td>\n",
       "    </tr>\n",
       "    <tr>\n",
       "      <th>...</th>\n",
       "      <td>...</td>\n",
       "      <td>...</td>\n",
       "    </tr>\n",
       "    <tr>\n",
       "      <th>726</th>\n",
       "      <td>2016-12-30</td>\n",
       "      <td>11566</td>\n",
       "    </tr>\n",
       "    <tr>\n",
       "      <th>727</th>\n",
       "      <td>2016-12-31</td>\n",
       "      <td>11424</td>\n",
       "    </tr>\n",
       "    <tr>\n",
       "      <th>728</th>\n",
       "      <td>2017-01-01</td>\n",
       "      <td>6421</td>\n",
       "    </tr>\n",
       "    <tr>\n",
       "      <th>729</th>\n",
       "      <td>2017-01-02</td>\n",
       "      <td>11823</td>\n",
       "    </tr>\n",
       "    <tr>\n",
       "      <th>730</th>\n",
       "      <td>2017-01-03</td>\n",
       "      <td>19436</td>\n",
       "    </tr>\n",
       "  </tbody>\n",
       "</table>\n",
       "<p>731 rows × 2 columns</p>\n",
       "</div>"
      ],
      "text/plain": [
       "     timestamp    cnt\n",
       "0   2015-01-04   9234\n",
       "1   2015-01-05  20372\n",
       "2   2015-01-06  20613\n",
       "3   2015-01-07  21064\n",
       "4   2015-01-08  15601\n",
       "..         ...    ...\n",
       "726 2016-12-30  11566\n",
       "727 2016-12-31  11424\n",
       "728 2017-01-01   6421\n",
       "729 2017-01-02  11823\n",
       "730 2017-01-03  19436\n",
       "\n",
       "[731 rows x 2 columns]"
      ]
     },
     "execution_count": 12,
     "metadata": {},
     "output_type": "execute_result"
    }
   ],
   "source": [
    "df_by_day = df.resample('D').agg({'cnt':'sum'}).reset_index()\n",
    "df_by_day"
   ]
  },
  {
   "cell_type": "code",
   "execution_count": 13,
   "id": "4579b694",
   "metadata": {
    "ExecuteTime": {
     "end_time": "2025-04-03T20:05:03.511944Z",
     "start_time": "2025-04-03T20:05:03.503738Z"
    }
   },
   "outputs": [
    {
     "data": {
      "text/html": [
       "<div>\n",
       "<style scoped>\n",
       "    .dataframe tbody tr th:only-of-type {\n",
       "        vertical-align: middle;\n",
       "    }\n",
       "\n",
       "    .dataframe tbody tr th {\n",
       "        vertical-align: top;\n",
       "    }\n",
       "\n",
       "    .dataframe thead th {\n",
       "        text-align: right;\n",
       "    }\n",
       "</style>\n",
       "<table border=\"1\" class=\"dataframe\">\n",
       "  <thead>\n",
       "    <tr style=\"text-align: right;\">\n",
       "      <th></th>\n",
       "      <th>timestamp</th>\n",
       "      <th>cnt</th>\n",
       "    </tr>\n",
       "  </thead>\n",
       "  <tbody>\n",
       "    <tr>\n",
       "      <th>0</th>\n",
       "      <td>2015-01-04</td>\n",
       "      <td>NaN</td>\n",
       "    </tr>\n",
       "    <tr>\n",
       "      <th>1</th>\n",
       "      <td>2015-01-05</td>\n",
       "      <td>NaN</td>\n",
       "    </tr>\n",
       "    <tr>\n",
       "      <th>2</th>\n",
       "      <td>2015-01-06</td>\n",
       "      <td>16739.666667</td>\n",
       "    </tr>\n",
       "    <tr>\n",
       "      <th>3</th>\n",
       "      <td>2015-01-07</td>\n",
       "      <td>20683.000000</td>\n",
       "    </tr>\n",
       "    <tr>\n",
       "      <th>4</th>\n",
       "      <td>2015-01-08</td>\n",
       "      <td>19092.666667</td>\n",
       "    </tr>\n",
       "    <tr>\n",
       "      <th>...</th>\n",
       "      <td>...</td>\n",
       "      <td>...</td>\n",
       "    </tr>\n",
       "    <tr>\n",
       "      <th>726</th>\n",
       "      <td>2016-12-30</td>\n",
       "      <td>12682.000000</td>\n",
       "    </tr>\n",
       "    <tr>\n",
       "      <th>727</th>\n",
       "      <td>2016-12-31</td>\n",
       "      <td>12347.333333</td>\n",
       "    </tr>\n",
       "    <tr>\n",
       "      <th>728</th>\n",
       "      <td>2017-01-01</td>\n",
       "      <td>9803.666667</td>\n",
       "    </tr>\n",
       "    <tr>\n",
       "      <th>729</th>\n",
       "      <td>2017-01-02</td>\n",
       "      <td>9889.333333</td>\n",
       "    </tr>\n",
       "    <tr>\n",
       "      <th>730</th>\n",
       "      <td>2017-01-03</td>\n",
       "      <td>12560.000000</td>\n",
       "    </tr>\n",
       "  </tbody>\n",
       "</table>\n",
       "<p>731 rows × 2 columns</p>\n",
       "</div>"
      ],
      "text/plain": [
       "     timestamp           cnt\n",
       "0   2015-01-04           NaN\n",
       "1   2015-01-05           NaN\n",
       "2   2015-01-06  16739.666667\n",
       "3   2015-01-07  20683.000000\n",
       "4   2015-01-08  19092.666667\n",
       "..         ...           ...\n",
       "726 2016-12-30  12682.000000\n",
       "727 2016-12-31  12347.333333\n",
       "728 2017-01-01   9803.666667\n",
       "729 2017-01-02   9889.333333\n",
       "730 2017-01-03  12560.000000\n",
       "\n",
       "[731 rows x 2 columns]"
      ]
     },
     "execution_count": 13,
     "metadata": {},
     "output_type": "execute_result"
    }
   ],
   "source": [
    "df_by_day_roll = df.resample('D').agg({'cnt':'sum'}).rolling(window=3).mean().reset_index()\n",
    "df_by_day_roll"
   ]
  },
  {
   "cell_type": "code",
   "execution_count": 14,
   "id": "d07222a3",
   "metadata": {
    "ExecuteTime": {
     "end_time": "2025-04-03T20:05:03.672421Z",
     "start_time": "2025-04-03T20:05:03.513942Z"
    }
   },
   "outputs": [
    {
     "data": {
      "text/plain": [
       "<Axes: >"
      ]
     },
     "execution_count": 14,
     "metadata": {},
     "output_type": "execute_result"
    },
    {
     "data": {
      "image/png": "[encoded data removed]",
      "text/plain": [
       "<Figure size 1200x600 with 1 Axes>"
      ]
     },
     "metadata": {},
     "output_type": "display_data"
    }
   ],
   "source": [
    "df_by_day.cnt.plot()\n",
    "df_by_day_roll.cnt.plot()"
   ]
  },
  {
   "cell_type": "code",
   "execution_count": 15,
   "id": "bde4e4b9",
   "metadata": {
    "ExecuteTime": {
     "end_time": "2025-04-03T20:05:03.682709Z",
     "start_time": "2025-04-03T20:05:03.673427Z"
    }
   },
   "outputs": [
    {
     "name": "stderr",
     "output_type": "stream",
     "text": [
      "C:\\Users\\spit\\AppData\\Local\\Temp\\ipykernel_21188\\3825446354.py:1: FutureWarning: The behavior of 'isin' with dtype=datetime64[ns] and castable values (e.g. strings) is deprecated. In a future version, these will not be considered matching by isin. Explicitly cast to the appropriate dtype before calling isin instead.\n",
      "  df_by_day_roll.query(\"timestamp == '2015-07-09'\")\n"
     ]
    },
    {
     "data": {
      "text/html": [
       "<div>\n",
       "<style scoped>\n",
       "    .dataframe tbody tr th:only-of-type {\n",
       "        vertical-align: middle;\n",
       "    }\n",
       "\n",
       "    .dataframe tbody tr th {\n",
       "        vertical-align: top;\n",
       "    }\n",
       "\n",
       "    .dataframe thead th {\n",
       "        text-align: right;\n",
       "    }\n",
       "</style>\n",
       "<table border=\"1\" class=\"dataframe\">\n",
       "  <thead>\n",
       "    <tr style=\"text-align: right;\">\n",
       "      <th></th>\n",
       "      <th>timestamp</th>\n",
       "      <th>cnt</th>\n",
       "    </tr>\n",
       "  </thead>\n",
       "  <tbody>\n",
       "    <tr>\n",
       "      <th>186</th>\n",
       "      <td>2015-07-09</td>\n",
       "      <td>50705.0</td>\n",
       "    </tr>\n",
       "  </tbody>\n",
       "</table>\n",
       "</div>"
      ],
      "text/plain": [
       "     timestamp      cnt\n",
       "186 2015-07-09  50705.0"
      ]
     },
     "execution_count": 15,
     "metadata": {},
     "output_type": "execute_result"
    }
   ],
   "source": [
    "df_by_day_roll.query(\"timestamp == '2015-07-09'\")"
   ]
  },
  {
   "attachments": {
    "image.png": {
     "image/png": "[encoded data removed]"
    }
   },
   "cell_type": "markdown",
   "id": "1c99cb08",
   "metadata": {},
   "source": [
    "#### Посчитайте разницу между наблюдаемыми и значениями, подсчитанными с помощью скользящего среднего. Далее – найдите стандартное отклонение.\n",
    "![image.png](attachment:image.png)"
   ]
  },
  {
   "cell_type": "code",
   "execution_count": 16,
   "id": "b71343c8",
   "metadata": {
    "ExecuteTime": {
     "end_time": "2025-04-03T20:05:03.687554Z",
     "start_time": "2025-04-03T20:05:03.683716Z"
    }
   },
   "outputs": [
    {
     "data": {
      "text/plain": [
       "4558.59"
      ]
     },
     "execution_count": 16,
     "metadata": {},
     "output_type": "execute_result"
    }
   ],
   "source": [
    "round(np.std(df_by_day['cnt'] - df_by_day_roll['cnt']), 2 )"
   ]
  },
  {
   "cell_type": "code",
   "execution_count": 17,
   "id": "8fc1217a",
   "metadata": {
    "ExecuteTime": {
     "end_time": "2025-04-03T20:05:03.691675Z",
     "start_time": "2025-04-03T20:05:03.688560Z"
    }
   },
   "outputs": [],
   "source": [
    "std = np.std(df_by_day['cnt'] - df_by_day_roll['cnt'])"
   ]
  },
  {
   "cell_type": "markdown",
   "id": "a4f4a2b4",
   "metadata": {},
   "source": [
    "#### Посчитайте разницу между наблюдаемыми и значениями, подсчитанными с помощью скользящего среднего. Далее – найдите стандартное отклонение."
   ]
  },
  {
   "cell_type": "code",
   "execution_count": 18,
   "id": "d140f8e8",
   "metadata": {
    "ExecuteTime": {
     "end_time": "2025-04-03T20:05:03.695971Z",
     "start_time": "2025-04-03T20:05:03.692680Z"
    }
   },
   "outputs": [],
   "source": [
    "upper = df_by_day_roll.cnt + (2.576 * std)\n",
    "lower = df_by_day_roll.cnt - (2.576 * std)"
   ]
  },
  {
   "cell_type": "code",
   "execution_count": 19,
   "id": "f5c29c63",
   "metadata": {
    "ExecuteTime": {
     "end_time": "2025-04-03T20:05:03.700442Z",
     "start_time": "2025-04-03T20:05:03.696977Z"
    }
   },
   "outputs": [],
   "source": [
    "df_by_day['upper'] = upper\n",
    "df_by_day['lower'] = lower"
   ]
  },
  {
   "cell_type": "code",
   "execution_count": 20,
   "id": "8b7461d3",
   "metadata": {
    "ExecuteTime": {
     "end_time": "2025-04-03T20:05:03.708470Z",
     "start_time": "2025-04-03T20:05:03.701440Z"
    }
   },
   "outputs": [
    {
     "data": {
      "text/html": [
       "<div>\n",
       "<style scoped>\n",
       "    .dataframe tbody tr th:only-of-type {\n",
       "        vertical-align: middle;\n",
       "    }\n",
       "\n",
       "    .dataframe tbody tr th {\n",
       "        vertical-align: top;\n",
       "    }\n",
       "\n",
       "    .dataframe thead th {\n",
       "        text-align: right;\n",
       "    }\n",
       "</style>\n",
       "<table border=\"1\" class=\"dataframe\">\n",
       "  <thead>\n",
       "    <tr style=\"text-align: right;\">\n",
       "      <th></th>\n",
       "      <th>timestamp</th>\n",
       "      <th>cnt</th>\n",
       "      <th>upper</th>\n",
       "      <th>lower</th>\n",
       "    </tr>\n",
       "  </thead>\n",
       "  <tbody>\n",
       "    <tr>\n",
       "      <th>0</th>\n",
       "      <td>2015-01-04</td>\n",
       "      <td>9234</td>\n",
       "      <td>NaN</td>\n",
       "      <td>NaN</td>\n",
       "    </tr>\n",
       "    <tr>\n",
       "      <th>1</th>\n",
       "      <td>2015-01-05</td>\n",
       "      <td>20372</td>\n",
       "      <td>NaN</td>\n",
       "      <td>NaN</td>\n",
       "    </tr>\n",
       "    <tr>\n",
       "      <th>2</th>\n",
       "      <td>2015-01-06</td>\n",
       "      <td>20613</td>\n",
       "      <td>28482.585854</td>\n",
       "      <td>4996.747479</td>\n",
       "    </tr>\n",
       "    <tr>\n",
       "      <th>3</th>\n",
       "      <td>2015-01-07</td>\n",
       "      <td>21064</td>\n",
       "      <td>32425.919188</td>\n",
       "      <td>8940.080812</td>\n",
       "    </tr>\n",
       "    <tr>\n",
       "      <th>4</th>\n",
       "      <td>2015-01-08</td>\n",
       "      <td>15601</td>\n",
       "      <td>30835.585854</td>\n",
       "      <td>7349.747479</td>\n",
       "    </tr>\n",
       "    <tr>\n",
       "      <th>...</th>\n",
       "      <td>...</td>\n",
       "      <td>...</td>\n",
       "      <td>...</td>\n",
       "      <td>...</td>\n",
       "    </tr>\n",
       "    <tr>\n",
       "      <th>726</th>\n",
       "      <td>2016-12-30</td>\n",
       "      <td>11566</td>\n",
       "      <td>24424.919188</td>\n",
       "      <td>939.080812</td>\n",
       "    </tr>\n",
       "    <tr>\n",
       "      <th>727</th>\n",
       "      <td>2016-12-31</td>\n",
       "      <td>11424</td>\n",
       "      <td>24090.252521</td>\n",
       "      <td>604.414146</td>\n",
       "    </tr>\n",
       "    <tr>\n",
       "      <th>728</th>\n",
       "      <td>2017-01-01</td>\n",
       "      <td>6421</td>\n",
       "      <td>21546.585854</td>\n",
       "      <td>-1939.252521</td>\n",
       "    </tr>\n",
       "    <tr>\n",
       "      <th>729</th>\n",
       "      <td>2017-01-02</td>\n",
       "      <td>11823</td>\n",
       "      <td>21632.252521</td>\n",
       "      <td>-1853.585854</td>\n",
       "    </tr>\n",
       "    <tr>\n",
       "      <th>730</th>\n",
       "      <td>2017-01-03</td>\n",
       "      <td>19436</td>\n",
       "      <td>24302.919188</td>\n",
       "      <td>817.080812</td>\n",
       "    </tr>\n",
       "  </tbody>\n",
       "</table>\n",
       "<p>731 rows × 4 columns</p>\n",
       "</div>"
      ],
      "text/plain": [
       "     timestamp    cnt         upper        lower\n",
       "0   2015-01-04   9234           NaN          NaN\n",
       "1   2015-01-05  20372           NaN          NaN\n",
       "2   2015-01-06  20613  28482.585854  4996.747479\n",
       "3   2015-01-07  21064  32425.919188  8940.080812\n",
       "4   2015-01-08  15601  30835.585854  7349.747479\n",
       "..         ...    ...           ...          ...\n",
       "726 2016-12-30  11566  24424.919188   939.080812\n",
       "727 2016-12-31  11424  24090.252521   604.414146\n",
       "728 2017-01-01   6421  21546.585854 -1939.252521\n",
       "729 2017-01-02  11823  21632.252521 -1853.585854\n",
       "730 2017-01-03  19436  24302.919188   817.080812\n",
       "\n",
       "[731 rows x 4 columns]"
      ]
     },
     "execution_count": 20,
     "metadata": {},
     "output_type": "execute_result"
    }
   ],
   "source": [
    "df_by_day"
   ]
  },
  {
   "cell_type": "markdown",
   "id": "cad47b26",
   "metadata": {},
   "source": [
    "#### Изучите аномально высокие значения и укажите день, когда число аренд было наибольшим. Найдите причину данной аномалии."
   ]
  },
  {
   "cell_type": "code",
   "execution_count": 21,
   "id": "4f820074",
   "metadata": {
    "ExecuteTime": {
     "end_time": "2025-04-03T20:05:03.715975Z",
     "start_time": "2025-04-03T20:05:03.709469Z"
    }
   },
   "outputs": [
    {
     "data": {
      "text/html": [
       "<div>\n",
       "<style scoped>\n",
       "    .dataframe tbody tr th:only-of-type {\n",
       "        vertical-align: middle;\n",
       "    }\n",
       "\n",
       "    .dataframe tbody tr th {\n",
       "        vertical-align: top;\n",
       "    }\n",
       "\n",
       "    .dataframe thead th {\n",
       "        text-align: right;\n",
       "    }\n",
       "</style>\n",
       "<table border=\"1\" class=\"dataframe\">\n",
       "  <thead>\n",
       "    <tr style=\"text-align: right;\">\n",
       "      <th></th>\n",
       "      <th>timestamp</th>\n",
       "      <th>cnt</th>\n",
       "      <th>upper</th>\n",
       "      <th>lower</th>\n",
       "    </tr>\n",
       "  </thead>\n",
       "  <tbody>\n",
       "    <tr>\n",
       "      <th>186</th>\n",
       "      <td>2015-07-09</td>\n",
       "      <td>72504</td>\n",
       "      <td>62447.919188</td>\n",
       "      <td>38962.080812</td>\n",
       "    </tr>\n",
       "    <tr>\n",
       "      <th>214</th>\n",
       "      <td>2015-08-06</td>\n",
       "      <td>63468</td>\n",
       "      <td>58370.252521</td>\n",
       "      <td>34884.414146</td>\n",
       "    </tr>\n",
       "    <tr>\n",
       "      <th>609</th>\n",
       "      <td>2016-09-04</td>\n",
       "      <td>27512</td>\n",
       "      <td>26001.919188</td>\n",
       "      <td>2516.080812</td>\n",
       "    </tr>\n",
       "    <tr>\n",
       "      <th>721</th>\n",
       "      <td>2016-12-25</td>\n",
       "      <td>36653</td>\n",
       "      <td>31393.585854</td>\n",
       "      <td>7907.747479</td>\n",
       "    </tr>\n",
       "  </tbody>\n",
       "</table>\n",
       "</div>"
      ],
      "text/plain": [
       "     timestamp    cnt         upper         lower\n",
       "186 2015-07-09  72504  62447.919188  38962.080812\n",
       "214 2015-08-06  63468  58370.252521  34884.414146\n",
       "609 2016-09-04  27512  26001.919188   2516.080812\n",
       "721 2016-12-25  36653  31393.585854   7907.747479"
      ]
     },
     "execution_count": 21,
     "metadata": {},
     "output_type": "execute_result"
    }
   ],
   "source": [
    "df_by_day[df_by_day['cnt'] > df_by_day['upper']]"
   ]
  },
  {
   "cell_type": "markdown",
   "id": "21c3eec0",
   "metadata": {
    "ExecuteTime": {
     "end_time": "2025-03-30T14:50:58.354881Z",
     "start_time": "2025-03-30T14:50:58.340391Z"
    }
   },
   "source": [
    " в 2015-07-09 были забостовки работников в метро и поэтому оно не работала. В свяхи с этим был спрос на велосипеды"
   ]
  },
  {
   "cell_type": "markdown",
   "id": "1b0d1b0d",
   "metadata": {},
   "source": [
    "#### Изучите аномально низкие значения, найдите день с наименьшим числом аренд. Найдите причину данной аномалии."
   ]
  },
  {
   "cell_type": "code",
   "execution_count": 22,
   "id": "e3a811eb",
   "metadata": {
    "ExecuteTime": {
     "end_time": "2025-04-03T20:05:03.723460Z",
     "start_time": "2025-04-03T20:05:03.716982Z"
    }
   },
   "outputs": [
    {
     "data": {
      "text/html": [
       "<div>\n",
       "<style scoped>\n",
       "    .dataframe tbody tr th:only-of-type {\n",
       "        vertical-align: middle;\n",
       "    }\n",
       "\n",
       "    .dataframe tbody tr th {\n",
       "        vertical-align: top;\n",
       "    }\n",
       "\n",
       "    .dataframe thead th {\n",
       "        text-align: right;\n",
       "    }\n",
       "</style>\n",
       "<table border=\"1\" class=\"dataframe\">\n",
       "  <thead>\n",
       "    <tr style=\"text-align: right;\">\n",
       "      <th></th>\n",
       "      <th>timestamp</th>\n",
       "      <th>cnt</th>\n",
       "      <th>upper</th>\n",
       "      <th>lower</th>\n",
       "    </tr>\n",
       "  </thead>\n",
       "  <tbody>\n",
       "    <tr>\n",
       "      <th>130</th>\n",
       "      <td>2015-05-14</td>\n",
       "      <td>15609</td>\n",
       "      <td>40452.252521</td>\n",
       "      <td>16966.414146</td>\n",
       "    </tr>\n",
       "    <tr>\n",
       "      <th>189</th>\n",
       "      <td>2015-07-12</td>\n",
       "      <td>23240</td>\n",
       "      <td>47779.585854</td>\n",
       "      <td>24293.747479</td>\n",
       "    </tr>\n",
       "    <tr>\n",
       "      <th>201</th>\n",
       "      <td>2015-07-24</td>\n",
       "      <td>16034</td>\n",
       "      <td>42756.585854</td>\n",
       "      <td>19270.747479</td>\n",
       "    </tr>\n",
       "    <tr>\n",
       "      <th>232</th>\n",
       "      <td>2015-08-24</td>\n",
       "      <td>17400</td>\n",
       "      <td>41272.252521</td>\n",
       "      <td>17786.414146</td>\n",
       "    </tr>\n",
       "    <tr>\n",
       "      <th>314</th>\n",
       "      <td>2015-11-14</td>\n",
       "      <td>8898</td>\n",
       "      <td>32780.252521</td>\n",
       "      <td>9294.414146</td>\n",
       "    </tr>\n",
       "    <tr>\n",
       "      <th>607</th>\n",
       "      <td>2016-09-02</td>\n",
       "      <td>0</td>\n",
       "      <td>37829.252521</td>\n",
       "      <td>14343.414146</td>\n",
       "    </tr>\n",
       "    <tr>\n",
       "      <th>615</th>\n",
       "      <td>2016-09-10</td>\n",
       "      <td>17080</td>\n",
       "      <td>43004.919188</td>\n",
       "      <td>19519.080812</td>\n",
       "    </tr>\n",
       "    <tr>\n",
       "      <th>621</th>\n",
       "      <td>2016-09-16</td>\n",
       "      <td>21967</td>\n",
       "      <td>47936.252521</td>\n",
       "      <td>24450.414146</td>\n",
       "    </tr>\n",
       "    <tr>\n",
       "      <th>678</th>\n",
       "      <td>2016-11-12</td>\n",
       "      <td>8990</td>\n",
       "      <td>32620.919188</td>\n",
       "      <td>9135.080812</td>\n",
       "    </tr>\n",
       "  </tbody>\n",
       "</table>\n",
       "</div>"
      ],
      "text/plain": [
       "     timestamp    cnt         upper         lower\n",
       "130 2015-05-14  15609  40452.252521  16966.414146\n",
       "189 2015-07-12  23240  47779.585854  24293.747479\n",
       "201 2015-07-24  16034  42756.585854  19270.747479\n",
       "232 2015-08-24  17400  41272.252521  17786.414146\n",
       "314 2015-11-14   8898  32780.252521   9294.414146\n",
       "607 2016-09-02      0  37829.252521  14343.414146\n",
       "615 2016-09-10  17080  43004.919188  19519.080812\n",
       "621 2016-09-16  21967  47936.252521  24450.414146\n",
       "678 2016-11-12   8990  32620.919188   9135.080812"
      ]
     },
     "execution_count": 22,
     "metadata": {},
     "output_type": "execute_result"
    }
   ],
   "source": [
    "df_by_day[df_by_day['cnt'] < df_by_day['lower']]"
   ]
  },
  {
   "cell_type": "code",
   "execution_count": 23,
   "id": "b040cbaf",
   "metadata": {
    "ExecuteTime": {
     "end_time": "2025-04-03T20:05:03.744657Z",
     "start_time": "2025-04-03T20:05:03.724467Z"
    },
    "scrolled": false
   },
   "outputs": [
    {
     "data": {
      "text/html": [
       "<div>\n",
       "<style scoped>\n",
       "    .dataframe tbody tr th:only-of-type {\n",
       "        vertical-align: middle;\n",
       "    }\n",
       "\n",
       "    .dataframe tbody tr th {\n",
       "        vertical-align: top;\n",
       "    }\n",
       "\n",
       "    .dataframe thead th {\n",
       "        text-align: right;\n",
       "    }\n",
       "</style>\n",
       "<table border=\"1\" class=\"dataframe\">\n",
       "  <thead>\n",
       "    <tr style=\"text-align: right;\">\n",
       "      <th></th>\n",
       "      <th>timestamp</th>\n",
       "      <th>cnt</th>\n",
       "      <th>t1</th>\n",
       "      <th>t2</th>\n",
       "      <th>hum</th>\n",
       "      <th>wind_speed</th>\n",
       "      <th>weather_code</th>\n",
       "      <th>is_holiday</th>\n",
       "      <th>is_weekend</th>\n",
       "      <th>season</th>\n",
       "    </tr>\n",
       "    <tr>\n",
       "      <th>timestamp</th>\n",
       "      <th></th>\n",
       "      <th></th>\n",
       "      <th></th>\n",
       "      <th></th>\n",
       "      <th></th>\n",
       "      <th></th>\n",
       "      <th></th>\n",
       "      <th></th>\n",
       "      <th></th>\n",
       "      <th></th>\n",
       "    </tr>\n",
       "  </thead>\n",
       "  <tbody>\n",
       "    <tr>\n",
       "      <th>2016-09-01 00:00:00</th>\n",
       "      <td>2016-09-01 00:00:00</td>\n",
       "      <td>322</td>\n",
       "      <td>18.0</td>\n",
       "      <td>18.0</td>\n",
       "      <td>68.0</td>\n",
       "      <td>15.0</td>\n",
       "      <td>1.0</td>\n",
       "      <td>0.0</td>\n",
       "      <td>0.0</td>\n",
       "      <td>2.0</td>\n",
       "    </tr>\n",
       "    <tr>\n",
       "      <th>2016-09-01 01:00:00</th>\n",
       "      <td>2016-09-01 01:00:00</td>\n",
       "      <td>186</td>\n",
       "      <td>17.0</td>\n",
       "      <td>17.0</td>\n",
       "      <td>73.0</td>\n",
       "      <td>16.0</td>\n",
       "      <td>1.0</td>\n",
       "      <td>0.0</td>\n",
       "      <td>0.0</td>\n",
       "      <td>2.0</td>\n",
       "    </tr>\n",
       "    <tr>\n",
       "      <th>2016-09-01 02:00:00</th>\n",
       "      <td>2016-09-01 02:00:00</td>\n",
       "      <td>89</td>\n",
       "      <td>16.5</td>\n",
       "      <td>16.5</td>\n",
       "      <td>75.0</td>\n",
       "      <td>16.0</td>\n",
       "      <td>1.0</td>\n",
       "      <td>0.0</td>\n",
       "      <td>0.0</td>\n",
       "      <td>2.0</td>\n",
       "    </tr>\n",
       "    <tr>\n",
       "      <th>2016-09-01 03:00:00</th>\n",
       "      <td>2016-09-01 03:00:00</td>\n",
       "      <td>56</td>\n",
       "      <td>16.0</td>\n",
       "      <td>16.0</td>\n",
       "      <td>74.5</td>\n",
       "      <td>11.0</td>\n",
       "      <td>2.0</td>\n",
       "      <td>0.0</td>\n",
       "      <td>0.0</td>\n",
       "      <td>2.0</td>\n",
       "    </tr>\n",
       "    <tr>\n",
       "      <th>2016-09-01 04:00:00</th>\n",
       "      <td>2016-09-01 04:00:00</td>\n",
       "      <td>64</td>\n",
       "      <td>16.0</td>\n",
       "      <td>16.0</td>\n",
       "      <td>77.0</td>\n",
       "      <td>12.0</td>\n",
       "      <td>2.0</td>\n",
       "      <td>0.0</td>\n",
       "      <td>0.0</td>\n",
       "      <td>2.0</td>\n",
       "    </tr>\n",
       "    <tr>\n",
       "      <th>2016-09-01 05:00:00</th>\n",
       "      <td>2016-09-01 05:00:00</td>\n",
       "      <td>133</td>\n",
       "      <td>15.0</td>\n",
       "      <td>15.0</td>\n",
       "      <td>82.0</td>\n",
       "      <td>11.0</td>\n",
       "      <td>2.0</td>\n",
       "      <td>0.0</td>\n",
       "      <td>0.0</td>\n",
       "      <td>2.0</td>\n",
       "    </tr>\n",
       "    <tr>\n",
       "      <th>2016-09-01 06:00:00</th>\n",
       "      <td>2016-09-01 06:00:00</td>\n",
       "      <td>811</td>\n",
       "      <td>15.0</td>\n",
       "      <td>15.0</td>\n",
       "      <td>82.0</td>\n",
       "      <td>12.0</td>\n",
       "      <td>2.0</td>\n",
       "      <td>0.0</td>\n",
       "      <td>0.0</td>\n",
       "      <td>2.0</td>\n",
       "    </tr>\n",
       "    <tr>\n",
       "      <th>2016-09-01 07:00:00</th>\n",
       "      <td>2016-09-01 07:00:00</td>\n",
       "      <td>2663</td>\n",
       "      <td>16.0</td>\n",
       "      <td>16.0</td>\n",
       "      <td>77.0</td>\n",
       "      <td>11.0</td>\n",
       "      <td>2.0</td>\n",
       "      <td>0.0</td>\n",
       "      <td>0.0</td>\n",
       "      <td>2.0</td>\n",
       "    </tr>\n",
       "    <tr>\n",
       "      <th>2016-09-01 08:00:00</th>\n",
       "      <td>2016-09-01 08:00:00</td>\n",
       "      <td>4631</td>\n",
       "      <td>16.5</td>\n",
       "      <td>16.5</td>\n",
       "      <td>75.0</td>\n",
       "      <td>9.0</td>\n",
       "      <td>2.0</td>\n",
       "      <td>0.0</td>\n",
       "      <td>0.0</td>\n",
       "      <td>2.0</td>\n",
       "    </tr>\n",
       "    <tr>\n",
       "      <th>2016-09-01 09:00:00</th>\n",
       "      <td>2016-09-01 09:00:00</td>\n",
       "      <td>2365</td>\n",
       "      <td>18.0</td>\n",
       "      <td>18.0</td>\n",
       "      <td>68.0</td>\n",
       "      <td>6.5</td>\n",
       "      <td>2.0</td>\n",
       "      <td>0.0</td>\n",
       "      <td>0.0</td>\n",
       "      <td>2.0</td>\n",
       "    </tr>\n",
       "    <tr>\n",
       "      <th>2016-09-01 10:00:00</th>\n",
       "      <td>2016-09-01 10:00:00</td>\n",
       "      <td>1252</td>\n",
       "      <td>19.5</td>\n",
       "      <td>19.5</td>\n",
       "      <td>62.0</td>\n",
       "      <td>12.0</td>\n",
       "      <td>2.0</td>\n",
       "      <td>0.0</td>\n",
       "      <td>0.0</td>\n",
       "      <td>2.0</td>\n",
       "    </tr>\n",
       "    <tr>\n",
       "      <th>2016-09-01 11:00:00</th>\n",
       "      <td>2016-09-01 11:00:00</td>\n",
       "      <td>1205</td>\n",
       "      <td>21.0</td>\n",
       "      <td>21.0</td>\n",
       "      <td>57.0</td>\n",
       "      <td>15.0</td>\n",
       "      <td>1.0</td>\n",
       "      <td>0.0</td>\n",
       "      <td>0.0</td>\n",
       "      <td>2.0</td>\n",
       "    </tr>\n",
       "    <tr>\n",
       "      <th>2016-09-01 12:00:00</th>\n",
       "      <td>2016-09-01 12:00:00</td>\n",
       "      <td>1723</td>\n",
       "      <td>21.0</td>\n",
       "      <td>21.0</td>\n",
       "      <td>51.5</td>\n",
       "      <td>14.0</td>\n",
       "      <td>2.0</td>\n",
       "      <td>0.0</td>\n",
       "      <td>0.0</td>\n",
       "      <td>2.0</td>\n",
       "    </tr>\n",
       "    <tr>\n",
       "      <th>2016-09-01 13:00:00</th>\n",
       "      <td>2016-09-01 13:00:00</td>\n",
       "      <td>1784</td>\n",
       "      <td>22.5</td>\n",
       "      <td>22.0</td>\n",
       "      <td>45.5</td>\n",
       "      <td>12.0</td>\n",
       "      <td>2.0</td>\n",
       "      <td>0.0</td>\n",
       "      <td>0.0</td>\n",
       "      <td>2.0</td>\n",
       "    </tr>\n",
       "    <tr>\n",
       "      <th>2016-09-01 14:00:00</th>\n",
       "      <td>2016-09-01 14:00:00</td>\n",
       "      <td>1734</td>\n",
       "      <td>22.5</td>\n",
       "      <td>22.0</td>\n",
       "      <td>45.5</td>\n",
       "      <td>13.0</td>\n",
       "      <td>2.0</td>\n",
       "      <td>0.0</td>\n",
       "      <td>0.0</td>\n",
       "      <td>2.0</td>\n",
       "    </tr>\n",
       "    <tr>\n",
       "      <th>2016-09-01 15:00:00</th>\n",
       "      <td>2016-09-01 15:00:00</td>\n",
       "      <td>1897</td>\n",
       "      <td>23.5</td>\n",
       "      <td>23.5</td>\n",
       "      <td>44.0</td>\n",
       "      <td>14.0</td>\n",
       "      <td>1.0</td>\n",
       "      <td>0.0</td>\n",
       "      <td>0.0</td>\n",
       "      <td>2.0</td>\n",
       "    </tr>\n",
       "    <tr>\n",
       "      <th>2016-09-01 16:00:00</th>\n",
       "      <td>2016-09-01 16:00:00</td>\n",
       "      <td>2549</td>\n",
       "      <td>24.0</td>\n",
       "      <td>24.0</td>\n",
       "      <td>41.0</td>\n",
       "      <td>14.0</td>\n",
       "      <td>1.0</td>\n",
       "      <td>0.0</td>\n",
       "      <td>0.0</td>\n",
       "      <td>2.0</td>\n",
       "    </tr>\n",
       "    <tr>\n",
       "      <th>2016-09-01 17:00:00</th>\n",
       "      <td>2016-09-01 17:00:00</td>\n",
       "      <td>4573</td>\n",
       "      <td>23.5</td>\n",
       "      <td>23.0</td>\n",
       "      <td>41.0</td>\n",
       "      <td>16.0</td>\n",
       "      <td>1.0</td>\n",
       "      <td>0.0</td>\n",
       "      <td>0.0</td>\n",
       "      <td>2.0</td>\n",
       "    </tr>\n",
       "    <tr>\n",
       "      <th>2016-09-01 18:00:00</th>\n",
       "      <td>2016-09-01 18:00:00</td>\n",
       "      <td>4690</td>\n",
       "      <td>23.0</td>\n",
       "      <td>23.0</td>\n",
       "      <td>44.0</td>\n",
       "      <td>18.0</td>\n",
       "      <td>1.0</td>\n",
       "      <td>0.0</td>\n",
       "      <td>0.0</td>\n",
       "      <td>2.0</td>\n",
       "    </tr>\n",
       "    <tr>\n",
       "      <th>2016-09-01 19:00:00</th>\n",
       "      <td>2016-09-01 19:00:00</td>\n",
       "      <td>2776</td>\n",
       "      <td>22.5</td>\n",
       "      <td>22.5</td>\n",
       "      <td>50.0</td>\n",
       "      <td>17.0</td>\n",
       "      <td>1.0</td>\n",
       "      <td>0.0</td>\n",
       "      <td>0.0</td>\n",
       "      <td>2.0</td>\n",
       "    </tr>\n",
       "    <tr>\n",
       "      <th>2016-09-01 20:00:00</th>\n",
       "      <td>2016-09-01 20:00:00</td>\n",
       "      <td>1672</td>\n",
       "      <td>20.5</td>\n",
       "      <td>20.5</td>\n",
       "      <td>62.0</td>\n",
       "      <td>17.0</td>\n",
       "      <td>1.0</td>\n",
       "      <td>0.0</td>\n",
       "      <td>0.0</td>\n",
       "      <td>2.0</td>\n",
       "    </tr>\n",
       "    <tr>\n",
       "      <th>2016-09-01 21:00:00</th>\n",
       "      <td>2016-09-01 21:00:00</td>\n",
       "      <td>1156</td>\n",
       "      <td>19.0</td>\n",
       "      <td>19.0</td>\n",
       "      <td>68.0</td>\n",
       "      <td>17.0</td>\n",
       "      <td>1.0</td>\n",
       "      <td>0.0</td>\n",
       "      <td>0.0</td>\n",
       "      <td>2.0</td>\n",
       "    </tr>\n",
       "    <tr>\n",
       "      <th>2016-09-01 22:00:00</th>\n",
       "      <td>2016-09-01 22:00:00</td>\n",
       "      <td>939</td>\n",
       "      <td>18.5</td>\n",
       "      <td>18.5</td>\n",
       "      <td>68.0</td>\n",
       "      <td>18.0</td>\n",
       "      <td>1.0</td>\n",
       "      <td>0.0</td>\n",
       "      <td>0.0</td>\n",
       "      <td>2.0</td>\n",
       "    </tr>\n",
       "    <tr>\n",
       "      <th>2016-09-03 12:00:00</th>\n",
       "      <td>2016-09-03 12:00:00</td>\n",
       "      <td>2709</td>\n",
       "      <td>21.0</td>\n",
       "      <td>21.0</td>\n",
       "      <td>57.0</td>\n",
       "      <td>24.0</td>\n",
       "      <td>2.0</td>\n",
       "      <td>0.0</td>\n",
       "      <td>1.0</td>\n",
       "      <td>2.0</td>\n",
       "    </tr>\n",
       "    <tr>\n",
       "      <th>2016-09-03 13:00:00</th>\n",
       "      <td>2016-09-03 13:00:00</td>\n",
       "      <td>2382</td>\n",
       "      <td>20.0</td>\n",
       "      <td>20.0</td>\n",
       "      <td>64.0</td>\n",
       "      <td>24.0</td>\n",
       "      <td>4.0</td>\n",
       "      <td>0.0</td>\n",
       "      <td>1.0</td>\n",
       "      <td>2.0</td>\n",
       "    </tr>\n",
       "    <tr>\n",
       "      <th>2016-09-03 14:00:00</th>\n",
       "      <td>2016-09-03 14:00:00</td>\n",
       "      <td>2528</td>\n",
       "      <td>20.0</td>\n",
       "      <td>20.0</td>\n",
       "      <td>64.0</td>\n",
       "      <td>19.0</td>\n",
       "      <td>7.0</td>\n",
       "      <td>0.0</td>\n",
       "      <td>1.0</td>\n",
       "      <td>2.0</td>\n",
       "    </tr>\n",
       "    <tr>\n",
       "      <th>2016-09-03 15:00:00</th>\n",
       "      <td>2016-09-03 15:00:00</td>\n",
       "      <td>2663</td>\n",
       "      <td>21.0</td>\n",
       "      <td>21.0</td>\n",
       "      <td>60.0</td>\n",
       "      <td>26.0</td>\n",
       "      <td>2.0</td>\n",
       "      <td>0.0</td>\n",
       "      <td>1.0</td>\n",
       "      <td>2.0</td>\n",
       "    </tr>\n",
       "    <tr>\n",
       "      <th>2016-09-03 16:00:00</th>\n",
       "      <td>2016-09-03 16:00:00</td>\n",
       "      <td>1728</td>\n",
       "      <td>21.0</td>\n",
       "      <td>21.0</td>\n",
       "      <td>64.0</td>\n",
       "      <td>26.0</td>\n",
       "      <td>7.0</td>\n",
       "      <td>0.0</td>\n",
       "      <td>1.0</td>\n",
       "      <td>2.0</td>\n",
       "    </tr>\n",
       "    <tr>\n",
       "      <th>2016-09-03 17:00:00</th>\n",
       "      <td>2016-09-03 17:00:00</td>\n",
       "      <td>583</td>\n",
       "      <td>19.0</td>\n",
       "      <td>19.0</td>\n",
       "      <td>73.0</td>\n",
       "      <td>20.0</td>\n",
       "      <td>7.0</td>\n",
       "      <td>0.0</td>\n",
       "      <td>1.0</td>\n",
       "      <td>2.0</td>\n",
       "    </tr>\n",
       "    <tr>\n",
       "      <th>2016-09-03 18:00:00</th>\n",
       "      <td>2016-09-03 18:00:00</td>\n",
       "      <td>503</td>\n",
       "      <td>18.0</td>\n",
       "      <td>18.0</td>\n",
       "      <td>83.0</td>\n",
       "      <td>20.0</td>\n",
       "      <td>7.0</td>\n",
       "      <td>0.0</td>\n",
       "      <td>1.0</td>\n",
       "      <td>2.0</td>\n",
       "    </tr>\n",
       "    <tr>\n",
       "      <th>2016-09-03 19:00:00</th>\n",
       "      <td>2016-09-03 19:00:00</td>\n",
       "      <td>669</td>\n",
       "      <td>18.0</td>\n",
       "      <td>18.0</td>\n",
       "      <td>88.0</td>\n",
       "      <td>20.0</td>\n",
       "      <td>7.0</td>\n",
       "      <td>0.0</td>\n",
       "      <td>1.0</td>\n",
       "      <td>2.0</td>\n",
       "    </tr>\n",
       "    <tr>\n",
       "      <th>2016-09-03 20:00:00</th>\n",
       "      <td>2016-09-03 20:00:00</td>\n",
       "      <td>408</td>\n",
       "      <td>18.0</td>\n",
       "      <td>18.0</td>\n",
       "      <td>88.0</td>\n",
       "      <td>28.0</td>\n",
       "      <td>7.0</td>\n",
       "      <td>0.0</td>\n",
       "      <td>1.0</td>\n",
       "      <td>2.0</td>\n",
       "    </tr>\n",
       "    <tr>\n",
       "      <th>2016-09-03 21:00:00</th>\n",
       "      <td>2016-09-03 21:00:00</td>\n",
       "      <td>354</td>\n",
       "      <td>19.0</td>\n",
       "      <td>19.0</td>\n",
       "      <td>88.0</td>\n",
       "      <td>19.0</td>\n",
       "      <td>7.0</td>\n",
       "      <td>0.0</td>\n",
       "      <td>1.0</td>\n",
       "      <td>2.0</td>\n",
       "    </tr>\n",
       "    <tr>\n",
       "      <th>2016-09-03 22:00:00</th>\n",
       "      <td>2016-09-03 22:00:00</td>\n",
       "      <td>355</td>\n",
       "      <td>19.0</td>\n",
       "      <td>19.0</td>\n",
       "      <td>88.0</td>\n",
       "      <td>17.0</td>\n",
       "      <td>7.0</td>\n",
       "      <td>0.0</td>\n",
       "      <td>1.0</td>\n",
       "      <td>2.0</td>\n",
       "    </tr>\n",
       "    <tr>\n",
       "      <th>2016-09-03 23:00:00</th>\n",
       "      <td>2016-09-03 23:00:00</td>\n",
       "      <td>383</td>\n",
       "      <td>19.0</td>\n",
       "      <td>19.0</td>\n",
       "      <td>88.0</td>\n",
       "      <td>20.0</td>\n",
       "      <td>2.0</td>\n",
       "      <td>0.0</td>\n",
       "      <td>1.0</td>\n",
       "      <td>2.0</td>\n",
       "    </tr>\n",
       "  </tbody>\n",
       "</table>\n",
       "</div>"
      ],
      "text/plain": [
       "                              timestamp   cnt    t1    t2   hum  wind_speed  \\\n",
       "timestamp                                                                     \n",
       "2016-09-01 00:00:00 2016-09-01 00:00:00   322  18.0  18.0  68.0        15.0   \n",
       "2016-09-01 01:00:00 2016-09-01 01:00:00   186  17.0  17.0  73.0        16.0   \n",
       "2016-09-01 02:00:00 2016-09-01 02:00:00    89  16.5  16.5  75.0        16.0   \n",
       "2016-09-01 03:00:00 2016-09-01 03:00:00    56  16.0  16.0  74.5        11.0   \n",
       "2016-09-01 04:00:00 2016-09-01 04:00:00    64  16.0  16.0  77.0        12.0   \n",
       "2016-09-01 05:00:00 2016-09-01 05:00:00   133  15.0  15.0  82.0        11.0   \n",
       "2016-09-01 06:00:00 2016-09-01 06:00:00   811  15.0  15.0  82.0        12.0   \n",
       "2016-09-01 07:00:00 2016-09-01 07:00:00  2663  16.0  16.0  77.0        11.0   \n",
       "2016-09-01 08:00:00 2016-09-01 08:00:00  4631  16.5  16.5  75.0         9.0   \n",
       "2016-09-01 09:00:00 2016-09-01 09:00:00  2365  18.0  18.0  68.0         6.5   \n",
       "2016-09-01 10:00:00 2016-09-01 10:00:00  1252  19.5  19.5  62.0        12.0   \n",
       "2016-09-01 11:00:00 2016-09-01 11:00:00  1205  21.0  21.0  57.0        15.0   \n",
       "2016-09-01 12:00:00 2016-09-01 12:00:00  1723  21.0  21.0  51.5        14.0   \n",
       "2016-09-01 13:00:00 2016-09-01 13:00:00  1784  22.5  22.0  45.5        12.0   \n",
       "2016-09-01 14:00:00 2016-09-01 14:00:00  1734  22.5  22.0  45.5        13.0   \n",
       "2016-09-01 15:00:00 2016-09-01 15:00:00  1897  23.5  23.5  44.0        14.0   \n",
       "2016-09-01 16:00:00 2016-09-01 16:00:00  2549  24.0  24.0  41.0        14.0   \n",
       "2016-09-01 17:00:00 2016-09-01 17:00:00  4573  23.5  23.0  41.0        16.0   \n",
       "2016-09-01 18:00:00 2016-09-01 18:00:00  4690  23.0  23.0  44.0        18.0   \n",
       "2016-09-01 19:00:00 2016-09-01 19:00:00  2776  22.5  22.5  50.0        17.0   \n",
       "2016-09-01 20:00:00 2016-09-01 20:00:00  1672  20.5  20.5  62.0        17.0   \n",
       "2016-09-01 21:00:00 2016-09-01 21:00:00  1156  19.0  19.0  68.0        17.0   \n",
       "2016-09-01 22:00:00 2016-09-01 22:00:00   939  18.5  18.5  68.0        18.0   \n",
       "2016-09-03 12:00:00 2016-09-03 12:00:00  2709  21.0  21.0  57.0        24.0   \n",
       "2016-09-03 13:00:00 2016-09-03 13:00:00  2382  20.0  20.0  64.0        24.0   \n",
       "2016-09-03 14:00:00 2016-09-03 14:00:00  2528  20.0  20.0  64.0        19.0   \n",
       "2016-09-03 15:00:00 2016-09-03 15:00:00  2663  21.0  21.0  60.0        26.0   \n",
       "2016-09-03 16:00:00 2016-09-03 16:00:00  1728  21.0  21.0  64.0        26.0   \n",
       "2016-09-03 17:00:00 2016-09-03 17:00:00   583  19.0  19.0  73.0        20.0   \n",
       "2016-09-03 18:00:00 2016-09-03 18:00:00   503  18.0  18.0  83.0        20.0   \n",
       "2016-09-03 19:00:00 2016-09-03 19:00:00   669  18.0  18.0  88.0        20.0   \n",
       "2016-09-03 20:00:00 2016-09-03 20:00:00   408  18.0  18.0  88.0        28.0   \n",
       "2016-09-03 21:00:00 2016-09-03 21:00:00   354  19.0  19.0  88.0        19.0   \n",
       "2016-09-03 22:00:00 2016-09-03 22:00:00   355  19.0  19.0  88.0        17.0   \n",
       "2016-09-03 23:00:00 2016-09-03 23:00:00   383  19.0  19.0  88.0        20.0   \n",
       "\n",
       "                     weather_code  is_holiday  is_weekend  season  \n",
       "timestamp                                                          \n",
       "2016-09-01 00:00:00           1.0         0.0         0.0     2.0  \n",
       "2016-09-01 01:00:00           1.0         0.0         0.0     2.0  \n",
       "2016-09-01 02:00:00           1.0         0.0         0.0     2.0  \n",
       "2016-09-01 03:00:00           2.0         0.0         0.0     2.0  \n",
       "2016-09-01 04:00:00           2.0         0.0         0.0     2.0  \n",
       "2016-09-01 05:00:00           2.0         0.0         0.0     2.0  \n",
       "2016-09-01 06:00:00           2.0         0.0         0.0     2.0  \n",
       "2016-09-01 07:00:00           2.0         0.0         0.0     2.0  \n",
       "2016-09-01 08:00:00           2.0         0.0         0.0     2.0  \n",
       "2016-09-01 09:00:00           2.0         0.0         0.0     2.0  \n",
       "2016-09-01 10:00:00           2.0         0.0         0.0     2.0  \n",
       "2016-09-01 11:00:00           1.0         0.0         0.0     2.0  \n",
       "2016-09-01 12:00:00           2.0         0.0         0.0     2.0  \n",
       "2016-09-01 13:00:00           2.0         0.0         0.0     2.0  \n",
       "2016-09-01 14:00:00           2.0         0.0         0.0     2.0  \n",
       "2016-09-01 15:00:00           1.0         0.0         0.0     2.0  \n",
       "2016-09-01 16:00:00           1.0         0.0         0.0     2.0  \n",
       "2016-09-01 17:00:00           1.0         0.0         0.0     2.0  \n",
       "2016-09-01 18:00:00           1.0         0.0         0.0     2.0  \n",
       "2016-09-01 19:00:00           1.0         0.0         0.0     2.0  \n",
       "2016-09-01 20:00:00           1.0         0.0         0.0     2.0  \n",
       "2016-09-01 21:00:00           1.0         0.0         0.0     2.0  \n",
       "2016-09-01 22:00:00           1.0         0.0         0.0     2.0  \n",
       "2016-09-03 12:00:00           2.0         0.0         1.0     2.0  \n",
       "2016-09-03 13:00:00           4.0         0.0         1.0     2.0  \n",
       "2016-09-03 14:00:00           7.0         0.0         1.0     2.0  \n",
       "2016-09-03 15:00:00           2.0         0.0         1.0     2.0  \n",
       "2016-09-03 16:00:00           7.0         0.0         1.0     2.0  \n",
       "2016-09-03 17:00:00           7.0         0.0         1.0     2.0  \n",
       "2016-09-03 18:00:00           7.0         0.0         1.0     2.0  \n",
       "2016-09-03 19:00:00           7.0         0.0         1.0     2.0  \n",
       "2016-09-03 20:00:00           7.0         0.0         1.0     2.0  \n",
       "2016-09-03 21:00:00           7.0         0.0         1.0     2.0  \n",
       "2016-09-03 22:00:00           7.0         0.0         1.0     2.0  \n",
       "2016-09-03 23:00:00           2.0         0.0         1.0     2.0  "
      ]
     },
     "execution_count": 23,
     "metadata": {},
     "output_type": "execute_result"
    }
   ],
   "source": [
    "df['2016-09-01':'2016-09-03']"
   ]
  },
  {
   "cell_type": "markdown",
   "id": "aea6f119",
   "metadata": {},
   "source": [
    "вероятнее всего произошел сбой в сборе данных"
   ]
  }
 ],
 "metadata": {
  "kernelspec": {
   "display_name": "Python 3 (ipykernel)",
   "language": "python",
   "name": "python3"
  },
  "language_info": {
   "codemirror_mode": {
    "name": "ipython",
    "version": 3
   },
   "file_extension": ".py",
   "mimetype": "text/x-python",
   "name": "python",
   "nbconvert_exporter": "python",
   "pygments_lexer": "ipython3",
   "version": "3.12.3"
  },
  "varInspector": {
   "cols": {
    "lenName": 16,
    "lenType": 16,
    "lenVar": 40
   },
   "kernels_config": {
    "python": {
     "delete_cmd_postfix": "",
     "delete_cmd_prefix": "del ",
     "library": "var_list.py",
     "varRefreshCmd": "print(var_dic_list())"
    },
    "r": {
     "delete_cmd_postfix": ") ",
     "delete_cmd_prefix": "rm(",
     "library": "var_list.r",
     "varRefreshCmd": "cat(var_dic_list()) "
    }
   },
   "types_to_exclude": [
    "module",
    "function",
    "builtin_function_or_method",
    "instance",
    "_Feature"
   ],
   "window_display": false
  }
 },
 "nbformat": 4,
 "nbformat_minor": 5
}
