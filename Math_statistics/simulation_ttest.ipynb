{
 "cells": [
  {
   "cell_type": "code",
   "execution_count": 1,
   "id": "1e667a38",
   "metadata": {
    "ExecuteTime": {
     "end_time": "2025-03-31T22:47:57.704149Z",
     "start_time": "2025-03-31T22:47:56.420802Z"
    }
   },
   "outputs": [],
   "source": [
    "import pandas as pd\n",
    "import numpy as np\n",
    "import seaborn as sns\n",
    "%matplotlib inline"
   ]
  },
  {
   "cell_type": "code",
   "execution_count": 2,
   "id": "340feba0",
   "metadata": {
    "ExecuteTime": {
     "end_time": "2025-03-31T22:47:57.708156Z",
     "start_time": "2025-03-31T22:47:57.705148Z"
    }
   },
   "outputs": [],
   "source": [
    "mu = 100 # mean\n",
    "sigma = 10 # standard devitation"
   ]
  },
  {
   "cell_type": "code",
   "execution_count": 3,
   "id": "9ee5e748",
   "metadata": {
    "ExecuteTime": {
     "end_time": "2025-03-31T22:47:57.712309Z",
     "start_time": "2025-03-31T22:47:57.709165Z"
    }
   },
   "outputs": [],
   "source": [
    "population = np.round(np.random.normal(mu, sigma, 10000), 2) # ГС. количество денег которые пользователь потратил. "
   ]
  },
  {
   "cell_type": "code",
   "execution_count": 4,
   "id": "5b7b0ff7",
   "metadata": {
    "ExecuteTime": {
     "end_time": "2025-03-31T22:47:57.897433Z",
     "start_time": "2025-03-31T22:47:57.713315Z"
    }
   },
   "outputs": [
    {
     "data": {
      "text/plain": [
       "<seaborn.axisgrid.FacetGrid at 0x21628e4d4f0>"
      ]
     },
     "execution_count": 4,
     "metadata": {},
     "output_type": "execute_result"
    },
    {
     "data": {
      "image/png": "[encoded data removed]",
      "text/plain": [
       "<Figure size 500x500 with 1 Axes>"
      ]
     },
     "metadata": {},
     "output_type": "display_data"
    }
   ],
   "source": [
    "sns.displot(population, kde=False)"
   ]
  },
  {
   "cell_type": "code",
   "execution_count": 5,
   "id": "b3b341d6",
   "metadata": {
    "ExecuteTime": {
     "end_time": "2025-03-31T22:47:57.902421Z",
     "start_time": "2025-03-31T22:47:57.899433Z"
    }
   },
   "outputs": [
    {
     "data": {
      "text/plain": [
       "100.05469699999999"
      ]
     },
     "execution_count": 5,
     "metadata": {},
     "output_type": "execute_result"
    }
   ],
   "source": [
    "mu = population.mean()\n",
    "mu"
   ]
  },
  {
   "cell_type": "code",
   "execution_count": 6,
   "id": "b8fd6f20",
   "metadata": {
    "ExecuteTime": {
     "end_time": "2025-03-31T22:47:57.907426Z",
     "start_time": "2025-03-31T22:47:57.903424Z"
    }
   },
   "outputs": [
    {
     "data": {
      "text/plain": [
       "10.001025916784288"
      ]
     },
     "execution_count": 6,
     "metadata": {},
     "output_type": "execute_result"
    }
   ],
   "source": [
    "sigma = population.std()\n",
    "sigma"
   ]
  },
  {
   "cell_type": "markdown",
   "id": "2f00753f",
   "metadata": {},
   "source": [
    "Делаем выборку"
   ]
  },
  {
   "cell_type": "code",
   "execution_count": 7,
   "id": "362ef498",
   "metadata": {
    "ExecuteTime": {
     "end_time": "2025-03-31T22:47:57.911080Z",
     "start_time": "2025-03-31T22:47:57.908435Z"
    }
   },
   "outputs": [],
   "source": [
    "s_size = 20# выборка размер"
   ]
  },
  {
   "cell_type": "code",
   "execution_count": 8,
   "id": "fefdeee6",
   "metadata": {
    "ExecuteTime": {
     "end_time": "2025-03-31T22:47:57.915608Z",
     "start_time": "2025-03-31T22:47:57.913091Z"
    }
   },
   "outputs": [],
   "source": [
    "s = np.random.choice(population,s_size, False)"
   ]
  },
  {
   "cell_type": "code",
   "execution_count": 9,
   "id": "298d8575",
   "metadata": {
    "ExecuteTime": {
     "end_time": "2025-03-31T22:47:57.920420Z",
     "start_time": "2025-03-31T22:47:57.916617Z"
    }
   },
   "outputs": [
    {
     "data": {
      "text/plain": [
       "99.63399999999999"
      ]
     },
     "execution_count": 9,
     "metadata": {},
     "output_type": "execute_result"
    }
   ],
   "source": [
    "s.mean()"
   ]
  },
  {
   "cell_type": "code",
   "execution_count": 10,
   "id": "3a9aed76",
   "metadata": {
    "ExecuteTime": {
     "end_time": "2025-03-31T22:47:57.925409Z",
     "start_time": "2025-03-31T22:47:57.921431Z"
    }
   },
   "outputs": [
    {
     "data": {
      "text/plain": [
       "2.236297379466682"
      ]
     },
     "execution_count": 10,
     "metadata": {},
     "output_type": "execute_result"
    }
   ],
   "source": [
    "se = population.std() / s_size ** 0.5 # стандартная ошибка\n",
    "se"
   ]
  },
  {
   "cell_type": "code",
   "execution_count": 11,
   "id": "8bc80c7d",
   "metadata": {
    "ExecuteTime": {
     "end_time": "2025-03-31T22:47:57.929325Z",
     "start_time": "2025-03-31T22:47:57.926419Z"
    }
   },
   "outputs": [],
   "source": [
    "z_scores = []"
   ]
  },
  {
   "cell_type": "code",
   "execution_count": 12,
   "id": "552924a0",
   "metadata": {
    "ExecuteTime": {
     "end_time": "2025-03-31T22:47:58.105978Z",
     "start_time": "2025-03-31T22:47:57.930331Z"
    }
   },
   "outputs": [],
   "source": [
    "n = 1000\n",
    "for i in range(n):\n",
    "    s = np.random.choice(population,s_size, False)\n",
    "    sample_mean = s.mean()\n",
    "    \n",
    "    z_score = (sample_mean - mu) / se # по настоящей стандартной ошибки\n",
    "    z_scores.append(z_score)"
   ]
  },
  {
   "cell_type": "code",
   "execution_count": 13,
   "id": "d1f340c3",
   "metadata": {
    "ExecuteTime": {
     "end_time": "2025-03-31T22:47:58.201094Z",
     "start_time": "2025-03-31T22:47:58.106978Z"
    }
   },
   "outputs": [
    {
     "name": "stderr",
     "output_type": "stream",
     "text": [
      "C:\\Users\\spit\\AppData\\Local\\Temp\\ipykernel_1852\\3597269368.py:1: UserWarning: \n",
      "\n",
      "`distplot` is a deprecated function and will be removed in seaborn v0.14.0.\n",
      "\n",
      "Please adapt your code to use either `displot` (a figure-level function with\n",
      "similar flexibility) or `histplot` (an axes-level function for histograms).\n",
      "\n",
      "For a guide to updating your code to use the new functions, please see\n",
      "https://gist.github.com/mwaskom/de44147ed2974457ad6372750bbe5751\n",
      "\n",
      "  sns.distplot(z_scores, kde=False)\n"
     ]
    },
    {
     "data": {
      "text/plain": [
       "<Axes: >"
      ]
     },
     "execution_count": 13,
     "metadata": {},
     "output_type": "execute_result"
    },
    {
     "data": {
      "image/png": "[encoded data removed]",
      "text/plain": [
       "<Figure size 640x480 with 1 Axes>"
      ]
     },
     "metadata": {},
     "output_type": "display_data"
    }
   ],
   "source": [
    "sns.distplot(z_scores, kde=False)"
   ]
  },
  {
   "cell_type": "code",
   "execution_count": null,
   "id": "2ad77d8b",
   "metadata": {},
   "outputs": [],
   "source": []
  },
  {
   "cell_type": "code",
   "execution_count": 14,
   "id": "a761fd57",
   "metadata": {
    "ExecuteTime": {
     "end_time": "2025-03-31T22:47:58.205805Z",
     "start_time": "2025-03-31T22:47:58.203095Z"
    }
   },
   "outputs": [],
   "source": [
    "t_scores = []"
   ]
  },
  {
   "cell_type": "code",
   "execution_count": 15,
   "id": "14812b31",
   "metadata": {
    "ExecuteTime": {
     "end_time": "2025-03-31T22:47:58.395589Z",
     "start_time": "2025-03-31T22:47:58.206786Z"
    }
   },
   "outputs": [],
   "source": [
    "n= 1000 # повторений\n",
    "for i in range(n):\n",
    "    s = np.random.choice(population,s_size, False)\n",
    "    sample_mean = s.mean()\n",
    "    sample_std = s.std()\n",
    "    \n",
    "    se_ = sample_std / s_size ** 0.5 # подставялем вместо сигмы стандартное отклонение выборочное\n",
    "    \n",
    "    t_score = (sample_mean - mu) / se_\n",
    "    t_scores.append(t_score)"
   ]
  },
  {
   "cell_type": "code",
   "execution_count": 16,
   "id": "b669be60",
   "metadata": {
    "ExecuteTime": {
     "end_time": "2025-03-31T22:47:58.483466Z",
     "start_time": "2025-03-31T22:47:58.396587Z"
    }
   },
   "outputs": [
    {
     "name": "stderr",
     "output_type": "stream",
     "text": [
      "C:\\Users\\spit\\AppData\\Local\\Temp\\ipykernel_1852\\2048793292.py:1: UserWarning: \n",
      "\n",
      "`distplot` is a deprecated function and will be removed in seaborn v0.14.0.\n",
      "\n",
      "Please adapt your code to use either `displot` (a figure-level function with\n",
      "similar flexibility) or `histplot` (an axes-level function for histograms).\n",
      "\n",
      "For a guide to updating your code to use the new functions, please see\n",
      "https://gist.github.com/mwaskom/de44147ed2974457ad6372750bbe5751\n",
      "\n",
      "  sns.distplot(t_scores, kde=False)\n"
     ]
    },
    {
     "data": {
      "text/plain": [
       "<Axes: >"
      ]
     },
     "execution_count": 16,
     "metadata": {},
     "output_type": "execute_result"
    },
    {
     "data": {
      "image/png": "[encoded data removed]",
      "text/plain": [
       "<Figure size 640x480 with 1 Axes>"
      ]
     },
     "metadata": {},
     "output_type": "display_data"
    }
   ],
   "source": [
    "sns.distplot(t_scores, kde=False)"
   ]
  },
  {
   "cell_type": "code",
   "execution_count": null,
   "id": "4fc794be",
   "metadata": {},
   "outputs": [],
   "source": []
  },
  {
   "cell_type": "markdown",
   "id": "27a8fb6f",
   "metadata": {},
   "source": [
    "Делаем 1000 выборок и сохраяем Mean каждой выборки"
   ]
  },
  {
   "cell_type": "code",
   "execution_count": 17,
   "id": "afaee29e",
   "metadata": {
    "ExecuteTime": {
     "end_time": "2025-03-31T22:47:58.486812Z",
     "start_time": "2025-03-31T22:47:58.484473Z"
    }
   },
   "outputs": [],
   "source": [
    "sample_means = []"
   ]
  },
  {
   "cell_type": "code",
   "execution_count": 18,
   "id": "6996c15b",
   "metadata": {
    "ExecuteTime": {
     "end_time": "2025-03-31T22:48:00.122679Z",
     "start_time": "2025-03-31T22:47:58.487823Z"
    }
   },
   "outputs": [],
   "source": [
    "n= 10000 # повторений\n",
    "for i in range(n):\n",
    "    s = np.random.choice(population,s_size, False)\n",
    "    sample_means.append(s.mean())"
   ]
  },
  {
   "cell_type": "code",
   "execution_count": 19,
   "id": "bad05f71",
   "metadata": {
    "ExecuteTime": {
     "end_time": "2025-03-31T22:48:00.131671Z",
     "start_time": "2025-03-31T22:48:00.124678Z"
    }
   },
   "outputs": [
    {
     "data": {
      "text/plain": [
       "[100.86099999999999,\n",
       " 99.50550000000001,\n",
       " 100.939,\n",
       " 100.023,\n",
       " 98.9525,\n",
       " 104.106,\n",
       " 98.5705,\n",
       " 101.43549999999999,\n",
       " 99.61300000000001,\n",
       " 99.53,\n",
       " 94.66650000000001,\n",
       " 102.84700000000001,\n",
       " 98.1815,\n",
       " 101.22400000000002,\n",
       " 97.09599999999999,\n",
       " 100.979,\n",
       " 99.578,\n",
       " 98.054,\n",
       " 101.291,\n",
       " 100.795,\n",
       " 98.32899999999998,\n",
       " 103.1335,\n",
       " 100.81649999999999,\n",
       " 96.9115,\n",
       " 98.44949999999999,\n",
       " 102.0305,\n",
       " 102.80699999999997,\n",
       " 101.14800000000001,\n",
       " 104.22999999999999,\n",
       " 97.0275,\n",
       " 97.5785,\n",
       " 100.197,\n",
       " 101.8145,\n",
       " 102.50800000000001,\n",
       " 100.947,\n",
       " 94.452,\n",
       " 101.7045,\n",
       " 99.58,\n",
       " 98.335,\n",
       " 101.0535,\n",
       " 98.827,\n",
       " 100.35749999999999,\n",
       " 97.31450000000001,\n",
       " 96.40600000000002,\n",
       " 99.02700000000002,\n",
       " 98.95649999999999,\n",
       " 95.897,\n",
       " 98.53299999999999,\n",
       " 99.99600000000001,\n",
       " 95.61999999999998,\n",
       " 97.12550000000002,\n",
       " 98.5885,\n",
       " 100.36149999999999,\n",
       " 100.37550000000002,\n",
       " 98.9715,\n",
       " 102.89450000000002,\n",
       " 96.2655,\n",
       " 104.7035,\n",
       " 99.35549999999998,\n",
       " 100.725,\n",
       " 101.89650000000002,\n",
       " 98.2145,\n",
       " 103.7385,\n",
       " 99.904,\n",
       " 102.51299999999999,\n",
       " 100.75949999999997,\n",
       " 100.9615,\n",
       " 99.626,\n",
       " 102.82249999999999,\n",
       " 97.511,\n",
       " 103.33700000000002,\n",
       " 103.833,\n",
       " 97.042,\n",
       " 101.55349999999999,\n",
       " 103.23100000000002,\n",
       " 99.4625,\n",
       " 94.274,\n",
       " 99.12199999999999,\n",
       " 98.9795,\n",
       " 98.90050000000001,\n",
       " 100.5845,\n",
       " 101.8755,\n",
       " 96.6075,\n",
       " 99.776,\n",
       " 100.82300000000001,\n",
       " 99.5785,\n",
       " 98.9435,\n",
       " 103.38600000000001,\n",
       " 97.39200000000002,\n",
       " 98.9985,\n",
       " 97.6535,\n",
       " 98.0715,\n",
       " 96.83400000000002,\n",
       " 99.417,\n",
       " 95.49449999999999,\n",
       " 98.613,\n",
       " 99.1085,\n",
       " 98.44699999999999,\n",
       " 101.248,\n",
       " 97.38449999999999,\n",
       " 98.9675,\n",
       " 100.7645,\n",
       " 101.1535,\n",
       " 100.2395,\n",
       " 101.567,\n",
       " 100.77799999999999,\n",
       " 101.75850000000001,\n",
       " 98.38450000000002,\n",
       " 100.309,\n",
       " 101.42699999999999,\n",
       " 96.95900000000002,\n",
       " 99.91999999999999,\n",
       " 100.791,\n",
       " 96.95200000000001,\n",
       " 99.00650000000002,\n",
       " 100.44000000000001,\n",
       " 98.16050000000001,\n",
       " 101.03850000000001,\n",
       " 102.0275,\n",
       " 97.927,\n",
       " 100.28450000000001,\n",
       " 102.79899999999998,\n",
       " 94.91,\n",
       " 98.29499999999999,\n",
       " 100.5635,\n",
       " 98.28900000000002,\n",
       " 103.1385,\n",
       " 100.2755,\n",
       " 98.8865,\n",
       " 100.452,\n",
       " 99.46900000000001,\n",
       " 103.924,\n",
       " 100.57149999999999,\n",
       " 98.1745,\n",
       " 98.536,\n",
       " 96.501,\n",
       " 98.3095,\n",
       " 103.9295,\n",
       " 102.08950000000002,\n",
       " 103.23999999999998,\n",
       " 100.07400000000001,\n",
       " 100.0405,\n",
       " 99.40249999999999,\n",
       " 100.82499999999999,\n",
       " 100.634,\n",
       " 95.44699999999999,\n",
       " 99.683,\n",
       " 97.9845,\n",
       " 102.007,\n",
       " 101.50800000000001,\n",
       " 100.70949999999999,\n",
       " 101.4245,\n",
       " 99.364,\n",
       " 104.123,\n",
       " 99.9035,\n",
       " 97.2375,\n",
       " 100.748,\n",
       " 101.038,\n",
       " 101.619,\n",
       " 99.888,\n",
       " 98.188,\n",
       " 99.334,\n",
       " 99.40149999999998,\n",
       " 98.878,\n",
       " 100.68599999999999,\n",
       " 100.262,\n",
       " 98.0375,\n",
       " 99.1385,\n",
       " 104.90300000000002,\n",
       " 102.069,\n",
       " 102.71199999999999,\n",
       " 100.4045,\n",
       " 98.62450000000001,\n",
       " 104.56599999999999,\n",
       " 100.158,\n",
       " 97.637,\n",
       " 97.81200000000001,\n",
       " 101.505,\n",
       " 98.231,\n",
       " 100.61200000000001,\n",
       " 98.93449999999999,\n",
       " 100.5115,\n",
       " 96.9215,\n",
       " 95.86449999999999,\n",
       " 98.648,\n",
       " 102.71599999999998,\n",
       " 103.55400000000002,\n",
       " 101.20100000000001,\n",
       " 102.5495,\n",
       " 95.3105,\n",
       " 102.86950000000002,\n",
       " 96.94449999999999,\n",
       " 101.3955,\n",
       " 100.62750000000001,\n",
       " 100.34100000000001,\n",
       " 100.68599999999999,\n",
       " 99.97549999999998,\n",
       " 101.45,\n",
       " 96.48249999999999,\n",
       " 98.9615,\n",
       " 98.22549999999998,\n",
       " 101.61,\n",
       " 101.6825,\n",
       " 97.86,\n",
       " 101.66550000000001,\n",
       " 98.0825,\n",
       " 100.6565,\n",
       " 100.927,\n",
       " 100.27850000000001,\n",
       " 98.58000000000001,\n",
       " 101.351,\n",
       " 98.46799999999999,\n",
       " 98.97299999999998,\n",
       " 100.81099999999999,\n",
       " 97.316,\n",
       " 100.78049999999999,\n",
       " 101.7995,\n",
       " 96.74999999999999,\n",
       " 99.92249999999999,\n",
       " 98.7085,\n",
       " 103.612,\n",
       " 99.2945,\n",
       " 101.517,\n",
       " 100.96600000000001,\n",
       " 97.09599999999999,\n",
       " 99.963,\n",
       " 103.42,\n",
       " 98.697,\n",
       " 98.7985,\n",
       " 99.26100000000001,\n",
       " 100.408,\n",
       " 98.768,\n",
       " 95.763,\n",
       " 98.538,\n",
       " 102.53,\n",
       " 99.04050000000001,\n",
       " 99.1755,\n",
       " 99.375,\n",
       " 102.10900000000001,\n",
       " 102.9885,\n",
       " 104.55499999999999,\n",
       " 98.049,\n",
       " 99.1215,\n",
       " 99.7615,\n",
       " 100.63149999999999,\n",
       " 101.2895,\n",
       " 97.941,\n",
       " 97.47350000000002,\n",
       " 101.3785,\n",
       " 100.045,\n",
       " 96.28099999999999,\n",
       " 99.392,\n",
       " 104.4505,\n",
       " 99.806,\n",
       " 102.44200000000001,\n",
       " 98.32849999999999,\n",
       " 99.23299999999999,\n",
       " 96.3135,\n",
       " 99.72749999999999,\n",
       " 102.52799999999999,\n",
       " 99.374,\n",
       " 102.63900000000001,\n",
       " 101.829,\n",
       " 104.31400000000001,\n",
       " 104.08250000000001,\n",
       " 99.77550000000001,\n",
       " 97.12100000000001,\n",
       " 103.45749999999998,\n",
       " 99.2045,\n",
       " 99.5855,\n",
       " 101.35350000000001,\n",
       " 99.288,\n",
       " 100.1165,\n",
       " 100.2385,\n",
       " 97.40800000000002,\n",
       " 96.0975,\n",
       " 100.6785,\n",
       " 103.65099999999998,\n",
       " 98.436,\n",
       " 95.6655,\n",
       " 101.75300000000001,\n",
       " 97.07700000000001,\n",
       " 97.7005,\n",
       " 99.9715,\n",
       " 99.83749999999999,\n",
       " 100.5495,\n",
       " 99.34100000000001,\n",
       " 99.15299999999999,\n",
       " 100.779,\n",
       " 99.84700000000001,\n",
       " 97.635,\n",
       " 104.3335,\n",
       " 98.882,\n",
       " 102.02300000000001,\n",
       " 101.2565,\n",
       " 101.225,\n",
       " 98.875,\n",
       " 98.873,\n",
       " 98.9355,\n",
       " 104.19749999999999,\n",
       " 101.31450000000001,\n",
       " 99.95250000000001,\n",
       " 100.66799999999999,\n",
       " 101.86449999999999,\n",
       " 98.10549999999999,\n",
       " 104.3065,\n",
       " 101.605,\n",
       " 97.08000000000001,\n",
       " 97.89450000000002,\n",
       " 99.22650000000002,\n",
       " 100.1695,\n",
       " 100.651,\n",
       " 102.227,\n",
       " 98.963,\n",
       " 100.1435,\n",
       " 98.02200000000002,\n",
       " 101.70100000000001,\n",
       " 101.25649999999999,\n",
       " 95.616,\n",
       " 95.51149999999998,\n",
       " 101.8765,\n",
       " 100.99149999999999,\n",
       " 100.23249999999999,\n",
       " 98.422,\n",
       " 99.461,\n",
       " 100.278,\n",
       " 103.2325,\n",
       " 98.05149999999999,\n",
       " 104.98599999999999,\n",
       " 97.7065,\n",
       " 97.7755,\n",
       " 99.934,\n",
       " 98.6335,\n",
       " 100.56499999999998,\n",
       " 100.95150000000001,\n",
       " 105.1655,\n",
       " 98.3395,\n",
       " 99.698,\n",
       " 103.124,\n",
       " 99.458,\n",
       " 103.28500000000001,\n",
       " 98.8995,\n",
       " 99.28450000000001,\n",
       " 100.6175,\n",
       " 101.1885,\n",
       " 101.07300000000001,\n",
       " 99.81750000000001,\n",
       " 99.9635,\n",
       " 99.26750000000001,\n",
       " 103.41900000000001,\n",
       " 100.75550000000001,\n",
       " 101.072,\n",
       " 97.0545,\n",
       " 103.81699999999998,\n",
       " 97.19300000000001,\n",
       " 100.86949999999999,\n",
       " 97.2645,\n",
       " 101.82799999999999,\n",
       " 100.2055,\n",
       " 102.28800000000001,\n",
       " 97.9385,\n",
       " 99.31949999999999,\n",
       " 102.96100000000001,\n",
       " 96.928,\n",
       " 102.07549999999999,\n",
       " 99.44149999999999,\n",
       " 99.2275,\n",
       " 99.56150000000001,\n",
       " 98.461,\n",
       " 101.70349999999999,\n",
       " 101.644,\n",
       " 99.71650000000001,\n",
       " 100.3055,\n",
       " 99.29,\n",
       " 96.2515,\n",
       " 103.0705,\n",
       " 103.2535,\n",
       " 96.08250000000001,\n",
       " 99.456,\n",
       " 100.30850000000001,\n",
       " 96.24650000000001,\n",
       " 102.7875,\n",
       " 100.2335,\n",
       " 102.39899999999999,\n",
       " 98.8795,\n",
       " 98.99950000000001,\n",
       " 99.51199999999999,\n",
       " 100.514,\n",
       " 100.532,\n",
       " 105.22,\n",
       " 102.95400000000002,\n",
       " 102.62550000000002,\n",
       " 97.7485,\n",
       " 102.6165,\n",
       " 98.87000000000002,\n",
       " 98.96650000000001,\n",
       " 97.69250000000001,\n",
       " 96.54850000000002,\n",
       " 97.191,\n",
       " 102.92199999999998,\n",
       " 101.21449999999999,\n",
       " 99.511,\n",
       " 100.84549999999999,\n",
       " 101.59949999999999,\n",
       " 102.04200000000002,\n",
       " 99.2185,\n",
       " 99.74449999999999,\n",
       " 106.2615,\n",
       " 95.9485,\n",
       " 99.364,\n",
       " 101.87550000000002,\n",
       " 99.618,\n",
       " 102.4615,\n",
       " 103.0805,\n",
       " 101.7545,\n",
       " 98.41199999999999,\n",
       " 97.21300000000001,\n",
       " 97.9445,\n",
       " 103.51399999999998,\n",
       " 99.07249999999999,\n",
       " 103.454,\n",
       " 102.64550000000001,\n",
       " 101.0685,\n",
       " 104.00900000000001,\n",
       " 103.0785,\n",
       " 103.162,\n",
       " 101.57650000000001,\n",
       " 98.0235,\n",
       " 99.672,\n",
       " 100.285,\n",
       " 99.797,\n",
       " 101.727,\n",
       " 97.92800000000001,\n",
       " 101.9695,\n",
       " 103.55649999999999,\n",
       " 97.20149999999998,\n",
       " 99.713,\n",
       " 100.57950000000001,\n",
       " 100.37750000000001,\n",
       " 97.13499999999999,\n",
       " 99.9925,\n",
       " 98.48,\n",
       " 102.3705,\n",
       " 97.54150000000001,\n",
       " 102.18399999999998,\n",
       " 100.0865,\n",
       " 96.585,\n",
       " 101.194,\n",
       " 100.8025,\n",
       " 102.771,\n",
       " 99.078,\n",
       " 100.5665,\n",
       " 101.84650000000002,\n",
       " 101.33399999999999,\n",
       " 100.683,\n",
       " 96.74949999999998,\n",
       " 96.3145,\n",
       " 103.19700000000003,\n",
       " 99.43199999999999,\n",
       " 99.7815,\n",
       " 98.93249999999999,\n",
       " 102.1425,\n",
       " 103.66249999999998,\n",
       " 100.49600000000001,\n",
       " 95.86299999999999,\n",
       " 96.68499999999999,\n",
       " 96.92699999999999,\n",
       " 103.537,\n",
       " 102.475,\n",
       " 99.14200000000002,\n",
       " 102.23750000000001,\n",
       " 98.51050000000001,\n",
       " 96.78949999999999,\n",
       " 101.66,\n",
       " 100.51700000000001,\n",
       " 99.68449999999999,\n",
       " 99.598,\n",
       " 97.1845,\n",
       " 100.11800000000001,\n",
       " 98.507,\n",
       " 99.0775,\n",
       " 100.36950000000002,\n",
       " 100.2975,\n",
       " 99.40650000000001,\n",
       " 100.632,\n",
       " 95.6105,\n",
       " 99.45100000000001,\n",
       " 99.75800000000001,\n",
       " 101.0235,\n",
       " 99.9545,\n",
       " 100.46950000000001,\n",
       " 99.21000000000001,\n",
       " 104.178,\n",
       " 97.64899999999999,\n",
       " 99.88000000000001,\n",
       " 101.1115,\n",
       " 99.67499999999998,\n",
       " 100.558,\n",
       " 100.91499999999999,\n",
       " 98.2205,\n",
       " 99.86099999999999,\n",
       " 100.84849999999999,\n",
       " 97.9365,\n",
       " 100.85,\n",
       " 100.48249999999999,\n",
       " 99.815,\n",
       " 104.06949999999999,\n",
       " 97.3575,\n",
       " 101.7785,\n",
       " 97.7555,\n",
       " 96.50500000000001,\n",
       " 101.466,\n",
       " 98.18749999999999,\n",
       " 97.516,\n",
       " 103.93049999999998,\n",
       " 98.7275,\n",
       " 101.55,\n",
       " 102.6575,\n",
       " 100.54400000000001,\n",
       " 102.09249999999999,\n",
       " 104.478,\n",
       " 100.67400000000002,\n",
       " 100.67000000000002,\n",
       " 98.2055,\n",
       " 103.09949999999999,\n",
       " 101.95200000000001,\n",
       " 104.00399999999999,\n",
       " 98.5205,\n",
       " 98.38399999999999,\n",
       " 102.64950000000002,\n",
       " 105.7035,\n",
       " 101.68299999999999,\n",
       " 101.55349999999999,\n",
       " 100.894,\n",
       " 100.59449999999998,\n",
       " 103.2355,\n",
       " 101.58449999999999,\n",
       " 101.24000000000001,\n",
       " 101.72749999999999,\n",
       " 99.96200000000002,\n",
       " 100.46149999999999,\n",
       " 101.4245,\n",
       " 99.826,\n",
       " 97.85650000000001,\n",
       " 102.49000000000001,\n",
       " 105.04099999999998,\n",
       " 98.34299999999999,\n",
       " 100.2335,\n",
       " 93.0925,\n",
       " 99.7465,\n",
       " 96.5705,\n",
       " 99.267,\n",
       " 102.145,\n",
       " 97.92500000000003,\n",
       " 104.19799999999998,\n",
       " 106.0655,\n",
       " 99.196,\n",
       " 99.3955,\n",
       " 97.53099999999999,\n",
       " 100.271,\n",
       " 98.6555,\n",
       " 97.78649999999999,\n",
       " 99.0035,\n",
       " 102.45599999999999,\n",
       " 98.49050000000001,\n",
       " 100.8775,\n",
       " 95.57300000000001,\n",
       " 99.81550000000001,\n",
       " 101.823,\n",
       " 96.0585,\n",
       " 95.2935,\n",
       " 105.75999999999999,\n",
       " 99.78,\n",
       " 102.4085,\n",
       " 96.4135,\n",
       " 104.11500000000001,\n",
       " 100.09150000000002,\n",
       " 95.8245,\n",
       " 97.797,\n",
       " 99.16099999999999,\n",
       " 99.228,\n",
       " 96.6095,\n",
       " 99.595,\n",
       " 99.6325,\n",
       " 95.61999999999999,\n",
       " 100.32450000000001,\n",
       " 102.46200000000002,\n",
       " 101.67699999999999,\n",
       " 99.05900000000001,\n",
       " 96.68050000000001,\n",
       " 101.46849999999999,\n",
       " 104.0205,\n",
       " 101.3395,\n",
       " 99.94049999999999,\n",
       " 98.6865,\n",
       " 99.7115,\n",
       " 98.76599999999999,\n",
       " 98.101,\n",
       " 103.7035,\n",
       " 98.11950000000002,\n",
       " 101.0645,\n",
       " 99.385,\n",
       " 95.939,\n",
       " 100.07149999999999,\n",
       " 102.45150000000001,\n",
       " 100.5965,\n",
       " 96.285,\n",
       " 103.15549999999999,\n",
       " 99.782,\n",
       " 99.81550000000001,\n",
       " 98.0985,\n",
       " 101.5545,\n",
       " 100.962,\n",
       " 97.63300000000001,\n",
       " 96.939,\n",
       " 98.49050000000001,\n",
       " 99.6315,\n",
       " 99.96300000000001,\n",
       " 99.533,\n",
       " 101.87049999999999,\n",
       " 101.67349999999999,\n",
       " 100.9935,\n",
       " 98.4125,\n",
       " 99.8955,\n",
       " 99.5625,\n",
       " 98.1295,\n",
       " 97.13399999999999,\n",
       " 101.61250000000001,\n",
       " 98.49350000000001,\n",
       " 100.549,\n",
       " 98.39749999999998,\n",
       " 102.07200000000002,\n",
       " 98.48349999999999,\n",
       " 99.5685,\n",
       " 98.20450000000001,\n",
       " 95.7905,\n",
       " 99.1755,\n",
       " 99.6165,\n",
       " 100.095,\n",
       " 95.43499999999999,\n",
       " 100.4995,\n",
       " 99.65,\n",
       " 98.7035,\n",
       " 100.1365,\n",
       " 99.18200000000002,\n",
       " 98.0325,\n",
       " 101.03799999999998,\n",
       " 106.181,\n",
       " 103.6625,\n",
       " 102.95049999999999,\n",
       " 102.0565,\n",
       " 100.398,\n",
       " 99.1345,\n",
       " 101.98400000000001,\n",
       " 99.932,\n",
       " 99.23999999999998,\n",
       " 97.60499999999999,\n",
       " 102.15549999999999,\n",
       " 98.40299999999999,\n",
       " 97.888,\n",
       " 102.23299999999999,\n",
       " 98.37800000000001,\n",
       " 102.15599999999999,\n",
       " 101.38199999999999,\n",
       " 101.589,\n",
       " 100.815,\n",
       " 103.59200000000001,\n",
       " 98.9185,\n",
       " 101.654,\n",
       " 98.82199999999999,\n",
       " 99.42500000000001,\n",
       " 100.0355,\n",
       " 100.72549999999998,\n",
       " 97.579,\n",
       " 94.46300000000001,\n",
       " 102.624,\n",
       " 100.46950000000001,\n",
       " 96.707,\n",
       " 104.1665,\n",
       " 98.35499999999999,\n",
       " 103.4365,\n",
       " 99.83900000000001,\n",
       " 100.97699999999999,\n",
       " 103.7885,\n",
       " 101.1895,\n",
       " 96.95049999999999,\n",
       " 99.979,\n",
       " 99.8555,\n",
       " 104.306,\n",
       " 101.10600000000001,\n",
       " 101.0425,\n",
       " 105.523,\n",
       " 102.19899999999998,\n",
       " 103.077,\n",
       " 97.65299999999999,\n",
       " 101.79649999999998,\n",
       " 98.351,\n",
       " 99.613,\n",
       " 100.877,\n",
       " 98.6155,\n",
       " 98.34599999999999,\n",
       " 101.981,\n",
       " 100.06949999999999,\n",
       " 98.13749999999999,\n",
       " 100.0365,\n",
       " 102.554,\n",
       " 97.707,\n",
       " 96.64200000000002,\n",
       " 98.75750000000001,\n",
       " 102.65350000000001,\n",
       " 101.69300000000001,\n",
       " 101.5425,\n",
       " 102.001,\n",
       " 99.532,\n",
       " 102.34700000000001,\n",
       " 101.2575,\n",
       " 99.327,\n",
       " 97.927,\n",
       " 97.3275,\n",
       " 97.172,\n",
       " 100.8345,\n",
       " 100.8135,\n",
       " 100.96849999999999,\n",
       " 100.15299999999999,\n",
       " 98.46000000000001,\n",
       " 98.38550000000001,\n",
       " 99.01650000000001,\n",
       " 98.574,\n",
       " 99.68599999999999,\n",
       " 101.42499999999998,\n",
       " 94.50400000000002,\n",
       " 94.4505,\n",
       " 97.9605,\n",
       " 100.71700000000001,\n",
       " 97.337,\n",
       " 102.131,\n",
       " 96.126,\n",
       " 98.64,\n",
       " 99.26350000000001,\n",
       " 97.4495,\n",
       " 100.42499999999998,\n",
       " 101.40200000000002,\n",
       " 101.186,\n",
       " 97.6395,\n",
       " 99.772,\n",
       " 101.13100000000001,\n",
       " 95.282,\n",
       " 101.2225,\n",
       " 98.53150000000001,\n",
       " 101.07000000000001,\n",
       " 101.48400000000001,\n",
       " 97.48799999999999,\n",
       " 96.12,\n",
       " 102.64699999999998,\n",
       " 102.1105,\n",
       " 102.6585,\n",
       " 100.298,\n",
       " 94.78649999999999,\n",
       " 99.7435,\n",
       " 99.55850000000001,\n",
       " 102.90350000000001,\n",
       " 101.32600000000001,\n",
       " 103.508,\n",
       " 99.99050000000001,\n",
       " 100.1255,\n",
       " 96.14850000000001,\n",
       " 99.9725,\n",
       " 99.10300000000001,\n",
       " 105.20500000000001,\n",
       " 98.079,\n",
       " 97.655,\n",
       " 102.35400000000001,\n",
       " 102.1965,\n",
       " 101.41050000000001,\n",
       " 96.29100000000001,\n",
       " 101.602,\n",
       " 95.756,\n",
       " 96.4845,\n",
       " 95.7995,\n",
       " 100.74600000000001,\n",
       " 99.425,\n",
       " 97.30100000000002,\n",
       " 101.13050000000001,\n",
       " 97.91600000000001,\n",
       " 100.88100000000001,\n",
       " 100.72100000000002,\n",
       " 98.5875,\n",
       " 97.62100000000001,\n",
       " 97.044,\n",
       " 96.8065,\n",
       " 97.92699999999999,\n",
       " 99.897,\n",
       " 104.22400000000002,\n",
       " 103.675,\n",
       " 97.4635,\n",
       " 103.06899999999999,\n",
       " 96.4795,\n",
       " 102.299,\n",
       " 102.52350000000001,\n",
       " 100.96349999999998,\n",
       " 100.13900000000001,\n",
       " 99.84949999999999,\n",
       " 97.2645,\n",
       " 98.488,\n",
       " 102.60700000000001,\n",
       " 98.60249999999999,\n",
       " 99.594,\n",
       " 102.032,\n",
       " 100.173,\n",
       " 98.768,\n",
       " 95.31649999999999,\n",
       " 102.572,\n",
       " 101.6865,\n",
       " 100.97099999999999,\n",
       " 98.45250000000001,\n",
       " 100.41250000000001,\n",
       " 100.31850000000001,\n",
       " 98.86850000000001,\n",
       " 101.74249999999999,\n",
       " 103.20049999999999,\n",
       " 106.006,\n",
       " 98.78599999999999,\n",
       " 100.7035,\n",
       " 100.65650000000001,\n",
       " 102.87950000000001,\n",
       " 102.15050000000001,\n",
       " 98.57000000000002,\n",
       " 98.816,\n",
       " 103.18350000000001,\n",
       " 98.69149999999999,\n",
       " 98.8815,\n",
       " 102.01500000000001,\n",
       " 103.08999999999999,\n",
       " 98.2605,\n",
       " 98.967,\n",
       " 99.99100000000001,\n",
       " 101.17850000000001,\n",
       " 98.37300000000002,\n",
       " 93.19200000000001,\n",
       " 96.813,\n",
       " 99.81299999999999,\n",
       " 101.966,\n",
       " 100.09700000000001,\n",
       " 105.31300000000002,\n",
       " 102.643,\n",
       " 98.2345,\n",
       " 97.606,\n",
       " 102.38700000000001,\n",
       " 98.49350000000001,\n",
       " 100.786,\n",
       " 99.49549999999999,\n",
       " 102.28149999999998,\n",
       " 99.6225,\n",
       " 101.78999999999999,\n",
       " 102.81400000000001,\n",
       " 101.354,\n",
       " 101.6,\n",
       " 95.73500000000001,\n",
       " 99.91300000000001,\n",
       " 96.31799999999998,\n",
       " 96.905,\n",
       " 95.235,\n",
       " 100.1645,\n",
       " 100.40499999999999,\n",
       " 98.23799999999999,\n",
       " 103.50349999999999,\n",
       " 99.64099999999999,\n",
       " 98.989,\n",
       " 99.72349999999999,\n",
       " 95.977,\n",
       " 101.136,\n",
       " 102.294,\n",
       " 100.926,\n",
       " 100.3415,\n",
       " 94.6845,\n",
       " 99.92499999999998,\n",
       " 95.99000000000001,\n",
       " 100.2665,\n",
       " 100.777,\n",
       " 105.383,\n",
       " 103.04499999999999,\n",
       " 101.92249999999999,\n",
       " 97.9885,\n",
       " 99.07199999999999,\n",
       " 100.541,\n",
       " 98.454,\n",
       " 95.30449999999999,\n",
       " 100.6305,\n",
       " 103.39949999999999,\n",
       " 98.15799999999999,\n",
       " 101.429,\n",
       " 99.15249999999999,\n",
       " 102.905,\n",
       " 102.624,\n",
       " 100.37549999999999,\n",
       " 103.11799999999998,\n",
       " 94.9045,\n",
       " 97.49499999999999,\n",
       " 101.33500000000001,\n",
       " 99.84400000000001,\n",
       " 100.3355,\n",
       " 103.50050000000002,\n",
       " 97.32299999999998,\n",
       " 99.2135,\n",
       " 100.1085,\n",
       " 99.6485,\n",
       " 98.42949999999999,\n",
       " 99.406,\n",
       " 99.54850000000002,\n",
       " 98.737,\n",
       " 99.3595,\n",
       " 102.525,\n",
       " 105.4775,\n",
       " 103.19749999999999,\n",
       " 101.196,\n",
       " 102.20900000000002,\n",
       " 100.04150000000001,\n",
       " 99.08500000000001,\n",
       " 101.79350000000001,\n",
       " 100.0515,\n",
       " 95.0325,\n",
       " 102.4835,\n",
       " 99.41400000000002,\n",
       " 99.1525,\n",
       " 103.917,\n",
       " 100.148,\n",
       " 104.56950000000002,\n",
       " 103.957,\n",
       " 96.936,\n",
       " 95.06049999999999,\n",
       " 100.2145,\n",
       " 103.3185,\n",
       " 103.56500000000001,\n",
       " 105.3185,\n",
       " 98.61849999999998,\n",
       " 103.077,\n",
       " 99.509,\n",
       " 98.49549999999999,\n",
       " 96.608,\n",
       " 98.1165,\n",
       " 98.553,\n",
       " 99.16,\n",
       " 100.74799999999999,\n",
       " 105.7945,\n",
       " 99.551,\n",
       " 96.876,\n",
       " 99.016,\n",
       " 101.44050000000001,\n",
       " 99.26399999999998,\n",
       " 98.01,\n",
       " 101.93449999999999,\n",
       " 100.352,\n",
       " 98.22599999999998,\n",
       " 101.682,\n",
       " 98.9915,\n",
       " 99.4895,\n",
       " 100.486,\n",
       " 100.411,\n",
       " 99.5875,\n",
       " 98.89599999999999,\n",
       " 100.23849999999999,\n",
       " 98.5805,\n",
       " 99.7595,\n",
       " 102.702,\n",
       " 100.1265,\n",
       " 99.87950000000001,\n",
       " 100.59,\n",
       " 104.4595,\n",
       " 99.62950000000001,\n",
       " 98.5475,\n",
       " 100.94700000000002,\n",
       " 101.8765,\n",
       " 97.68299999999999,\n",
       " 100.62100000000001,\n",
       " 97.607,\n",
       " 97.997,\n",
       " 98.5185,\n",
       " 96.261,\n",
       " 101.7665,\n",
       " 101.06200000000001,\n",
       " 103.1075,\n",
       " 101.54100000000001,\n",
       " 97.9495,\n",
       " 99.1735,\n",
       " 96.915,\n",
       " 98.7805,\n",
       " 101.8895,\n",
       " 98.01649999999998,\n",
       " 96.71400000000001,\n",
       " 98.338,\n",
       " 97.994,\n",
       " 104.99000000000001,\n",
       " 102.48949999999999,\n",
       " 100.3415,\n",
       " 102.99050000000003,\n",
       " 100.1535,\n",
       " 100.3835,\n",
       " 99.187,\n",
       " 98.7075,\n",
       " 101.82249999999998,\n",
       " ...]"
      ]
     },
     "execution_count": 19,
     "metadata": {},
     "output_type": "execute_result"
    }
   ],
   "source": [
    "sample_means"
   ]
  },
  {
   "cell_type": "code",
   "execution_count": 20,
   "id": "b30b6328",
   "metadata": {
    "ExecuteTime": {
     "end_time": "2025-03-31T22:48:00.286751Z",
     "start_time": "2025-03-31T22:48:00.132670Z"
    }
   },
   "outputs": [
    {
     "data": {
      "text/plain": [
       "<seaborn.axisgrid.FacetGrid at 0x2162f182300>"
      ]
     },
     "execution_count": 20,
     "metadata": {},
     "output_type": "execute_result"
    },
    {
     "data": {
      "image/png": "[encoded data removed]",
      "text/plain": [
       "<Figure size 500x500 with 1 Axes>"
      ]
     },
     "metadata": {},
     "output_type": "display_data"
    }
   ],
   "source": [
    "sns.displot(sample_means, kde=False)"
   ]
  },
  {
   "cell_type": "code",
   "execution_count": 21,
   "id": "d6c9b605",
   "metadata": {
    "ExecuteTime": {
     "end_time": "2025-03-31T22:48:00.291350Z",
     "start_time": "2025-03-31T22:48:00.287753Z"
    }
   },
   "outputs": [
    {
     "data": {
      "text/plain": [
       "100.03489835"
      ]
     },
     "execution_count": 21,
     "metadata": {},
     "output_type": "execute_result"
    }
   ],
   "source": [
    "np.mean(sample_means)"
   ]
  },
  {
   "cell_type": "markdown",
   "id": "a3969aa6",
   "metadata": {},
   "source": [
    "Правило 3-х сигм - 100% в этом диапозоне\n",
    "\n",
    "Правило 1.96 сигм - 95% в этом диапозоне/\n",
    "\n",
    "se = sigma / корень(n). Стандартное отклонения ГС / корень размера выборки"
   ]
  },
  {
   "cell_type": "code",
   "execution_count": 22,
   "id": "95110298",
   "metadata": {
    "ExecuteTime": {
     "end_time": "2025-03-31T22:48:00.296493Z",
     "start_time": "2025-03-31T22:48:00.292349Z"
    }
   },
   "outputs": [
    {
     "data": {
      "text/plain": [
       "2.236297379466682"
      ]
     },
     "execution_count": 22,
     "metadata": {},
     "output_type": "execute_result"
    }
   ],
   "source": [
    "se = population.std() / s_size ** 0.5 # стандартная ошибка\n",
    "se"
   ]
  },
  {
   "cell_type": "code",
   "execution_count": 23,
   "id": "1d8d3ab8",
   "metadata": {
    "ExecuteTime": {
     "end_time": "2025-03-31T22:48:00.301498Z",
     "start_time": "2025-03-31T22:48:00.297492Z"
    }
   },
   "outputs": [
    {
     "data": {
      "text/plain": [
       "2.2344199581977144"
      ]
     },
     "execution_count": 23,
     "metadata": {},
     "output_type": "execute_result"
    }
   ],
   "source": [
    "np.std(sample_means)"
   ]
  },
  {
   "cell_type": "code",
   "execution_count": 24,
   "id": "d75cad3f",
   "metadata": {
    "ExecuteTime": {
     "end_time": "2025-03-31T22:48:00.306401Z",
     "start_time": "2025-03-31T22:48:00.302509Z"
    }
   },
   "outputs": [
    {
     "data": {
      "text/plain": [
       "104.43783986375469"
      ]
     },
     "execution_count": 24,
     "metadata": {},
     "output_type": "execute_result"
    }
   ],
   "source": [
    "population.mean() + 1.96 * se"
   ]
  },
  {
   "cell_type": "code",
   "execution_count": 25,
   "id": "816c6dbb",
   "metadata": {
    "ExecuteTime": {
     "end_time": "2025-03-31T22:48:00.311036Z",
     "start_time": "2025-03-31T22:48:00.307408Z"
    }
   },
   "outputs": [
    {
     "data": {
      "text/plain": [
       "95.67155413624529"
      ]
     },
     "execution_count": 25,
     "metadata": {},
     "output_type": "execute_result"
    }
   ],
   "source": [
    "population.mean() - 1.96 * se"
   ]
  },
  {
   "cell_type": "code",
   "execution_count": 26,
   "id": "74abef24",
   "metadata": {
    "ExecuteTime": {
     "end_time": "2025-03-31T22:48:00.315582Z",
     "start_time": "2025-03-31T22:48:00.312042Z"
    }
   },
   "outputs": [
    {
     "data": {
      "text/plain": [
       "[96.4, 103.6]"
      ]
     },
     "execution_count": 26,
     "metadata": {},
     "output_type": "execute_result"
    }
   ],
   "source": [
    "[96.4 , 103.6]"
   ]
  },
  {
   "cell_type": "code",
   "execution_count": null,
   "id": "2d53014c",
   "metadata": {},
   "outputs": [],
   "source": []
  },
  {
   "cell_type": "markdown",
   "id": "45d9156e",
   "metadata": {},
   "source": [
    "--------------------------------------------------------------------------------------------------------------------------------"
   ]
  },
  {
   "cell_type": "code",
   "execution_count": 27,
   "id": "69535eb1",
   "metadata": {
    "ExecuteTime": {
     "end_time": "2025-03-31T22:48:00.320828Z",
     "start_time": "2025-03-31T22:48:00.316588Z"
    }
   },
   "outputs": [
    {
     "data": {
      "text/plain": [
       "array([106.37,  76.68,  96.48,  87.54, 110.8 ,  96.87, 109.76,  98.3 ,\n",
       "        97.53, 102.84,  90.79, 106.47, 100.1 , 101.3 , 108.23,  95.96,\n",
       "        90.66, 109.3 , 110.22,  91.97])"
      ]
     },
     "execution_count": 27,
     "metadata": {},
     "output_type": "execute_result"
    }
   ],
   "source": [
    "sample_real = np.random.choice(population,s_size, False)\n",
    "sample_real"
   ]
  },
  {
   "cell_type": "code",
   "execution_count": 28,
   "id": "8eb5d799",
   "metadata": {
    "ExecuteTime": {
     "end_time": "2025-03-31T22:48:00.325378Z",
     "start_time": "2025-03-31T22:48:00.321834Z"
    }
   },
   "outputs": [
    {
     "data": {
      "text/plain": [
       "99.4085"
      ]
     },
     "execution_count": 28,
     "metadata": {},
     "output_type": "execute_result"
    }
   ],
   "source": [
    "sample_real.mean()"
   ]
  },
  {
   "cell_type": "code",
   "execution_count": 29,
   "id": "ee55284a",
   "metadata": {
    "ExecuteTime": {
     "end_time": "2025-03-31T22:48:00.330345Z",
     "start_time": "2025-03-31T22:48:00.326384Z"
    }
   },
   "outputs": [
    {
     "data": {
      "text/plain": [
       "8.771799288059434"
      ]
     },
     "execution_count": 29,
     "metadata": {},
     "output_type": "execute_result"
    }
   ],
   "source": [
    "sample_real.std()"
   ]
  },
  {
   "cell_type": "markdown",
   "id": "1849729d",
   "metadata": {},
   "source": [
    "se = sigma / корень(n). Стандартное отклонения ГС / корень размера выборки = стагадртая ошибка\n",
    "\n",
    "меняем sigma на sd потому что не знаеи сигму"
   ]
  },
  {
   "cell_type": "code",
   "execution_count": 30,
   "id": "6ab62f80",
   "metadata": {
    "ExecuteTime": {
     "end_time": "2025-03-31T22:48:00.334455Z",
     "start_time": "2025-03-31T22:48:00.331354Z"
    }
   },
   "outputs": [],
   "source": [
    "se = sample_real.std() / s_size ** 0.5"
   ]
  },
  {
   "cell_type": "code",
   "execution_count": 31,
   "id": "8741a19b",
   "metadata": {
    "ExecuteTime": {
     "end_time": "2025-03-31T22:48:00.339226Z",
     "start_time": "2025-03-31T22:48:00.335465Z"
    }
   },
   "outputs": [
    {
     "data": {
      "text/plain": [
       "1.9614339493085153"
      ]
     },
     "execution_count": 31,
     "metadata": {},
     "output_type": "execute_result"
    }
   ],
   "source": [
    "se"
   ]
  },
  {
   "cell_type": "code",
   "execution_count": 32,
   "id": "2542cec0",
   "metadata": {
    "ExecuteTime": {
     "end_time": "2025-03-31T22:48:00.343753Z",
     "start_time": "2025-03-31T22:48:00.340236Z"
    }
   },
   "outputs": [
    {
     "data": {
      "text/plain": [
       "103.51378125590273"
      ]
     },
     "execution_count": 32,
     "metadata": {},
     "output_type": "execute_result"
    }
   ],
   "source": [
    "sample_real.mean() + 2.093 * se"
   ]
  },
  {
   "cell_type": "code",
   "execution_count": 33,
   "id": "41115f07",
   "metadata": {
    "ExecuteTime": {
     "end_time": "2025-03-31T22:48:00.348365Z",
     "start_time": "2025-03-31T22:48:00.344766Z"
    }
   },
   "outputs": [
    {
     "data": {
      "text/plain": [
       "95.30321874409728"
      ]
     },
     "execution_count": 33,
     "metadata": {},
     "output_type": "execute_result"
    }
   ],
   "source": [
    "sample_real.mean() - 2.093 * se"
   ]
  },
  {
   "cell_type": "code",
   "execution_count": 34,
   "id": "f05172f1",
   "metadata": {
    "ExecuteTime": {
     "end_time": "2025-03-31T22:48:00.351977Z",
     "start_time": "2025-03-31T22:48:00.349373Z"
    }
   },
   "outputs": [],
   "source": [
    "df = s_size - 1"
   ]
  },
  {
   "cell_type": "code",
   "execution_count": 35,
   "id": "2edd78ba",
   "metadata": {
    "ExecuteTime": {
     "end_time": "2025-03-31T22:48:00.356857Z",
     "start_time": "2025-03-31T22:48:00.352981Z"
    }
   },
   "outputs": [
    {
     "data": {
      "text/plain": [
       "19"
      ]
     },
     "execution_count": 35,
     "metadata": {},
     "output_type": "execute_result"
    }
   ],
   "source": [
    "df"
   ]
  },
  {
   "cell_type": "code",
   "execution_count": null,
   "id": "49d12eab",
   "metadata": {},
   "outputs": [],
   "source": []
  },
  {
   "cell_type": "code",
   "execution_count": null,
   "id": "eb56c551",
   "metadata": {},
   "outputs": [],
   "source": []
  },
  {
   "cell_type": "code",
   "execution_count": null,
   "id": "f3d35854",
   "metadata": {},
   "outputs": [],
   "source": []
  }
 ],
 "metadata": {
  "kernelspec": {
   "display_name": "Python 3 (ipykernel)",
   "language": "python",
   "name": "python3"
  },
  "language_info": {
   "codemirror_mode": {
    "name": "ipython",
    "version": 3
   },
   "file_extension": ".py",
   "mimetype": "text/x-python",
   "name": "python",
   "nbconvert_exporter": "python",
   "pygments_lexer": "ipython3",
   "version": "3.12.3"
  },
  "varInspector": {
   "cols": {
    "lenName": 16,
    "lenType": 16,
    "lenVar": 40
   },
   "kernels_config": {
    "python": {
     "delete_cmd_postfix": "",
     "delete_cmd_prefix": "del ",
     "library": "var_list.py",
     "varRefreshCmd": "print(var_dic_list())"
    },
    "r": {
     "delete_cmd_postfix": ") ",
     "delete_cmd_prefix": "rm(",
     "library": "var_list.r",
     "varRefreshCmd": "cat(var_dic_list()) "
    }
   },
   "types_to_exclude": [
    "module",
    "function",
    "builtin_function_or_method",
    "instance",
    "_Feature"
   ],
   "window_display": false
  }
 },
 "nbformat": 4,
 "nbformat_minor": 5
}
