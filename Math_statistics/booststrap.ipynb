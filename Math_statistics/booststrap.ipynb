{
 "cells": [
  {
   "cell_type": "code",
   "execution_count": 22,
   "id": "84432f40",
   "metadata": {
    "ExecuteTime": {
     "end_time": "2025-04-12T15:59:17.528153Z",
     "start_time": "2025-04-12T15:59:17.236815Z"
    }
   },
   "outputs": [],
   "source": [
    "import pandas as pd\n",
    "import numpy as np\n",
    "from scipy.stats import bootstrap\n",
    "import pingouin as pg \n",
    "\n",
    "import seaborn as sns\n",
    "import matplotlib.pyplot as plt \n",
    "\n",
    "sns.set(rc = {'figure.figsize':(12,6)}, style = \"whitegrid\")\n"
   ]
  },
  {
   "cell_type": "code",
   "execution_count": 2,
   "id": "c204b55c",
   "metadata": {
    "ExecuteTime": {
     "end_time": "2025-04-12T15:58:56.855709Z",
     "start_time": "2025-04-12T15:58:56.847479Z"
    }
   },
   "outputs": [],
   "source": [
    "df = pd.read_csv(\"C:/Users/spit/Desktop/math/8/8 bootstrap_data.csv\")"
   ]
  },
  {
   "cell_type": "code",
   "execution_count": 3,
   "id": "9a0f4be0",
   "metadata": {
    "ExecuteTime": {
     "end_time": "2025-04-12T15:58:56.868015Z",
     "start_time": "2025-04-12T15:58:56.857717Z"
    }
   },
   "outputs": [
    {
     "data": {
      "text/html": [
       "<div>\n",
       "<style scoped>\n",
       "    .dataframe tbody tr th:only-of-type {\n",
       "        vertical-align: middle;\n",
       "    }\n",
       "\n",
       "    .dataframe tbody tr th {\n",
       "        vertical-align: top;\n",
       "    }\n",
       "\n",
       "    .dataframe thead th {\n",
       "        text-align: right;\n",
       "    }\n",
       "</style>\n",
       "<table border=\"1\" class=\"dataframe\">\n",
       "  <thead>\n",
       "    <tr style=\"text-align: right;\">\n",
       "      <th></th>\n",
       "      <th>value</th>\n",
       "      <th>group</th>\n",
       "    </tr>\n",
       "  </thead>\n",
       "  <tbody>\n",
       "    <tr>\n",
       "      <th>0</th>\n",
       "      <td>100.719713</td>\n",
       "      <td>experimental</td>\n",
       "    </tr>\n",
       "    <tr>\n",
       "      <th>1</th>\n",
       "      <td>106.771525</td>\n",
       "      <td>experimental</td>\n",
       "    </tr>\n",
       "    <tr>\n",
       "      <th>2</th>\n",
       "      <td>106.974612</td>\n",
       "      <td>experimental</td>\n",
       "    </tr>\n",
       "    <tr>\n",
       "      <th>3</th>\n",
       "      <td>109.249662</td>\n",
       "      <td>experimental</td>\n",
       "    </tr>\n",
       "    <tr>\n",
       "      <th>4</th>\n",
       "      <td>116.230142</td>\n",
       "      <td>experimental</td>\n",
       "    </tr>\n",
       "  </tbody>\n",
       "</table>\n",
       "</div>"
      ],
      "text/plain": [
       "        value         group\n",
       "0  100.719713  experimental\n",
       "1  106.771525  experimental\n",
       "2  106.974612  experimental\n",
       "3  109.249662  experimental\n",
       "4  116.230142  experimental"
      ]
     },
     "execution_count": 3,
     "metadata": {},
     "output_type": "execute_result"
    }
   ],
   "source": [
    "df.head()"
   ]
  },
  {
   "cell_type": "code",
   "execution_count": 4,
   "id": "c756d96c",
   "metadata": {
    "ExecuteTime": {
     "end_time": "2025-04-12T15:58:56.874484Z",
     "start_time": "2025-04-12T15:58:56.869024Z"
    }
   },
   "outputs": [
    {
     "data": {
      "text/plain": [
       "array(['experimental', 'control'], dtype=object)"
      ]
     },
     "execution_count": 4,
     "metadata": {},
     "output_type": "execute_result"
    }
   ],
   "source": [
    "df.group.unique()"
   ]
  },
  {
   "cell_type": "code",
   "execution_count": 5,
   "id": "746a56b9",
   "metadata": {
    "ExecuteTime": {
     "end_time": "2025-04-12T15:58:56.882302Z",
     "start_time": "2025-04-12T15:58:56.876495Z"
    }
   },
   "outputs": [
    {
     "data": {
      "text/plain": [
       "group\n",
       "control         760\n",
       "experimental    494\n",
       "dtype: int64"
      ]
     },
     "execution_count": 5,
     "metadata": {},
     "output_type": "execute_result"
    }
   ],
   "source": [
    "df.groupby('group').size()"
   ]
  },
  {
   "cell_type": "code",
   "execution_count": 6,
   "id": "8ac5ea89",
   "metadata": {
    "ExecuteTime": {
     "end_time": "2025-04-12T15:58:57.275869Z",
     "start_time": "2025-04-12T15:58:56.883311Z"
    }
   },
   "outputs": [
    {
     "data": {
      "text/plain": [
       "<seaborn.axisgrid.FacetGrid at 0x2767feca510>"
      ]
     },
     "execution_count": 6,
     "metadata": {},
     "output_type": "execute_result"
    },
    {
     "data": {
      "image/png": "[encoded data removed]",
      "text/plain": [
       "<Figure size 642.5x500 with 1 Axes>"
      ]
     },
     "metadata": {},
     "output_type": "display_data"
    }
   ],
   "source": [
    "sns.displot(df, x='value', hue='group')"
   ]
  },
  {
   "cell_type": "code",
   "execution_count": 7,
   "id": "e5fac7bb",
   "metadata": {
    "ExecuteTime": {
     "end_time": "2025-04-12T15:58:57.284664Z",
     "start_time": "2025-04-12T15:58:57.277876Z"
    }
   },
   "outputs": [
    {
     "data": {
      "text/html": [
       "<div>\n",
       "<style scoped>\n",
       "    .dataframe tbody tr th:only-of-type {\n",
       "        vertical-align: middle;\n",
       "    }\n",
       "\n",
       "    .dataframe tbody tr th {\n",
       "        vertical-align: top;\n",
       "    }\n",
       "\n",
       "    .dataframe thead th {\n",
       "        text-align: right;\n",
       "    }\n",
       "</style>\n",
       "<table border=\"1\" class=\"dataframe\">\n",
       "  <thead>\n",
       "    <tr style=\"text-align: right;\">\n",
       "      <th></th>\n",
       "      <th>value</th>\n",
       "    </tr>\n",
       "    <tr>\n",
       "      <th>group</th>\n",
       "      <th></th>\n",
       "    </tr>\n",
       "  </thead>\n",
       "  <tbody>\n",
       "    <tr>\n",
       "      <th>control</th>\n",
       "      <td>148.832127</td>\n",
       "    </tr>\n",
       "    <tr>\n",
       "      <th>experimental</th>\n",
       "      <td>106.982597</td>\n",
       "    </tr>\n",
       "  </tbody>\n",
       "</table>\n",
       "</div>"
      ],
      "text/plain": [
       "                   value\n",
       "group                   \n",
       "control       148.832127\n",
       "experimental  106.982597"
      ]
     },
     "execution_count": 7,
     "metadata": {},
     "output_type": "execute_result"
    }
   ],
   "source": [
    "df.groupby('group').agg({'value': 'median'})"
   ]
  },
  {
   "cell_type": "code",
   "execution_count": 8,
   "id": "31501ea8",
   "metadata": {
    "ExecuteTime": {
     "end_time": "2025-04-12T15:58:57.293960Z",
     "start_time": "2025-04-12T15:58:57.286671Z"
    }
   },
   "outputs": [],
   "source": [
    "exper = df.query(\"group == 'experimental'\")\n",
    "control = df.query(\"group == 'control'\")"
   ]
  },
  {
   "cell_type": "code",
   "execution_count": 9,
   "id": "e6ee0e51",
   "metadata": {
    "ExecuteTime": {
     "end_time": "2025-04-12T15:58:57.518609Z",
     "start_time": "2025-04-12T15:58:57.294968Z"
    },
    "scrolled": false
   },
   "outputs": [
    {
     "data": {
      "text/plain": [
       "<seaborn.axisgrid.FacetGrid at 0x27600054170>"
      ]
     },
     "execution_count": 9,
     "metadata": {},
     "output_type": "execute_result"
    },
    {
     "data": {
      "image/png": "[encoded data removed]",
      "text/plain": [
       "<Figure size 500x500 with 1 Axes>"
      ]
     },
     "metadata": {},
     "output_type": "display_data"
    }
   ],
   "source": [
    "sns.displot(control, x= 'value')"
   ]
  },
  {
   "cell_type": "code",
   "execution_count": 10,
   "id": "34e7534d",
   "metadata": {
    "ExecuteTime": {
     "end_time": "2025-04-12T15:58:57.523331Z",
     "start_time": "2025-04-12T15:58:57.519614Z"
    }
   },
   "outputs": [
    {
     "data": {
      "text/plain": [
       "148.83212650911054"
      ]
     },
     "execution_count": 10,
     "metadata": {},
     "output_type": "execute_result"
    }
   ],
   "source": [
    "control.value.median()"
   ]
  },
  {
   "cell_type": "code",
   "execution_count": 11,
   "id": "81b228a7",
   "metadata": {
    "ExecuteTime": {
     "end_time": "2025-04-12T15:58:57.527866Z",
     "start_time": "2025-04-12T15:58:57.524336Z"
    }
   },
   "outputs": [],
   "source": [
    "sample_df = control.sample(frac=1, replace=True)"
   ]
  },
  {
   "cell_type": "code",
   "execution_count": 12,
   "id": "70474608",
   "metadata": {
    "ExecuteTime": {
     "end_time": "2025-04-12T15:58:57.751015Z",
     "start_time": "2025-04-12T15:58:57.528874Z"
    }
   },
   "outputs": [
    {
     "data": {
      "text/plain": [
       "<seaborn.axisgrid.FacetGrid at 0x276008e43b0>"
      ]
     },
     "execution_count": 12,
     "metadata": {},
     "output_type": "execute_result"
    },
    {
     "data": {
      "image/png": "[encoded data removed]",
      "text/plain": [
       "<Figure size 500x500 with 1 Axes>"
      ]
     },
     "metadata": {},
     "output_type": "display_data"
    }
   ],
   "source": [
    "sns.displot(sample_df,x= 'value')"
   ]
  },
  {
   "cell_type": "code",
   "execution_count": null,
   "id": "f15f3720",
   "metadata": {},
   "outputs": [],
   "source": []
  },
  {
   "cell_type": "code",
   "execution_count": 13,
   "id": "6296ce4c",
   "metadata": {
    "ExecuteTime": {
     "end_time": "2025-04-12T15:58:57.754831Z",
     "start_time": "2025-04-12T15:58:57.752021Z"
    }
   },
   "outputs": [],
   "source": [
    "medians=[]"
   ]
  },
  {
   "cell_type": "code",
   "execution_count": 14,
   "id": "030bddd1",
   "metadata": {
    "ExecuteTime": {
     "end_time": "2025-04-12T15:58:57.760596Z",
     "start_time": "2025-04-12T15:58:57.757836Z"
    }
   },
   "outputs": [],
   "source": [
    "n = 10000"
   ]
  },
  {
   "cell_type": "code",
   "execution_count": 15,
   "id": "0360eaed",
   "metadata": {
    "ExecuteTime": {
     "end_time": "2025-04-12T15:58:58.844099Z",
     "start_time": "2025-04-12T15:58:57.761603Z"
    }
   },
   "outputs": [],
   "source": [
    "for i in range(10000):\n",
    "    sample_data = control.sample(frac=1, replace=True)\n",
    "    sample_median = sample_data.value.median()\n",
    "    medians.append(sample_median)"
   ]
  },
  {
   "cell_type": "code",
   "execution_count": 16,
   "id": "7aaa31c1",
   "metadata": {
    "ExecuteTime": {
     "end_time": "2025-04-12T15:58:58.852777Z",
     "start_time": "2025-04-12T15:58:58.845097Z"
    }
   },
   "outputs": [
    {
     "data": {
      "text/plain": [
       "[148.5028735505605,\n",
       " 147.98720444250745,\n",
       " 148.74897211094245,\n",
       " 149.7302200566907,\n",
       " 148.24930295543135,\n",
       " 150.6310178718284,\n",
       " 147.25097107944651,\n",
       " 149.43265413917985,\n",
       " 148.98437192565694,\n",
       " 148.57811309188975,\n",
       " 148.83849404127113,\n",
       " 148.09370163386967,\n",
       " 148.15185337057133,\n",
       " 150.2370798861362,\n",
       " 148.5838626749471,\n",
       " 148.9119700714488,\n",
       " 147.73338884652108,\n",
       " 148.1921136216389,\n",
       " 149.16182482249332,\n",
       " 147.86693933699087,\n",
       " 148.04535617920914,\n",
       " 148.91089589547929,\n",
       " 149.98173986258797,\n",
       " 148.035549897168,\n",
       " 149.7853574914596,\n",
       " 146.44113551265522,\n",
       " 150.19538526166258,\n",
       " 148.035549897168,\n",
       " 148.1921136216389,\n",
       " 148.83849404127113,\n",
       " 149.42935835643598,\n",
       " 148.62455967658255,\n",
       " 149.50134134974752,\n",
       " 149.25410340461525,\n",
       " 149.5537462248762,\n",
       " 148.5028735505605,\n",
       " 149.18184586039288,\n",
       " 148.83212650911054,\n",
       " 147.94781890169762,\n",
       " 148.72515932676626,\n",
       " 148.04144958256046,\n",
       " 147.94781890169762,\n",
       " 148.5046337369929,\n",
       " 149.56518317533954,\n",
       " 148.54316567331168,\n",
       " 148.53290402804834,\n",
       " 149.25410340461525,\n",
       " 150.2466423255614,\n",
       " 148.98329774968744,\n",
       " 148.98329774968744,\n",
       " 148.5028735505605,\n",
       " 148.44124837951412,\n",
       " 147.38684912243835,\n",
       " 147.98720444250745,\n",
       " 148.72577727586946,\n",
       " 149.94358988308923,\n",
       " 148.44124837951412,\n",
       " 149.9712582464325,\n",
       " 146.69297196606684,\n",
       " 148.98329774968744,\n",
       " 148.1586117595529,\n",
       " 149.96896629495018,\n",
       " 148.52477979836846,\n",
       " 149.91821347122828,\n",
       " 148.1586117595529,\n",
       " 148.5028735505605,\n",
       " 148.09960131926215,\n",
       " 148.64837246075874,\n",
       " 148.34527566747272,\n",
       " 148.04734926795294,\n",
       " 150.76109074521094,\n",
       " 149.49320018202803,\n",
       " 148.82575897694997,\n",
       " 148.61881009352516,\n",
       " 147.29186704985096,\n",
       " 148.04535617920914,\n",
       " 149.43265413917985,\n",
       " 150.45854128218068,\n",
       " 148.83849404127113,\n",
       " 147.86693933699087,\n",
       " 149.8146412152507,\n",
       " 149.94862834040632,\n",
       " 148.04734926795294,\n",
       " 148.66607645018763,\n",
       " 148.74897211094245,\n",
       " 149.92095997706303,\n",
       " 150.77666481255312,\n",
       " 149.25410340461525,\n",
       " 148.44124837951412,\n",
       " 150.38143827930736,\n",
       " 149.48990439928417,\n",
       " 150.2162325738994,\n",
       " 150.50363161423078,\n",
       " 148.83849404127113,\n",
       " 148.1921136216389,\n",
       " 150.26500311195076,\n",
       " 150.35259180387104,\n",
       " 149.16182482249332,\n",
       " 148.54316567331168,\n",
       " 149.06631976084276,\n",
       " 149.88600269373273,\n",
       " 150.12032575780512,\n",
       " 148.73152685892683,\n",
       " 148.47382115146968,\n",
       " 149.0264219950294,\n",
       " 148.50639392342526,\n",
       " 148.1753626905959,\n",
       " 147.3411611380775,\n",
       " 148.5046337369929,\n",
       " 149.0264219950294,\n",
       " 148.90452836331872,\n",
       " 149.06954624037138,\n",
       " 149.06954624037138,\n",
       " 149.88106920513505,\n",
       " 149.16182482249332,\n",
       " 149.96896629495018,\n",
       " 151.03976936592815,\n",
       " 148.20395735749213,\n",
       " 147.505110274728,\n",
       " 149.27412444251482,\n",
       " 148.61881009352516,\n",
       " 146.44113551265522,\n",
       " 148.61881009352516,\n",
       " 149.06954624037138,\n",
       " 149.42935835643598,\n",
       " 149.75950378048185,\n",
       " 148.22070828853512,\n",
       " 149.5766201258029,\n",
       " 149.24780440703177,\n",
       " 149.9237064828978,\n",
       " 149.2941454804144,\n",
       " 150.2370798861362,\n",
       " 148.1921136216389,\n",
       " 148.22070828853512,\n",
       " 148.5838626749471,\n",
       " 150.2162325738994,\n",
       " 148.04734926795294,\n",
       " 149.27412444251482,\n",
       " 150.47478513879446,\n",
       " 149.97355019791482,\n",
       " 148.09960131926215,\n",
       " 149.8146412152507,\n",
       " 148.55972721694653,\n",
       " 148.1753626905959,\n",
       " 150.3617721970657,\n",
       " 147.55323705063887,\n",
       " 148.64262287770134,\n",
       " 147.23721428387415,\n",
       " 148.44124837951412,\n",
       " 148.98437192565694,\n",
       " 148.62455967658255,\n",
       " 148.22070828853512,\n",
       " 149.42606257369212,\n",
       " 149.42935835643598,\n",
       " 148.44124837951412,\n",
       " 148.83212650911054,\n",
       " 149.48990439928417,\n",
       " 148.15523256506214,\n",
       " 149.16182482249332,\n",
       " 147.38684912243835,\n",
       " 150.04526625394766,\n",
       " 147.94333894477228,\n",
       " 149.88106920513505,\n",
       " 149.0264219950294,\n",
       " 148.56547680000392,\n",
       " 146.39724683978753,\n",
       " 148.1719834961051,\n",
       " 147.94781890169762,\n",
       " 149.16182482249332,\n",
       " 149.48990439928417,\n",
       " 149.18184586039288,\n",
       " 148.31668100057652,\n",
       " 148.67218524493492,\n",
       " 148.98437192565694,\n",
       " 148.61881009352516,\n",
       " 150.2370798861362,\n",
       " 151.34570146338444,\n",
       " 148.74897211094245,\n",
       " 148.22070828853512,\n",
       " 149.27412444251482,\n",
       " 149.614414423399,\n",
       " 149.06954624037138,\n",
       " 149.0264219950294,\n",
       " 149.62585137386236,\n",
       " 146.79908732798333,\n",
       " 150.22101379361197,\n",
       " 147.29186704985096,\n",
       " 148.1586117595529,\n",
       " 147.99310412789993,\n",
       " 148.09370163386967,\n",
       " 149.91821347122828,\n",
       " 148.83212650911054,\n",
       " 149.7853574914596,\n",
       " 148.44124837951412,\n",
       " 148.61881009352516,\n",
       " 149.8545319871787,\n",
       " 149.02749617099892,\n",
       " 150.14117307004193,\n",
       " 148.54316567331168,\n",
       " 148.6130605104678,\n",
       " 150.6310178718284,\n",
       " 147.3411611380775,\n",
       " 146.6880401407746,\n",
       " 147.41038219340473,\n",
       " 148.22070828853512,\n",
       " 148.64837246075874,\n",
       " 146.5929012131609,\n",
       " 149.91821347122828,\n",
       " 148.50639392342526,\n",
       " 148.98329774968744,\n",
       " 147.505110274728,\n",
       " 149.56518317533954,\n",
       " 149.94588183457154,\n",
       " 149.42606257369212,\n",
       " 147.38684912243835,\n",
       " 150.25104149904348,\n",
       " 147.5998383560513,\n",
       " 149.946336388924,\n",
       " 148.035549897168,\n",
       " 149.67508262192186,\n",
       " 148.62455967658255,\n",
       " 148.64837246075874,\n",
       " 148.1586117595529,\n",
       " 148.61881009352516,\n",
       " 150.76109074521094,\n",
       " 151.32423722123957,\n",
       " 149.91821347122828,\n",
       " 147.86693933699087,\n",
       " 148.3778484394283,\n",
       " 148.803928713135,\n",
       " 150.2162325738994,\n",
       " 150.00711627444892,\n",
       " 148.54316567331168,\n",
       " 148.37608825299594,\n",
       " 149.97355019791482,\n",
       " 148.61881009352516,\n",
       " 148.67218524493492,\n",
       " 149.67508262192186,\n",
       " 149.614414423399,\n",
       " 150.19538526166258,\n",
       " 149.68098880863124,\n",
       " 148.34527566747272,\n",
       " 150.2466423255614,\n",
       " 148.3474935860997,\n",
       " 147.01815080592874,\n",
       " 148.64837246075874,\n",
       " 148.5838626749471,\n",
       " 148.72515932676626,\n",
       " 148.1921136216389,\n",
       " 148.035549897168,\n",
       " 147.26472787501888,\n",
       " 149.36010402705324,\n",
       " 149.67508262192186,\n",
       " 148.09960131926215,\n",
       " 148.6076754591233,\n",
       " 148.61881009352516,\n",
       " 149.7853574914596,\n",
       " 148.44124837951412,\n",
       " 148.64837246075874,\n",
       " 148.22070828853512,\n",
       " 149.8146412152507,\n",
       " 147.38684912243835,\n",
       " 149.36010402705324,\n",
       " 147.9388589878469,\n",
       " 148.98329774968744,\n",
       " 148.74897211094245,\n",
       " 148.74897211094245,\n",
       " 148.98437192565694,\n",
       " 148.72515932676626,\n",
       " 150.3617721970657,\n",
       " 148.90452836331872,\n",
       " 150.14117307004193,\n",
       " 148.24930295543135,\n",
       " 149.88106920513505,\n",
       " 148.83212650911054,\n",
       " 150.12032575780512,\n",
       " 149.49320018202803,\n",
       " 149.02749617099892,\n",
       " 147.86693933699087,\n",
       " 149.97355019791482,\n",
       " 148.04983613613447,\n",
       " 149.42935835643598,\n",
       " 149.75950378048185,\n",
       " 148.44124837951412,\n",
       " 149.68098880863124,\n",
       " 150.1459542897545,\n",
       " 149.06954624037138,\n",
       " 148.52477979836846,\n",
       " 150.04526625394766,\n",
       " 149.42935835643598,\n",
       " 148.1921136216389,\n",
       " 149.50463713249138,\n",
       " 150.76109074521094,\n",
       " 147.94781890169762,\n",
       " 149.27412444251482,\n",
       " 148.72515932676626,\n",
       " 148.50639392342526,\n",
       " 149.3633998097971,\n",
       " 148.83849404127113,\n",
       " 145.81698084760203,\n",
       " 149.96896629495018,\n",
       " 150.00940822593122,\n",
       " 149.68098880863124,\n",
       " 148.52477979836846,\n",
       " 150.00940822593122,\n",
       " 149.36010402705324,\n",
       " 150.19538526166258,\n",
       " 147.55323705063887,\n",
       " 148.09960131926215,\n",
       " 146.66616569213227,\n",
       " 148.52477979836846,\n",
       " 149.05995222868216,\n",
       " 148.34527566747272,\n",
       " 148.04734926795294,\n",
       " 148.09960131926215,\n",
       " 147.9028991624189,\n",
       " 149.5537462248762,\n",
       " 147.26472787501888,\n",
       " 147.23721428387415,\n",
       " 149.3400829891537,\n",
       " 148.98329774968744,\n",
       " 149.0264219950294,\n",
       " 149.16182482249332,\n",
       " 149.56518317533954,\n",
       " 148.04734926795294,\n",
       " 147.3411611380775,\n",
       " 148.09960131926215,\n",
       " 150.19538526166258,\n",
       " 148.83849404127113,\n",
       " 148.66431626375524,\n",
       " 149.42935835643598,\n",
       " 148.37608825299594,\n",
       " 147.73338884652108,\n",
       " 149.42935835643598,\n",
       " 150.45854128218068,\n",
       " 148.52477979836846,\n",
       " 148.52477979836846,\n",
       " 148.5028735505605,\n",
       " 149.62585137386236,\n",
       " 147.90737911934423,\n",
       " 149.71027253242235,\n",
       " 148.74897211094245,\n",
       " 148.20395735749213,\n",
       " 148.04144958256046,\n",
       " 149.25410340461525,\n",
       " 147.01815080592874,\n",
       " 149.88381571096983,\n",
       " 148.10298051375293,\n",
       " 149.25110018977563,\n",
       " 149.25410340461525,\n",
       " 149.27412444251482,\n",
       " 146.67710291645344,\n",
       " 149.49320018202803,\n",
       " 148.20395735749213,\n",
       " 146.51927603317773,\n",
       " 149.42935835643598,\n",
       " 150.19538526166258,\n",
       " 148.98437192565694,\n",
       " 150.2162325738994,\n",
       " 149.27412444251482,\n",
       " 148.22070828853512,\n",
       " 148.5028735505605,\n",
       " 149.8146412152507,\n",
       " 149.36010402705324,\n",
       " 147.9916843994328,\n",
       " 149.946336388924,\n",
       " 147.9975840848253,\n",
       " 148.34527566747272,\n",
       " 149.6695518581679,\n",
       " 147.9388589878469,\n",
       " 148.61881009352516,\n",
       " 148.47206096503731,\n",
       " 146.53833531060025,\n",
       " 148.98329774968744,\n",
       " 150.25582271875606,\n",
       " 147.29186704985096,\n",
       " 148.83212650911054,\n",
       " 149.50134134974752,\n",
       " 146.9675590376166,\n",
       " 149.42935835643598,\n",
       " 150.14117307004193,\n",
       " 149.25410340461525,\n",
       " 149.96896629495018,\n",
       " 146.53752063635952,\n",
       " 149.42606257369212,\n",
       " 149.48990439928417,\n",
       " 148.71940974370887,\n",
       " 148.54316567331168,\n",
       " 147.30026516767305,\n",
       " 149.36010402705324,\n",
       " 147.50663574522645,\n",
       " 149.48990439928417,\n",
       " 148.98329774968744,\n",
       " 148.22070828853512,\n",
       " 148.89863453896345,\n",
       " 149.92095997706303,\n",
       " 148.15523256506214,\n",
       " 150.26500311195076,\n",
       " 148.15185337057133,\n",
       " 146.79908732798333,\n",
       " 148.04734926795294,\n",
       " 148.1753626905959,\n",
       " 149.56518317533954,\n",
       " 149.13979579102042,\n",
       " 150.6310178718284,\n",
       " 151.08178896509685,\n",
       " 149.48990439928417,\n",
       " 149.90873756847833,\n",
       " 149.75950378048185,\n",
       " 148.5028735505605,\n",
       " 149.3633998097971,\n",
       " 148.09370163386967,\n",
       " 149.98448636842272,\n",
       " 149.5537462248762,\n",
       " 148.04144958256046,\n",
       " 149.2057543376593,\n",
       " 149.13979579102042,\n",
       " 146.66616569213227,\n",
       " 149.16182482249332,\n",
       " 148.47382115146968,\n",
       " 148.34527566747272,\n",
       " 150.25104149904348,\n",
       " 150.87816452347263,\n",
       " 146.37677115780397,\n",
       " 149.62585137386236,\n",
       " 150.12032575780512,\n",
       " 147.45850896931557,\n",
       " 148.34527566747272,\n",
       " 149.02749617099892,\n",
       " 149.3400829891537,\n",
       " 150.45854128218068,\n",
       " 149.7853574914596,\n",
       " 150.26500311195076,\n",
       " 148.14832611169214,\n",
       " 149.42935835643598,\n",
       " 148.72515932676626,\n",
       " 147.9028991624189,\n",
       " 149.02749617099892,\n",
       " 150.2162325738994,\n",
       " 148.50639392342526,\n",
       " 148.15185337057133,\n",
       " 146.7484955596712,\n",
       " 150.7763799798184,\n",
       " 149.42606257369212,\n",
       " 148.1586117595529,\n",
       " 149.11977475312085,\n",
       " 149.9237064828978,\n",
       " 148.57811309188975,\n",
       " 149.85178548134394,\n",
       " 147.4349758983492,\n",
       " 149.946336388924,\n",
       " 148.98437192565694,\n",
       " 150.487387757617,\n",
       " 149.9237064828978,\n",
       " 148.91089589547929,\n",
       " 150.8112175367142,\n",
       " 150.2162325738994,\n",
       " 147.55323705063887,\n",
       " 148.61881009352516,\n",
       " 149.36010402705324,\n",
       " 148.64262287770134,\n",
       " 148.09708082836045,\n",
       " 147.86693933699087,\n",
       " 149.43265413917985,\n",
       " 147.2781102542786,\n",
       " 148.91089589547929,\n",
       " 149.68098880863124,\n",
       " 149.56518317533954,\n",
       " 147.72722732346205,\n",
       " 149.79664804657506,\n",
       " 148.34527566747272,\n",
       " 147.55323705063887,\n",
       " 149.8146412152507,\n",
       " 149.16182482249332,\n",
       " 149.97355019791482,\n",
       " 149.67508262192186,\n",
       " 149.16182482249332,\n",
       " 147.29186704985096,\n",
       " 149.25410340461525,\n",
       " 149.16182482249332,\n",
       " 149.56518317533954,\n",
       " 148.64262287770134,\n",
       " 147.2781102542786,\n",
       " 150.47478513879446,\n",
       " 147.31900622468305,\n",
       " 148.98329774968744,\n",
       " 149.9237064828978,\n",
       " 149.27412444251482,\n",
       " 148.755339643103,\n",
       " 147.7693486719491,\n",
       " 148.83212650911054,\n",
       " 149.8146412152507,\n",
       " 149.2941454804144,\n",
       " 149.36010402705324,\n",
       " 149.68098880863124,\n",
       " 148.15523256506214,\n",
       " 148.74897211094245,\n",
       " 150.04526625394766,\n",
       " 148.91089589547929,\n",
       " 148.44124837951412,\n",
       " 149.7853574914596,\n",
       " 150.80937282560848,\n",
       " 150.24186110584878,\n",
       " 149.42935835643598,\n",
       " 149.96896629495018,\n",
       " 148.98329774968744,\n",
       " 147.5998383560513,\n",
       " 149.92095997706303,\n",
       " 148.24930295543135,\n",
       " 148.34527566747272,\n",
       " 151.32423722123957,\n",
       " 150.25582271875606,\n",
       " 149.88106920513505,\n",
       " 148.64837246075874,\n",
       " 148.5028735505605,\n",
       " 149.42935835643598,\n",
       " 149.42606257369212,\n",
       " 149.18184586039288,\n",
       " 148.5028735505605,\n",
       " 149.9237064828978,\n",
       " 149.18184586039288,\n",
       " 148.9119700714488,\n",
       " 147.38684912243835,\n",
       " 148.6130605104678,\n",
       " 149.3633998097971,\n",
       " 148.1586117595529,\n",
       " 148.15185337057133,\n",
       " 147.73338884652108,\n",
       " 149.3400829891537,\n",
       " 147.9571443024719,\n",
       " 148.91089589547929,\n",
       " 148.15523256506214,\n",
       " 148.57811309188975,\n",
       " 150.04526625394766,\n",
       " 147.5998383560513,\n",
       " 147.23721428387415,\n",
       " 148.5230196119361,\n",
       " 148.98437192565694,\n",
       " 149.06954624037138,\n",
       " 148.04144958256046,\n",
       " 148.54316567331168,\n",
       " 147.9388589878469,\n",
       " 150.2466423255614,\n",
       " 148.44124837951412,\n",
       " 148.24930295543135,\n",
       " 147.9916843994328,\n",
       " 149.42935835643598,\n",
       " 149.7853574914596,\n",
       " 147.73338884652108,\n",
       " 149.7853574914596,\n",
       " 149.27412444251482,\n",
       " 149.27412444251482,\n",
       " 150.79195404716057,\n",
       " 148.62455967658255,\n",
       " 148.1753626905959,\n",
       " 148.1586117595529,\n",
       " 147.9028991624189,\n",
       " 149.0264219950294,\n",
       " 149.42606257369212,\n",
       " 149.62585137386236,\n",
       " 149.56518317533954,\n",
       " 149.946336388924,\n",
       " 149.02749617099892,\n",
       " 148.6130605104678,\n",
       " 148.55972721694653,\n",
       " 147.41038219340473,\n",
       " 149.0264219950294,\n",
       " 151.41239943928605,\n",
       " 149.94588183457154,\n",
       " 149.8439249390418,\n",
       " 148.035549897168,\n",
       " 148.82575897694997,\n",
       " 146.79908732798333,\n",
       " 149.11977475312085,\n",
       " 149.49320018202803,\n",
       " 151.1539742530787,\n",
       " 148.62455967658255,\n",
       " 148.035549897168,\n",
       " 148.22070828853512,\n",
       " 146.5862808965098,\n",
       " 148.5028735505605,\n",
       " 148.6130605104678,\n",
       " 148.1921136216389,\n",
       " 149.7302200566907,\n",
       " 148.9119700714488,\n",
       " 147.5998383560513,\n",
       " 148.98329774968744,\n",
       " 149.16182482249332,\n",
       " 149.49320018202803,\n",
       " 148.91089589547929,\n",
       " 147.36331605147197,\n",
       " 149.2941454804144,\n",
       " 149.88106920513505,\n",
       " 148.98544610162645,\n",
       " 149.67508262192186,\n",
       " 149.5537462248762,\n",
       " 150.04526625394766,\n",
       " 147.7693486719491,\n",
       " 146.66616569213227,\n",
       " 148.5046337369929,\n",
       " 148.1719834961051,\n",
       " 146.68203474174567,\n",
       " 149.18184586039288,\n",
       " 148.62455967658255,\n",
       " 149.27412444251482,\n",
       " 148.6130605104678,\n",
       " 148.82575897694997,\n",
       " 145.92562526660515,\n",
       " 149.27412444251482,\n",
       " 149.67508262192186,\n",
       " 149.5537462248762,\n",
       " 150.37801605367952,\n",
       " 147.55323705063887,\n",
       " 148.71940974370887,\n",
       " 149.98448636842272,\n",
       " 149.92095997706303,\n",
       " 148.5838626749471,\n",
       " 149.92095997706303,\n",
       " 150.80937282560848,\n",
       " 148.91089589547929,\n",
       " 148.87086574265317,\n",
       " 148.98437192565694,\n",
       " 147.94333894477228,\n",
       " 149.92095997706303,\n",
       " 147.25097107944651,\n",
       " 148.64837246075874,\n",
       " 147.94781890169762,\n",
       " 148.83849404127113,\n",
       " 150.04526625394766,\n",
       " 147.29186704985096,\n",
       " 147.38684912243835,\n",
       " 150.12032575780512,\n",
       " 148.6130605104678,\n",
       " 148.755339643103,\n",
       " 147.4349758983492,\n",
       " 148.98544610162645,\n",
       " 148.98329774968744,\n",
       " 149.27412444251482,\n",
       " 147.9975840848253,\n",
       " 149.06954624037138,\n",
       " 149.3400829891537,\n",
       " 147.36331605147197,\n",
       " 148.6130605104678,\n",
       " 149.06954624037138,\n",
       " 148.98329774968744,\n",
       " 149.91821347122828,\n",
       " 149.02749617099892,\n",
       " 148.74897211094245,\n",
       " 149.62585137386236,\n",
       " 148.73152685892683,\n",
       " 148.09708082836045,\n",
       " 149.3400829891537,\n",
       " 149.62585137386236,\n",
       " 146.34342943187437,\n",
       " 149.87716189320489,\n",
       " 150.74580151060346,\n",
       " 147.94333894477228,\n",
       " 147.73338884652108,\n",
       " 150.49102899540824,\n",
       " 149.06954624037138,\n",
       " 149.50463713249138,\n",
       " 148.64262287770134,\n",
       " 148.83212650911054,\n",
       " 148.14832611169214,\n",
       " 149.56518317533954,\n",
       " 146.05343365218704,\n",
       " 147.01815080592874,\n",
       " 149.9237064828978,\n",
       " 148.06996626166824,\n",
       " 147.6386607651978,\n",
       " 149.88381571096983,\n",
       " 149.0264219950294,\n",
       " 149.02749617099892,\n",
       " 150.87816452347263,\n",
       " 150.79195404716057,\n",
       " 149.36010402705324,\n",
       " 147.6386607651978,\n",
       " 149.88381571096983,\n",
       " 148.55972721694653,\n",
       " 150.77666481255312,\n",
       " 149.02749617099892,\n",
       " 149.02749617099892,\n",
       " 147.94781890169762,\n",
       " 149.18184586039288,\n",
       " 149.3400829891537,\n",
       " 149.68098880863124,\n",
       " 149.75950378048185,\n",
       " 148.72515932676626,\n",
       " 146.66616569213227,\n",
       " 150.3617721970657,\n",
       " 149.9712582464325,\n",
       " 149.62585137386236,\n",
       " 147.7693486719491,\n",
       " 148.035549897168,\n",
       " 149.2941454804144,\n",
       " 146.6880401407746,\n",
       " 148.04734926795294,\n",
       " 148.67218524493492,\n",
       " 149.7853574914596,\n",
       " 148.50639392342526,\n",
       " 148.57811309188975,\n",
       " 151.63725879482232,\n",
       " 147.25097107944651,\n",
       " 148.09370163386967,\n",
       " 148.24930295543135,\n",
       " 150.2162325738994,\n",
       " 148.98437192565694,\n",
       " 149.9712582464325,\n",
       " 146.9675590376166,\n",
       " 149.5537462248762,\n",
       " 150.76109074521094,\n",
       " 151.42600180501407,\n",
       " 148.10298051375293,\n",
       " 150.26500311195076,\n",
       " 149.24780440703177,\n",
       " 148.44124837951412,\n",
       " 148.54316567331168,\n",
       " 148.5838626749471,\n",
       " 149.06954624037138,\n",
       " 150.25582271875606,\n",
       " 149.27412444251482,\n",
       " 146.539149984841,\n",
       " 146.58959105483535,\n",
       " 150.35259180387104,\n",
       " 148.04734926795294,\n",
       " 149.92095997706303,\n",
       " 149.92095997706303,\n",
       " 147.3411611380775,\n",
       " 148.34527566747272,\n",
       " 149.49320018202803,\n",
       " 149.2941454804144,\n",
       " 147.41038219340473,\n",
       " 148.72515932676626,\n",
       " 148.82575897694997,\n",
       " 147.77382862887447,\n",
       " 148.15523256506214,\n",
       " 149.18184586039288,\n",
       " 148.74897211094245,\n",
       " 148.15185337057133,\n",
       " 148.98437192565694,\n",
       " 148.5838626749471,\n",
       " 147.94333894477228,\n",
       " 148.20395735749213,\n",
       " 150.3617721970657,\n",
       " 148.74897211094245,\n",
       " 148.91089589547929,\n",
       " 148.91089589547929,\n",
       " 148.04144958256046,\n",
       " 149.13979579102042,\n",
       " 148.22070828853512,\n",
       " 146.5862808965098,\n",
       " 148.22070828853512,\n",
       " 149.62585137386236,\n",
       " 151.33088821979862,\n",
       " 149.3633998097971,\n",
       " 150.80937282560848,\n",
       " 149.7853574914596,\n",
       " 149.18184586039288,\n",
       " 148.91089589547929,\n",
       " 147.94333894477228,\n",
       " 150.74580151060346,\n",
       " 148.72577727586946,\n",
       " 148.04734926795294,\n",
       " 148.22070828853512,\n",
       " 150.00940822593122,\n",
       " 148.09960131926215,\n",
       " 148.22070828853512,\n",
       " 148.62455967658255,\n",
       " 151.32423722123957,\n",
       " 150.00940822593122,\n",
       " 149.42606257369212,\n",
       " 148.5838626749471,\n",
       " 147.23721428387415,\n",
       " 149.49320018202803,\n",
       " 149.7302200566907,\n",
       " 149.7853574914596,\n",
       " 149.49320018202803,\n",
       " 148.62455967658255,\n",
       " 149.8439249390418,\n",
       " 148.4922070264129,\n",
       " 148.1719834961051,\n",
       " 150.74580151060346,\n",
       " 148.74897211094245,\n",
       " 148.55796703051413,\n",
       " 148.24930295543135,\n",
       " 147.77382862887447,\n",
       " 148.15185337057133,\n",
       " 148.14832611169214,\n",
       " 149.16182482249332,\n",
       " 148.15185337057133,\n",
       " 149.27412444251482,\n",
       " 149.67508262192186,\n",
       " 148.1586117595529,\n",
       " 148.82575897694997,\n",
       " 149.91821347122828,\n",
       " 149.43265413917985,\n",
       " 148.50639392342526,\n",
       " 149.67508262192186,\n",
       " 149.94588183457154,\n",
       " 149.5766201258029,\n",
       " 147.9028991624189,\n",
       " 148.98544610162645,\n",
       " 147.26472787501888,\n",
       " 149.75950378048185,\n",
       " 150.08217577830638,\n",
       " 148.1753626905959,\n",
       " 148.09708082836045,\n",
       " 148.09960131926215,\n",
       " 148.72515932676626,\n",
       " 150.50363161423078,\n",
       " 147.41038219340473,\n",
       " 149.96896629495018,\n",
       " 148.15523256506214,\n",
       " 149.9712582464325,\n",
       " 149.42606257369212,\n",
       " 148.04144958256046,\n",
       " 147.94333894477228,\n",
       " 149.06954624037138,\n",
       " 149.18184586039288,\n",
       " 147.94781890169762,\n",
       " 147.36331605147197,\n",
       " 148.47382115146968,\n",
       " 148.5028735505605,\n",
       " 148.98437192565694,\n",
       " 148.34527566747272,\n",
       " 148.98329774968744,\n",
       " 149.0264219950294,\n",
       " 149.27412444251482,\n",
       " 148.98437192565694,\n",
       " 148.14242642629966,\n",
       " 148.67218524493492,\n",
       " 147.90737911934423,\n",
       " 147.9028991624189,\n",
       " 148.24930295543135,\n",
       " 149.67508262192186,\n",
       " 148.15185337057133,\n",
       " 149.75950378048185,\n",
       " 150.19538526166258,\n",
       " 146.43089767166344,\n",
       " 148.44124837951412,\n",
       " 147.86693933699087,\n",
       " 149.25110018977563,\n",
       " 149.4239458526453,\n",
       " 147.9975840848253,\n",
       " 150.76109074521094,\n",
       " 148.6130605104678,\n",
       " 148.61881009352516,\n",
       " 147.99310412789993,\n",
       " 148.98329774968744,\n",
       " 149.88106920513505,\n",
       " 149.91821347122828,\n",
       " 149.02749617099892,\n",
       " 147.9028991624189,\n",
       " 147.9975840848253,\n",
       " 147.29186704985096,\n",
       " 148.98544610162645,\n",
       " 149.62585137386236,\n",
       " 148.55671681222452,\n",
       " 148.5230196119361,\n",
       " 148.98544610162645,\n",
       " 148.57811309188975,\n",
       " 148.50639392342526,\n",
       " 148.6130605104678,\n",
       " 148.61881009352516,\n",
       " 149.2941454804144,\n",
       " 149.49320018202803,\n",
       " 149.88106920513505,\n",
       " 149.96896629495018,\n",
       " 146.79908732798333,\n",
       " 149.42606257369212,\n",
       " 148.91089589547929,\n",
       " 147.94333894477228,\n",
       " 149.24780440703177,\n",
       " 148.24930295543135,\n",
       " 148.1586117595529,\n",
       " 148.8288156732807,\n",
       " 148.1753626905959,\n",
       " 148.67218524493492,\n",
       " 148.5028735505605,\n",
       " 150.24186110584878,\n",
       " 149.5537462248762,\n",
       " 150.08446772978868,\n",
       " 148.47206096503731,\n",
       " 150.79195404716057,\n",
       " 148.82575897694997,\n",
       " 148.64262287770134,\n",
       " 148.09708082836045,\n",
       " 149.49320018202803,\n",
       " 149.25410340461525,\n",
       " 148.98329774968744,\n",
       " 149.67508262192186,\n",
       " 148.62455967658255,\n",
       " 149.94588183457154,\n",
       " 149.3400829891537,\n",
       " 150.8075281145028,\n",
       " 149.3633998097971,\n",
       " 148.98437192565694,\n",
       " 147.98720444250745,\n",
       " 147.01815080592874,\n",
       " 148.5028735505605,\n",
       " 150.00940822593122,\n",
       " 149.02749617099892,\n",
       " 148.64837246075874,\n",
       " 148.82575897694997,\n",
       " 147.77382862887447,\n",
       " 149.42606257369212,\n",
       " 149.43265413917985,\n",
       " 148.1921136216389,\n",
       " 148.82575897694997,\n",
       " 148.98329774968744,\n",
       " 150.12032575780512,\n",
       " 149.02749617099892,\n",
       " 149.05995222868216,\n",
       " 148.73152685892683,\n",
       " 148.37608825299594,\n",
       " 149.42606257369212,\n",
       " 148.1719834961051,\n",
       " 148.10298051375293,\n",
       " 148.5028735505605,\n",
       " 149.43265413917985,\n",
       " 148.64837246075874,\n",
       " 148.3778484394283,\n",
       " 149.36010402705324,\n",
       " 147.9388589878469,\n",
       " 147.36331605147197,\n",
       " 149.62585137386236,\n",
       " 149.42935835643598,\n",
       " 148.15523256506214,\n",
       " 149.56518317533954,\n",
       " 148.67218524493492,\n",
       " 148.67218524493492,\n",
       " 149.16182482249332,\n",
       " 149.55386838055085,\n",
       " 148.55972721694653,\n",
       " 148.035549897168,\n",
       " 146.69790379135907,\n",
       " 148.98329774968744,\n",
       " 149.02749617099892,\n",
       " 149.71027253242235,\n",
       " 150.2162325738994,\n",
       " 148.37608825299594,\n",
       " 149.87716189320489,\n",
       " 149.92095997706303,\n",
       " 146.98131583318897,\n",
       " 148.50639392342526,\n",
       " 148.64837246075874,\n",
       " 148.1586117595529,\n",
       " 148.5046337369929,\n",
       " 148.83849404127113,\n",
       " 147.68678754110866,\n",
       " 149.27412444251482,\n",
       " 148.09370163386967,\n",
       " 150.19538526166258,\n",
       " 148.4922070264129,\n",
       " 148.5838626749471,\n",
       " 148.1921136216389,\n",
       " 149.42935835643598,\n",
       " 147.45850896931557,\n",
       " 148.10298051375293,\n",
       " 149.7853574914596,\n",
       " 148.74897211094245,\n",
       " 147.9916843994328,\n",
       " 148.09960131926215,\n",
       " 148.04144958256046,\n",
       " 148.90452836331872,\n",
       " 148.22070828853512,\n",
       " 149.7302200566907,\n",
       " 147.25097107944651,\n",
       " 148.91089589547929,\n",
       " 148.52715444499097,\n",
       " 148.15185337057133,\n",
       " 149.97355019791482,\n",
       " 148.98544610162645,\n",
       " 146.69297196606684,\n",
       " 148.73152685892683,\n",
       " 149.94358988308923,\n",
       " 150.00940822593122,\n",
       " 148.83212650911054,\n",
       " 151.2854134067211,\n",
       " 148.9119700714488,\n",
       " 148.67218524493492,\n",
       " 148.57811309188975,\n",
       " 148.04144958256046,\n",
       " 149.56518317533954,\n",
       " 149.946336388924,\n",
       " 148.64837246075874,\n",
       " 147.73338884652108,\n",
       " 149.2941454804144,\n",
       " 149.88106920513505,\n",
       " 148.04734926795294,\n",
       " 151.1625913863246,\n",
       " 148.61881009352516,\n",
       " 148.5838626749471,\n",
       " 148.6130605104678,\n",
       " 148.24930295543135,\n",
       " 148.98329774968744,\n",
       " 148.1921136216389,\n",
       " 147.98720444250745,\n",
       " 147.86693933699087,\n",
       " 150.2466423255614,\n",
       " ...]"
      ]
     },
     "execution_count": 16,
     "metadata": {},
     "output_type": "execute_result"
    }
   ],
   "source": [
    "medians"
   ]
  },
  {
   "cell_type": "code",
   "execution_count": 17,
   "id": "5b1aefc6",
   "metadata": {
    "ExecuteTime": {
     "end_time": "2025-04-12T15:58:59.116915Z",
     "start_time": "2025-04-12T15:58:58.853775Z"
    }
   },
   "outputs": [
    {
     "data": {
      "text/plain": [
       "<seaborn.axisgrid.FacetGrid at 0x276007dd370>"
      ]
     },
     "execution_count": 17,
     "metadata": {},
     "output_type": "execute_result"
    },
    {
     "data": {
      "image/png": "[encoded data removed]",
      "text/plain": [
       "<Figure size 500x500 with 1 Axes>"
      ]
     },
     "metadata": {},
     "output_type": "display_data"
    }
   ],
   "source": [
    "sns.displot(medians)"
   ]
  },
  {
   "cell_type": "code",
   "execution_count": 18,
   "id": "72485bdd",
   "metadata": {
    "ExecuteTime": {
     "end_time": "2025-04-12T15:58:59.123922Z",
     "start_time": "2025-04-12T15:58:59.117922Z"
    }
   },
   "outputs": [
    {
     "data": {
      "text/plain": [
       "150.79195404716057"
      ]
     },
     "execution_count": 18,
     "metadata": {},
     "output_type": "execute_result"
    }
   ],
   "source": [
    "pd.Series(medians).quantile(0.975)"
   ]
  },
  {
   "cell_type": "code",
   "execution_count": 19,
   "id": "13784a40",
   "metadata": {
    "ExecuteTime": {
     "end_time": "2025-04-12T15:58:59.131360Z",
     "start_time": "2025-04-12T15:58:59.124929Z"
    }
   },
   "outputs": [
    {
     "data": {
      "text/plain": [
       "146.67710291645344"
      ]
     },
     "execution_count": 19,
     "metadata": {},
     "output_type": "execute_result"
    }
   ],
   "source": [
    "pd.Series(medians).quantile(0.025)"
   ]
  },
  {
   "cell_type": "markdown",
   "id": "14b5961c",
   "metadata": {},
   "source": [
    "95 % медиан оказались [146.6880401407746,150.79195404716057] в группе control"
   ]
  },
  {
   "cell_type": "code",
   "execution_count": 20,
   "id": "21e8a844",
   "metadata": {
    "ExecuteTime": {
     "end_time": "2025-04-12T15:58:59.303419Z",
     "start_time": "2025-04-12T15:58:59.132367Z"
    }
   },
   "outputs": [
    {
     "data": {
      "text/plain": [
       "BootstrapResult(confidence_interval=ConfidenceInterval(low=146.62953345264657, high=150.7763799798184), bootstrap_distribution=array([149.96896629, 150.51623423, 148.5247798 , ..., 148.74897211,\n",
       "       149.34008299, 148.61881009]), standard_error=1.000695454281481)"
      ]
     },
     "execution_count": 20,
     "metadata": {},
     "output_type": "execute_result"
    }
   ],
   "source": [
    "#тоже самое но используем функцию\n",
    "bootstrap((control.value, ), np.median)"
   ]
  },
  {
   "cell_type": "code",
   "execution_count": 23,
   "id": "a75f64d9",
   "metadata": {
    "ExecuteTime": {
     "end_time": "2025-04-12T15:59:41.483634Z",
     "start_time": "2025-04-12T15:59:41.387450Z"
    }
   },
   "outputs": [
    {
     "data": {
      "text/plain": [
       "BootstrapResult(confidence_interval=ConfidenceInterval(low=106.23062332625358, high=107.79741396723091), bootstrap_distribution=array([106.9996611 , 106.99167611, 106.74003213, ..., 106.8460691 ,\n",
       "       107.3257002 , 106.80879707]), standard_error=0.40958402730416954)"
      ]
     },
     "execution_count": 23,
     "metadata": {},
     "output_type": "execute_result"
    }
   ],
   "source": [
    "bootstrap((exper.value, ), np.median)"
   ]
  },
  {
   "cell_type": "code",
   "execution_count": 34,
   "id": "48372f95",
   "metadata": {
    "ExecuteTime": {
     "end_time": "2025-04-12T16:04:13.926340Z",
     "start_time": "2025-04-12T16:04:13.923681Z"
    }
   },
   "outputs": [],
   "source": [
    "#медианы стат значимо различаются"
   ]
  },
  {
   "cell_type": "code",
   "execution_count": null,
   "id": "3e729818",
   "metadata": {},
   "outputs": [],
   "source": []
  }
 ],
 "metadata": {
  "kernelspec": {
   "display_name": "Python 3 (ipykernel)",
   "language": "python",
   "name": "python3"
  },
  "language_info": {
   "codemirror_mode": {
    "name": "ipython",
    "version": 3
   },
   "file_extension": ".py",
   "mimetype": "text/x-python",
   "name": "python",
   "nbconvert_exporter": "python",
   "pygments_lexer": "ipython3",
   "version": "3.12.3"
  },
  "varInspector": {
   "cols": {
    "lenName": 16,
    "lenType": 16,
    "lenVar": 40
   },
   "kernels_config": {
    "python": {
     "delete_cmd_postfix": "",
     "delete_cmd_prefix": "del ",
     "library": "var_list.py",
     "varRefreshCmd": "print(var_dic_list())"
    },
    "r": {
     "delete_cmd_postfix": ") ",
     "delete_cmd_prefix": "rm(",
     "library": "var_list.r",
     "varRefreshCmd": "cat(var_dic_list()) "
    }
   },
   "types_to_exclude": [
    "module",
    "function",
    "builtin_function_or_method",
    "instance",
    "_Feature"
   ],
   "window_display": false
  }
 },
 "nbformat": 4,
 "nbformat_minor": 5
}
