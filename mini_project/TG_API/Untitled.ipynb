{
 "cells": [
  {
   "cell_type": "code",
   "execution_count": 1,
   "id": "d598c969",
   "metadata": {
    "ExecuteTime": {
     "end_time": "2025-01-17T15:43:18.611539Z",
     "start_time": "2025-01-17T15:43:17.916589Z"
    }
   },
   "outputs": [],
   "source": [
    "import pandas as pd\n",
    "import telebot\n",
    "import os\n",
    "import requests\n",
    "import json\n",
    "import random\n",
    "import schedule\n",
    "import time\n",
    "from datetime import datetime"
   ]
  },
  {
   "cell_type": "code",
   "execution_count": 2,
   "id": "0f46a123",
   "metadata": {
    "ExecuteTime": {
     "end_time": "2025-01-17T15:43:18.615427Z",
     "start_time": "2025-01-17T15:43:18.612540Z"
    }
   },
   "outputs": [],
   "source": [
    "bot = telebot.TeleBot(token='')\n",
    "channel_id = '@api_lear'"
   ]
  },
  {
   "cell_type": "code",
   "execution_count": 3,
   "id": "99aba78a",
   "metadata": {
    "ExecuteTime": {
     "end_time": "2025-01-17T15:43:20.523211Z",
     "start_time": "2025-01-17T15:43:18.617429Z"
    }
   },
   "outputs": [],
   "source": [
    "df = pd.read_csv('C:/Users/spit/Desktop/karpov_0/lesson_5_ads_data.csv.zip', compression='zip')"
   ]
  },
  {
   "cell_type": "code",
   "execution_count": 4,
   "id": "703e1783",
   "metadata": {
    "ExecuteTime": {
     "end_time": "2025-01-17T15:43:20.705487Z",
     "start_time": "2025-01-17T15:43:20.524212Z"
    }
   },
   "outputs": [],
   "source": [
    "ad_data = df.groupby(['ad_id','event'],as_index=False) \\\n",
    "    .agg({'user_id':'count'}) \\\n",
    "    .pivot(index='ad_id', columns='event',values='user_id').reset_index()"
   ]
  },
  {
   "cell_type": "code",
   "execution_count": 5,
   "id": "1c991831",
   "metadata": {
    "ExecuteTime": {
     "end_time": "2025-01-17T15:43:20.709910Z",
     "start_time": "2025-01-17T15:43:20.706490Z"
    }
   },
   "outputs": [],
   "source": [
    "ad_data = ad_data.fillna(0).assign(ctr = ad_data.click / ad_data.view)"
   ]
  },
  {
   "cell_type": "code",
   "execution_count": 6,
   "id": "bcdc1f9b",
   "metadata": {
    "ExecuteTime": {
     "end_time": "2025-01-17T15:43:20.717257Z",
     "start_time": "2025-01-17T15:43:20.710913Z"
    }
   },
   "outputs": [],
   "source": [
    "top_ctr = ad_data.query('click >20 & view >100').sort_values('ctr').tail(10)"
   ]
  },
  {
   "cell_type": "code",
   "execution_count": 7,
   "id": "2eb29ebb",
   "metadata": {
    "ExecuteTime": {
     "end_time": "2025-01-17T15:43:20.722532Z",
     "start_time": "2025-01-17T15:43:20.718260Z"
    }
   },
   "outputs": [],
   "source": [
    "top_ctr.to_csv('top_ctr_data.csv', index=False)"
   ]
  },
  {
   "cell_type": "markdown",
   "id": "f8d50cd0",
   "metadata": {},
   "source": [
    "Отправить сейчас"
   ]
  },
  {
   "cell_type": "code",
   "execution_count": 8,
   "id": "1ffaf9a6",
   "metadata": {
    "ExecuteTime": {
     "end_time": "2025-01-17T15:43:21.072306Z",
     "start_time": "2025-01-17T15:43:20.723536Z"
    }
   },
   "outputs": [
    {
     "data": {
      "text/plain": [
       "<telebot.types.Message at 0x1c49c243bc0>"
      ]
     },
     "execution_count": 8,
     "metadata": {},
     "output_type": "execute_result"
    }
   ],
   "source": [
    "bot.send_document(channel_id, open('C:/Users/spit/karpov/repeat/project/mini_project_TG_API/top_ctr_data.csv', 'rb'))"
   ]
  },
  {
   "cell_type": "code",
   "execution_count": 9,
   "id": "98e811e9",
   "metadata": {
    "ExecuteTime": {
     "end_time": "2025-01-17T15:43:21.076228Z",
     "start_time": "2025-01-17T15:43:21.073308Z"
    }
   },
   "outputs": [],
   "source": [
    "def create_file():\n",
    "    df = pd.read_csv('C:/Users/spit/Desktop/karpov_0/lesson_5_ads_data.csv.zip', compression='zip')\n",
    "    \n",
    "    ad_data = df.groupby(['ad_id','event'],as_index=False) \\\n",
    "    .agg({'user_id':'count'}) \\\n",
    "    .pivot(index='ad_id', columns='event',values='user_id').reset_index()\n",
    "    \n",
    "    ad_data = ad_data.fillna(0).assign(ctr = ad_data.click / ad_data.view)\n",
    "    \n",
    "    top_ctr = ad_data.query('click >20 & view >100').sort_values('ctr').tail(10)\n",
    "    \n",
    "    top_ctr.to_csv('top_ctr_data.csv', index=False)"
   ]
  },
  {
   "cell_type": "code",
   "execution_count": 10,
   "id": "b9aef884",
   "metadata": {
    "ExecuteTime": {
     "end_time": "2025-01-17T15:43:21.082909Z",
     "start_time": "2025-01-17T15:43:21.077231Z"
    }
   },
   "outputs": [],
   "source": [
    "FILE_PATH = 'C:/Users/spit/karpov/repeat/project/mini_project_TG_API/top_ctr_data.csv'"
   ]
  },
  {
   "cell_type": "code",
   "execution_count": 11,
   "id": "339864c1",
   "metadata": {
    "ExecuteTime": {
     "end_time": "2025-01-17T15:43:21.086210Z",
     "start_time": "2025-01-17T15:43:21.083910Z"
    }
   },
   "outputs": [],
   "source": [
    "def send_file():\n",
    "    with open(FILE_PATH, 'rb') as file:\n",
    "        bot.send_document(channel_id, file)"
   ]
  },
  {
   "cell_type": "code",
   "execution_count": 12,
   "id": "82aaa660",
   "metadata": {
    "ExecuteTime": {
     "end_time": "2025-01-17T15:43:21.090728Z",
     "start_time": "2025-01-17T15:43:21.087212Z"
    }
   },
   "outputs": [
    {
     "data": {
      "text/plain": [
       "Every 1 day at 18:44:30 do send_file() (last run: [never], next run: 2025-01-17 18:44:30)"
      ]
     },
     "execution_count": 12,
     "metadata": {},
     "output_type": "execute_result"
    }
   ],
   "source": [
    "schedule.every().day.at(\"18:43:30\").do(create_file)\n",
    "schedule.every().day.at(\"18:44:30\").do(send_file)"
   ]
  },
  {
   "cell_type": "code",
   "execution_count": null,
   "id": "c438daa2",
   "metadata": {
    "ExecuteTime": {
     "start_time": "2025-01-17T15:43:17.917Z"
    }
   },
   "outputs": [],
   "source": [
    "while True:\n",
    "    schedule.run_pending()\n",
    "    time.sleep(1)"
   ]
  },
  {
   "cell_type": "code",
   "execution_count": null,
   "id": "f4bc6184",
   "metadata": {},
   "outputs": [],
   "source": []
  }
 ],
 "metadata": {
  "kernelspec": {
   "display_name": "Python 3 (ipykernel)",
   "language": "python",
   "name": "python3"
  },
  "language_info": {
   "codemirror_mode": {
    "name": "ipython",
    "version": 3
   },
   "file_extension": ".py",
   "mimetype": "text/x-python",
   "name": "python",
   "nbconvert_exporter": "python",
   "pygments_lexer": "ipython3",
   "version": "3.12.3"
  },
  "varInspector": {
   "cols": {
    "lenName": 16,
    "lenType": 16,
    "lenVar": 40
   },
   "kernels_config": {
    "python": {
     "delete_cmd_postfix": "",
     "delete_cmd_prefix": "del ",
     "library": "var_list.py",
     "varRefreshCmd": "print(var_dic_list())"
    },
    "r": {
     "delete_cmd_postfix": ") ",
     "delete_cmd_prefix": "rm(",
     "library": "var_list.r",
     "varRefreshCmd": "cat(var_dic_list()) "
    }
   },
   "types_to_exclude": [
    "module",
    "function",
    "builtin_function_or_method",
    "instance",
    "_Feature"
   ],
   "window_display": false
  }
 },
 "nbformat": 4,
 "nbformat_minor": 5
}
