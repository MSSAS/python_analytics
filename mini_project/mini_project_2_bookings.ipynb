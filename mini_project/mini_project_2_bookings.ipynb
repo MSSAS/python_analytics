{
 "cells": [
  {
   "cell_type": "code",
   "execution_count": 1,
   "id": "7f327452",
   "metadata": {
    "ExecuteTime": {
     "end_time": "2025-01-04T02:51:13.158117Z",
     "start_time": "2025-01-04T02:51:12.530175Z"
    }
   },
   "outputs": [],
   "source": [
    "import pandas as pd \n",
    "import plotly.express as px"
   ]
  },
  {
   "cell_type": "raw",
   "id": "af6be8ee",
   "metadata": {},
   "source": [
    "Имеются следующие переменные:\n",
    "•\tHotel – тип отеля (City Hotel или Resort Hotel)  \n",
    "•\tIs canceled – бронирование было отменено (1) или нет (0); не отмененное считается успешным\n",
    "•\tLead time – количество дней, прошедших между датой бронирования и датой прибытия  \n",
    "•\tArrival full date – полная дата прибытия\n",
    "•\tArrival date year – год прибытия  \n",
    "•\tArrival date month – месяц прибытия  \n",
    "•\tArrival date week number – номер недели прибытия\n",
    "•\tArrival date day of month – день прибытия\n",
    "•\tStays in weekend nights – количество выходных (суббота или воскресенье), которые гость забронировал для проживания в отеле\n",
    "•\tStays in week nights – количество дней (с понедельника по пятницу), которые гость забронировал для проживания в отеле\n",
    "•\tStays total nights – общее число забронированных ночей (сумма двух предыдущих колонок)\n",
    "•\tAdults – число взрослых\n",
    "•\tChildren – число детей\n",
    "•\tBabies – число младенцев \n",
    "•\tMeal – выбранный тип питания\n",
    "•\tCountry – страна происхождения клиента\n",
    "•\tReserved room type – тип зарезервированного номера\n",
    "•\tAssigned room type – тип полученного номера (может отличаться от забронированного)\n",
    "•\tCustomer type – тип бронирования\n",
    "•\tReservation status – значение последнего статуса брони: Canceled - было отменено клиентом; Check-Out - клиент зарегистрировался, но уже покинул отель; No-Show - клиент не зарегистрировался и сообщил администрации отеля причину\n",
    "•\tReservation status date – дата обновления статуса\n"
   ]
  },
  {
   "cell_type": "code",
   "execution_count": 2,
   "id": "fb741beb",
   "metadata": {
    "ExecuteTime": {
     "end_time": "2025-01-04T02:51:13.282002Z",
     "start_time": "2025-01-04T02:51:13.159118Z"
    }
   },
   "outputs": [],
   "source": [
    "booking = pd.read_csv('C:/Users/spit/Desktop/karpov/data/2_bookings.csv',sep=\";\")"
   ]
  },
  {
   "cell_type": "code",
   "execution_count": 3,
   "id": "9f5828cd",
   "metadata": {
    "ExecuteTime": {
     "end_time": "2025-01-04T02:51:13.288017Z",
     "start_time": "2025-01-04T02:51:13.283003Z"
    }
   },
   "outputs": [
    {
     "data": {
      "text/plain": [
       "Hotel                         object\n",
       "Is Canceled                    int64\n",
       "Lead Time                      int64\n",
       "arrival full date             object\n",
       "Arrival Date Year              int64\n",
       "Arrival Date Month            object\n",
       "Arrival Date Week Number       int64\n",
       "Arrival Date Day of Month      int64\n",
       "Stays in Weekend nights        int64\n",
       "Stays in week nights           int64\n",
       "stays total nights             int64\n",
       "Adults                         int64\n",
       "Children                     float64\n",
       "Babies                         int64\n",
       "Meal                          object\n",
       "Country                       object\n",
       "Reserved Room Type            object\n",
       "Assigned room type            object\n",
       "customer type                 object\n",
       "Reservation Status            object\n",
       "Reservation status_date       object\n",
       "dtype: object"
      ]
     },
     "execution_count": 3,
     "metadata": {},
     "output_type": "execute_result"
    }
   ],
   "source": [
    "booking.dtypes"
   ]
  },
  {
   "cell_type": "code",
   "execution_count": 4,
   "id": "305d4f65",
   "metadata": {
    "ExecuteTime": {
     "end_time": "2025-01-04T02:51:13.291430Z",
     "start_time": "2025-01-04T02:51:13.289019Z"
    }
   },
   "outputs": [],
   "source": [
    "rename_colums = {}\n",
    "for col in booking.columns:\n",
    "    rename_colums[col] = col.replace(' ','_').lower()"
   ]
  },
  {
   "cell_type": "code",
   "execution_count": 5,
   "id": "d5094331",
   "metadata": {
    "ExecuteTime": {
     "end_time": "2025-01-04T02:51:13.296256Z",
     "start_time": "2025-01-04T02:51:13.292431Z"
    }
   },
   "outputs": [
    {
     "data": {
      "text/plain": [
       "{'Hotel': 'hotel',\n",
       " 'Is Canceled': 'is_canceled',\n",
       " 'Lead Time': 'lead_time',\n",
       " 'arrival full date': 'arrival_full_date',\n",
       " 'Arrival Date Year': 'arrival_date_year',\n",
       " 'Arrival Date Month': 'arrival_date_month',\n",
       " 'Arrival Date Week Number': 'arrival_date_week_number',\n",
       " 'Arrival Date Day of Month': 'arrival_date_day_of_month',\n",
       " 'Stays in Weekend nights': 'stays_in_weekend_nights',\n",
       " 'Stays in week nights': 'stays_in_week_nights',\n",
       " 'stays total nights': 'stays_total_nights',\n",
       " 'Adults': 'adults',\n",
       " 'Children': 'children',\n",
       " 'Babies': 'babies',\n",
       " 'Meal': 'meal',\n",
       " 'Country': 'country',\n",
       " 'Reserved Room Type': 'reserved_room_type',\n",
       " 'Assigned room type': 'assigned_room_type',\n",
       " 'customer type': 'customer_type',\n",
       " 'Reservation Status': 'reservation_status',\n",
       " 'Reservation status_date': 'reservation_status_date'}"
      ]
     },
     "execution_count": 5,
     "metadata": {},
     "output_type": "execute_result"
    }
   ],
   "source": [
    "rename_colums"
   ]
  },
  {
   "cell_type": "code",
   "execution_count": 6,
   "id": "a1de5e96",
   "metadata": {
    "ExecuteTime": {
     "end_time": "2025-01-04T02:51:13.307809Z",
     "start_time": "2025-01-04T02:51:13.297258Z"
    }
   },
   "outputs": [],
   "source": [
    "booking = booking.rename(columns=rename_colums)"
   ]
  },
  {
   "cell_type": "code",
   "execution_count": 7,
   "id": "4e12d580",
   "metadata": {
    "ExecuteTime": {
     "end_time": "2025-01-04T02:51:13.358970Z",
     "start_time": "2025-01-04T02:51:13.308806Z"
    }
   },
   "outputs": [
    {
     "data": {
      "text/html": [
       "<div>\n",
       "<style scoped>\n",
       "    .dataframe tbody tr th:only-of-type {\n",
       "        vertical-align: middle;\n",
       "    }\n",
       "\n",
       "    .dataframe tbody tr th {\n",
       "        vertical-align: top;\n",
       "    }\n",
       "\n",
       "    .dataframe thead th {\n",
       "        text-align: right;\n",
       "    }\n",
       "</style>\n",
       "<table border=\"1\" class=\"dataframe\">\n",
       "  <thead>\n",
       "    <tr style=\"text-align: right;\">\n",
       "      <th></th>\n",
       "      <th>hotel</th>\n",
       "      <th>is_canceled</th>\n",
       "      <th>lead_time</th>\n",
       "      <th>arrival_full_date</th>\n",
       "      <th>arrival_date_year</th>\n",
       "      <th>arrival_date_month</th>\n",
       "      <th>arrival_date_week_number</th>\n",
       "      <th>arrival_date_day_of_month</th>\n",
       "      <th>stays_in_weekend_nights</th>\n",
       "      <th>stays_in_week_nights</th>\n",
       "      <th>...</th>\n",
       "      <th>adults</th>\n",
       "      <th>children</th>\n",
       "      <th>babies</th>\n",
       "      <th>meal</th>\n",
       "      <th>country</th>\n",
       "      <th>reserved_room_type</th>\n",
       "      <th>assigned_room_type</th>\n",
       "      <th>customer_type</th>\n",
       "      <th>reservation_status</th>\n",
       "      <th>reservation_status_date</th>\n",
       "    </tr>\n",
       "  </thead>\n",
       "  <tbody>\n",
       "    <tr>\n",
       "      <th>0</th>\n",
       "      <td>Resort Hotel</td>\n",
       "      <td>0</td>\n",
       "      <td>342</td>\n",
       "      <td>2015-07-01</td>\n",
       "      <td>2015</td>\n",
       "      <td>July</td>\n",
       "      <td>27</td>\n",
       "      <td>1</td>\n",
       "      <td>0</td>\n",
       "      <td>0</td>\n",
       "      <td>...</td>\n",
       "      <td>2</td>\n",
       "      <td>0.0</td>\n",
       "      <td>0</td>\n",
       "      <td>BB</td>\n",
       "      <td>PRT</td>\n",
       "      <td>C</td>\n",
       "      <td>C</td>\n",
       "      <td>Transient</td>\n",
       "      <td>Check-Out</td>\n",
       "      <td>2015-07-01</td>\n",
       "    </tr>\n",
       "    <tr>\n",
       "      <th>1</th>\n",
       "      <td>Resort Hotel</td>\n",
       "      <td>0</td>\n",
       "      <td>737</td>\n",
       "      <td>2015-07-01</td>\n",
       "      <td>2015</td>\n",
       "      <td>July</td>\n",
       "      <td>27</td>\n",
       "      <td>1</td>\n",
       "      <td>0</td>\n",
       "      <td>0</td>\n",
       "      <td>...</td>\n",
       "      <td>2</td>\n",
       "      <td>0.0</td>\n",
       "      <td>0</td>\n",
       "      <td>BB</td>\n",
       "      <td>PRT</td>\n",
       "      <td>C</td>\n",
       "      <td>C</td>\n",
       "      <td>Transient</td>\n",
       "      <td>Check-Out</td>\n",
       "      <td>2015-07-01</td>\n",
       "    </tr>\n",
       "    <tr>\n",
       "      <th>2</th>\n",
       "      <td>Resort Hotel</td>\n",
       "      <td>0</td>\n",
       "      <td>7</td>\n",
       "      <td>2015-07-01</td>\n",
       "      <td>2015</td>\n",
       "      <td>July</td>\n",
       "      <td>27</td>\n",
       "      <td>1</td>\n",
       "      <td>0</td>\n",
       "      <td>1</td>\n",
       "      <td>...</td>\n",
       "      <td>1</td>\n",
       "      <td>0.0</td>\n",
       "      <td>0</td>\n",
       "      <td>BB</td>\n",
       "      <td>GBR</td>\n",
       "      <td>A</td>\n",
       "      <td>C</td>\n",
       "      <td>Transient</td>\n",
       "      <td>Check-Out</td>\n",
       "      <td>2015-07-02</td>\n",
       "    </tr>\n",
       "    <tr>\n",
       "      <th>3</th>\n",
       "      <td>Resort Hotel</td>\n",
       "      <td>0</td>\n",
       "      <td>13</td>\n",
       "      <td>2015-07-01</td>\n",
       "      <td>2015</td>\n",
       "      <td>July</td>\n",
       "      <td>27</td>\n",
       "      <td>1</td>\n",
       "      <td>0</td>\n",
       "      <td>1</td>\n",
       "      <td>...</td>\n",
       "      <td>1</td>\n",
       "      <td>0.0</td>\n",
       "      <td>0</td>\n",
       "      <td>BB</td>\n",
       "      <td>GBR</td>\n",
       "      <td>A</td>\n",
       "      <td>A</td>\n",
       "      <td>Transient</td>\n",
       "      <td>Check-Out</td>\n",
       "      <td>2015-07-02</td>\n",
       "    </tr>\n",
       "    <tr>\n",
       "      <th>4</th>\n",
       "      <td>Resort Hotel</td>\n",
       "      <td>0</td>\n",
       "      <td>14</td>\n",
       "      <td>2015-07-01</td>\n",
       "      <td>2015</td>\n",
       "      <td>July</td>\n",
       "      <td>27</td>\n",
       "      <td>1</td>\n",
       "      <td>0</td>\n",
       "      <td>2</td>\n",
       "      <td>...</td>\n",
       "      <td>2</td>\n",
       "      <td>0.0</td>\n",
       "      <td>0</td>\n",
       "      <td>BB</td>\n",
       "      <td>GBR</td>\n",
       "      <td>A</td>\n",
       "      <td>A</td>\n",
       "      <td>Transient</td>\n",
       "      <td>Check-Out</td>\n",
       "      <td>2015-07-03</td>\n",
       "    </tr>\n",
       "    <tr>\n",
       "      <th>...</th>\n",
       "      <td>...</td>\n",
       "      <td>...</td>\n",
       "      <td>...</td>\n",
       "      <td>...</td>\n",
       "      <td>...</td>\n",
       "      <td>...</td>\n",
       "      <td>...</td>\n",
       "      <td>...</td>\n",
       "      <td>...</td>\n",
       "      <td>...</td>\n",
       "      <td>...</td>\n",
       "      <td>...</td>\n",
       "      <td>...</td>\n",
       "      <td>...</td>\n",
       "      <td>...</td>\n",
       "      <td>...</td>\n",
       "      <td>...</td>\n",
       "      <td>...</td>\n",
       "      <td>...</td>\n",
       "      <td>...</td>\n",
       "      <td>...</td>\n",
       "    </tr>\n",
       "    <tr>\n",
       "      <th>119385</th>\n",
       "      <td>City Hotel</td>\n",
       "      <td>0</td>\n",
       "      <td>23</td>\n",
       "      <td>2017-08-30</td>\n",
       "      <td>2017</td>\n",
       "      <td>August</td>\n",
       "      <td>35</td>\n",
       "      <td>30</td>\n",
       "      <td>2</td>\n",
       "      <td>5</td>\n",
       "      <td>...</td>\n",
       "      <td>2</td>\n",
       "      <td>0.0</td>\n",
       "      <td>0</td>\n",
       "      <td>BB</td>\n",
       "      <td>BEL</td>\n",
       "      <td>A</td>\n",
       "      <td>A</td>\n",
       "      <td>Transient</td>\n",
       "      <td>Check-Out</td>\n",
       "      <td>2017-09-06</td>\n",
       "    </tr>\n",
       "    <tr>\n",
       "      <th>119386</th>\n",
       "      <td>City Hotel</td>\n",
       "      <td>0</td>\n",
       "      <td>102</td>\n",
       "      <td>2017-08-31</td>\n",
       "      <td>2017</td>\n",
       "      <td>August</td>\n",
       "      <td>35</td>\n",
       "      <td>31</td>\n",
       "      <td>2</td>\n",
       "      <td>5</td>\n",
       "      <td>...</td>\n",
       "      <td>3</td>\n",
       "      <td>0.0</td>\n",
       "      <td>0</td>\n",
       "      <td>BB</td>\n",
       "      <td>FRA</td>\n",
       "      <td>E</td>\n",
       "      <td>E</td>\n",
       "      <td>Transient</td>\n",
       "      <td>Check-Out</td>\n",
       "      <td>2017-09-07</td>\n",
       "    </tr>\n",
       "    <tr>\n",
       "      <th>119387</th>\n",
       "      <td>City Hotel</td>\n",
       "      <td>0</td>\n",
       "      <td>34</td>\n",
       "      <td>2017-08-31</td>\n",
       "      <td>2017</td>\n",
       "      <td>August</td>\n",
       "      <td>35</td>\n",
       "      <td>31</td>\n",
       "      <td>2</td>\n",
       "      <td>5</td>\n",
       "      <td>...</td>\n",
       "      <td>2</td>\n",
       "      <td>0.0</td>\n",
       "      <td>0</td>\n",
       "      <td>BB</td>\n",
       "      <td>DEU</td>\n",
       "      <td>D</td>\n",
       "      <td>D</td>\n",
       "      <td>Transient</td>\n",
       "      <td>Check-Out</td>\n",
       "      <td>2017-09-07</td>\n",
       "    </tr>\n",
       "    <tr>\n",
       "      <th>119388</th>\n",
       "      <td>City Hotel</td>\n",
       "      <td>0</td>\n",
       "      <td>109</td>\n",
       "      <td>2017-08-31</td>\n",
       "      <td>2017</td>\n",
       "      <td>August</td>\n",
       "      <td>35</td>\n",
       "      <td>31</td>\n",
       "      <td>2</td>\n",
       "      <td>5</td>\n",
       "      <td>...</td>\n",
       "      <td>2</td>\n",
       "      <td>0.0</td>\n",
       "      <td>0</td>\n",
       "      <td>BB</td>\n",
       "      <td>GBR</td>\n",
       "      <td>A</td>\n",
       "      <td>A</td>\n",
       "      <td>Transient</td>\n",
       "      <td>Check-Out</td>\n",
       "      <td>2017-09-07</td>\n",
       "    </tr>\n",
       "    <tr>\n",
       "      <th>119389</th>\n",
       "      <td>City Hotel</td>\n",
       "      <td>0</td>\n",
       "      <td>205</td>\n",
       "      <td>2017-08-29</td>\n",
       "      <td>2017</td>\n",
       "      <td>August</td>\n",
       "      <td>35</td>\n",
       "      <td>29</td>\n",
       "      <td>2</td>\n",
       "      <td>7</td>\n",
       "      <td>...</td>\n",
       "      <td>2</td>\n",
       "      <td>0.0</td>\n",
       "      <td>0</td>\n",
       "      <td>HB</td>\n",
       "      <td>DEU</td>\n",
       "      <td>A</td>\n",
       "      <td>A</td>\n",
       "      <td>Transient</td>\n",
       "      <td>Check-Out</td>\n",
       "      <td>2017-09-07</td>\n",
       "    </tr>\n",
       "  </tbody>\n",
       "</table>\n",
       "<p>119390 rows × 21 columns</p>\n",
       "</div>"
      ],
      "text/plain": [
       "               hotel  is_canceled  lead_time arrival_full_date  \\\n",
       "0       Resort Hotel            0        342        2015-07-01   \n",
       "1       Resort Hotel            0        737        2015-07-01   \n",
       "2       Resort Hotel            0          7        2015-07-01   \n",
       "3       Resort Hotel            0         13        2015-07-01   \n",
       "4       Resort Hotel            0         14        2015-07-01   \n",
       "...              ...          ...        ...               ...   \n",
       "119385    City Hotel            0         23        2017-08-30   \n",
       "119386    City Hotel            0        102        2017-08-31   \n",
       "119387    City Hotel            0         34        2017-08-31   \n",
       "119388    City Hotel            0        109        2017-08-31   \n",
       "119389    City Hotel            0        205        2017-08-29   \n",
       "\n",
       "        arrival_date_year arrival_date_month  arrival_date_week_number  \\\n",
       "0                    2015               July                        27   \n",
       "1                    2015               July                        27   \n",
       "2                    2015               July                        27   \n",
       "3                    2015               July                        27   \n",
       "4                    2015               July                        27   \n",
       "...                   ...                ...                       ...   \n",
       "119385               2017             August                        35   \n",
       "119386               2017             August                        35   \n",
       "119387               2017             August                        35   \n",
       "119388               2017             August                        35   \n",
       "119389               2017             August                        35   \n",
       "\n",
       "        arrival_date_day_of_month  stays_in_weekend_nights  \\\n",
       "0                               1                        0   \n",
       "1                               1                        0   \n",
       "2                               1                        0   \n",
       "3                               1                        0   \n",
       "4                               1                        0   \n",
       "...                           ...                      ...   \n",
       "119385                         30                        2   \n",
       "119386                         31                        2   \n",
       "119387                         31                        2   \n",
       "119388                         31                        2   \n",
       "119389                         29                        2   \n",
       "\n",
       "        stays_in_week_nights  ...  adults  children  babies  meal country  \\\n",
       "0                          0  ...       2       0.0       0    BB     PRT   \n",
       "1                          0  ...       2       0.0       0    BB     PRT   \n",
       "2                          1  ...       1       0.0       0    BB     GBR   \n",
       "3                          1  ...       1       0.0       0    BB     GBR   \n",
       "4                          2  ...       2       0.0       0    BB     GBR   \n",
       "...                      ...  ...     ...       ...     ...   ...     ...   \n",
       "119385                     5  ...       2       0.0       0    BB     BEL   \n",
       "119386                     5  ...       3       0.0       0    BB     FRA   \n",
       "119387                     5  ...       2       0.0       0    BB     DEU   \n",
       "119388                     5  ...       2       0.0       0    BB     GBR   \n",
       "119389                     7  ...       2       0.0       0    HB     DEU   \n",
       "\n",
       "       reserved_room_type assigned_room_type customer_type reservation_status  \\\n",
       "0                       C                  C     Transient          Check-Out   \n",
       "1                       C                  C     Transient          Check-Out   \n",
       "2                       A                  C     Transient          Check-Out   \n",
       "3                       A                  A     Transient          Check-Out   \n",
       "4                       A                  A     Transient          Check-Out   \n",
       "...                   ...                ...           ...                ...   \n",
       "119385                  A                  A     Transient          Check-Out   \n",
       "119386                  E                  E     Transient          Check-Out   \n",
       "119387                  D                  D     Transient          Check-Out   \n",
       "119388                  A                  A     Transient          Check-Out   \n",
       "119389                  A                  A     Transient          Check-Out   \n",
       "\n",
       "       reservation_status_date  \n",
       "0                   2015-07-01  \n",
       "1                   2015-07-01  \n",
       "2                   2015-07-02  \n",
       "3                   2015-07-02  \n",
       "4                   2015-07-03  \n",
       "...                        ...  \n",
       "119385              2017-09-06  \n",
       "119386              2017-09-07  \n",
       "119387              2017-09-07  \n",
       "119388              2017-09-07  \n",
       "119389              2017-09-07  \n",
       "\n",
       "[119390 rows x 21 columns]"
      ]
     },
     "execution_count": 7,
     "metadata": {},
     "output_type": "execute_result"
    }
   ],
   "source": [
    "booking"
   ]
  },
  {
   "cell_type": "raw",
   "id": "3d8684dc",
   "metadata": {},
   "source": [
    "! Пользователи из каких стран совершили наибольшее число успешных бронирований? "
   ]
  },
  {
   "cell_type": "markdown",
   "id": "ee499b25",
   "metadata": {},
   "source": [
    "1 способ. Новый вариант. подобие SQL"
   ]
  },
  {
   "cell_type": "code",
   "execution_count": 8,
   "id": "513e9007",
   "metadata": {
    "ExecuteTime": {
     "end_time": "2025-01-04T02:51:13.379640Z",
     "start_time": "2025-01-04T02:51:13.359972Z"
    }
   },
   "outputs": [
    {
     "data": {
      "text/plain": [
       "country\n",
       "PRT    21071\n",
       "GBR     9676\n",
       "FRA     8481\n",
       "ESP     6391\n",
       "DEU     6069\n",
       "Name: count, dtype: int64"
      ]
     },
     "execution_count": 8,
     "metadata": {},
     "output_type": "execute_result"
    }
   ],
   "source": [
    "booking.query('is_canceled == 0').value_counts('country').head(5)"
   ]
  },
  {
   "cell_type": "markdown",
   "id": "0d473edc",
   "metadata": {},
   "source": [
    "2 способ. Классический вариант (['country'].value_counts()) . подобие SQL"
   ]
  },
  {
   "cell_type": "code",
   "execution_count": 9,
   "id": "a3d53c1b",
   "metadata": {
    "ExecuteTime": {
     "end_time": "2025-01-04T02:51:13.397871Z",
     "start_time": "2025-01-04T02:51:13.380642Z"
    }
   },
   "outputs": [
    {
     "data": {
      "text/plain": [
       "country\n",
       "PRT    21071\n",
       "GBR     9676\n",
       "FRA     8481\n",
       "ESP     6391\n",
       "DEU     6069\n",
       "Name: count, dtype: int64"
      ]
     },
     "execution_count": 9,
     "metadata": {},
     "output_type": "execute_result"
    }
   ],
   "source": [
    "booking.query('is_canceled == 0')['country'].value_counts().head(5)"
   ]
  },
  {
   "cell_type": "markdown",
   "id": "da163f81",
   "metadata": {},
   "source": [
    "3 способ. Приближенная версия к python"
   ]
  },
  {
   "cell_type": "code",
   "execution_count": 10,
   "id": "9a5d6d21",
   "metadata": {
    "ExecuteTime": {
     "end_time": "2025-01-04T02:51:13.414177Z",
     "start_time": "2025-01-04T02:51:13.398872Z"
    }
   },
   "outputs": [
    {
     "data": {
      "text/plain": [
       "country\n",
       "PRT    21071\n",
       "GBR     9676\n",
       "FRA     8481\n",
       "ESP     6391\n",
       "DEU     6069\n",
       "Name: count, dtype: int64"
      ]
     },
     "execution_count": 10,
     "metadata": {},
     "output_type": "execute_result"
    }
   ],
   "source": [
    "booking.loc[booking.is_canceled == 0].country.value_counts().head()"
   ]
  },
  {
   "cell_type": "markdown",
   "id": "ad3ac5d9",
   "metadata": {},
   "source": [
    " На сколько ночей (stays_total_nights)  в среднем бронируют отели типа City Hotel? Resort Hotel? "
   ]
  },
  {
   "cell_type": "code",
   "execution_count": 11,
   "id": "56b7a1c2",
   "metadata": {
    "ExecuteTime": {
     "end_time": "2025-01-04T02:51:13.425563Z",
     "start_time": "2025-01-04T02:51:13.415174Z"
    }
   },
   "outputs": [
    {
     "data": {
      "text/html": [
       "<div>\n",
       "<style scoped>\n",
       "    .dataframe tbody tr th:only-of-type {\n",
       "        vertical-align: middle;\n",
       "    }\n",
       "\n",
       "    .dataframe tbody tr th {\n",
       "        vertical-align: top;\n",
       "    }\n",
       "\n",
       "    .dataframe thead th {\n",
       "        text-align: right;\n",
       "    }\n",
       "</style>\n",
       "<table border=\"1\" class=\"dataframe\">\n",
       "  <thead>\n",
       "    <tr style=\"text-align: right;\">\n",
       "      <th></th>\n",
       "      <th>stays_total_nights</th>\n",
       "    </tr>\n",
       "    <tr>\n",
       "      <th>hotel</th>\n",
       "      <th></th>\n",
       "    </tr>\n",
       "  </thead>\n",
       "  <tbody>\n",
       "    <tr>\n",
       "      <th>City Hotel</th>\n",
       "      <td>2.98</td>\n",
       "    </tr>\n",
       "    <tr>\n",
       "      <th>Resort Hotel</th>\n",
       "      <td>4.32</td>\n",
       "    </tr>\n",
       "  </tbody>\n",
       "</table>\n",
       "</div>"
      ],
      "text/plain": [
       "              stays_total_nights\n",
       "hotel                           \n",
       "City Hotel                  2.98\n",
       "Resort Hotel                4.32"
      ]
     },
     "execution_count": 11,
     "metadata": {},
     "output_type": "execute_result"
    }
   ],
   "source": [
    "booking.groupby('hotel').agg({'stays_total_nights':'mean'}).round(2)"
   ]
  },
  {
   "cell_type": "markdown",
   "id": "6696e0db",
   "metadata": {},
   "source": [
    "Иногда тип номера, присвоенного клиенту (assigned_room_type), отличается от изначально забронированного (reserved_room_type). Такое может произойти, например, по причине овербукинга."
   ]
  },
  {
   "cell_type": "code",
   "execution_count": 14,
   "id": "1d251c53",
   "metadata": {
    "ExecuteTime": {
     "end_time": "2025-01-04T02:51:40.950398Z",
     "start_time": "2025-01-04T02:51:40.932418Z"
    }
   },
   "outputs": [
    {
     "data": {
      "text/plain": [
       "14917"
      ]
     },
     "execution_count": 14,
     "metadata": {},
     "output_type": "execute_result"
    }
   ],
   "source": [
    "len(booking.query(\"reserved_room_type != assigned_room_type\"))"
   ]
  },
  {
   "cell_type": "code",
   "execution_count": 15,
   "id": "92dd436f",
   "metadata": {
    "ExecuteTime": {
     "end_time": "2025-01-04T02:51:43.398010Z",
     "start_time": "2025-01-04T02:51:43.385544Z"
    }
   },
   "outputs": [
    {
     "data": {
      "text/plain": [
       "14917"
      ]
     },
     "execution_count": 15,
     "metadata": {},
     "output_type": "execute_result"
    }
   ],
   "source": [
    "len(booking.loc[booking['reserved_room_type'] != booking['assigned_room_type']])"
   ]
  },
  {
   "cell_type": "markdown",
   "id": "31cee947",
   "metadata": {},
   "source": [
    "На какой месяц чаще всего оформляли бронь в 2016 году? Изменился ли самый популярный месяц в 2017?"
   ]
  },
  {
   "cell_type": "code",
   "execution_count": 29,
   "id": "13951bcf",
   "metadata": {
    "ExecuteTime": {
     "end_time": "2025-01-04T02:56:25.602852Z",
     "start_time": "2025-01-04T02:56:25.584403Z"
    }
   },
   "outputs": [
    {
     "data": {
      "text/plain": [
       "arrival_date_year\n",
       "2015    September\n",
       "2016      October\n",
       "2017          May\n",
       "Name: arrival_date_month, dtype: object"
      ]
     },
     "execution_count": 29,
     "metadata": {},
     "output_type": "execute_result"
    }
   ],
   "source": [
    "booking.groupby('arrival_date_year')['arrival_date_month'].agg(pd.Series.mode)"
   ]
  },
  {
   "cell_type": "code",
   "execution_count": 61,
   "id": "342b85ac",
   "metadata": {
    "ExecuteTime": {
     "end_time": "2025-01-04T03:23:22.338226Z",
     "start_time": "2025-01-04T03:23:22.325606Z"
    }
   },
   "outputs": [
    {
     "data": {
      "text/plain": [
       "arrival_date_year  arrival_date_month\n",
       "2015               September             5114\n",
       "                   October               4957\n",
       "                   August                3889\n",
       "                   December              2920\n",
       "                   July                  2776\n",
       "                   November              2340\n",
       "2016               October               6203\n",
       "                   May                   5478\n",
       "                   April                 5428\n",
       "                   September             5394\n",
       "                   June                  5292\n",
       "                   August                5063\n",
       "                   March                 4824\n",
       "                   July                  4572\n",
       "                   November              4454\n",
       "                   February              3891\n",
       "                   December              3860\n",
       "                   January               2248\n",
       "2017               May                   6313\n",
       "                   April                 5661\n",
       "                   June                  5647\n",
       "                   July                  5313\n",
       "                   March                 4970\n",
       "                   August                4925\n",
       "                   February              4177\n",
       "                   January               3681\n",
       "Name: count, dtype: int64"
      ]
     },
     "execution_count": 61,
     "metadata": {},
     "output_type": "execute_result"
    }
   ],
   "source": [
    "booking.groupby('arrival_date_year')['arrival_date_month'].value_counts()"
   ]
  },
  {
   "cell_type": "markdown",
   "id": "aeb9323b",
   "metadata": {},
   "source": [
    "Сгруппируйте данные по годам, а затем проверьте, на какой месяц (arrival_date_month) бронирования отеля типа City Hotel отменялись чаще всего в 2015? 2016? 2017? "
   ]
  },
  {
   "cell_type": "code",
   "execution_count": 66,
   "id": "e65526a5",
   "metadata": {
    "ExecuteTime": {
     "end_time": "2025-01-04T03:28:29.035020Z",
     "start_time": "2025-01-04T03:28:29.017850Z"
    },
    "scrolled": false
   },
   "outputs": [
    {
     "data": {
      "text/html": [
       "<div>\n",
       "<style scoped>\n",
       "    .dataframe tbody tr th:only-of-type {\n",
       "        vertical-align: middle;\n",
       "    }\n",
       "\n",
       "    .dataframe tbody tr th {\n",
       "        vertical-align: top;\n",
       "    }\n",
       "\n",
       "    .dataframe thead th {\n",
       "        text-align: right;\n",
       "    }\n",
       "</style>\n",
       "<table border=\"1\" class=\"dataframe\">\n",
       "  <thead>\n",
       "    <tr style=\"text-align: right;\">\n",
       "      <th></th>\n",
       "      <th></th>\n",
       "      <th>is_canceled</th>\n",
       "    </tr>\n",
       "    <tr>\n",
       "      <th>arrival_date_year</th>\n",
       "      <th>arrival_date_month</th>\n",
       "      <th></th>\n",
       "    </tr>\n",
       "  </thead>\n",
       "  <tbody>\n",
       "    <tr>\n",
       "      <th rowspan=\"6\" valign=\"top\">2015</th>\n",
       "      <th>August</th>\n",
       "      <td>1232</td>\n",
       "    </tr>\n",
       "    <tr>\n",
       "      <th>December</th>\n",
       "      <td>668</td>\n",
       "    </tr>\n",
       "    <tr>\n",
       "      <th>July</th>\n",
       "      <td>939</td>\n",
       "    </tr>\n",
       "    <tr>\n",
       "      <th>November</th>\n",
       "      <td>301</td>\n",
       "    </tr>\n",
       "    <tr>\n",
       "      <th>October</th>\n",
       "      <td>1321</td>\n",
       "    </tr>\n",
       "    <tr>\n",
       "      <th>September</th>\n",
       "      <td>1543</td>\n",
       "    </tr>\n",
       "    <tr>\n",
       "      <th rowspan=\"12\" valign=\"top\">2016</th>\n",
       "      <th>April</th>\n",
       "      <td>1539</td>\n",
       "    </tr>\n",
       "    <tr>\n",
       "      <th>August</th>\n",
       "      <td>1247</td>\n",
       "    </tr>\n",
       "    <tr>\n",
       "      <th>December</th>\n",
       "      <td>1072</td>\n",
       "    </tr>\n",
       "    <tr>\n",
       "      <th>February</th>\n",
       "      <td>930</td>\n",
       "    </tr>\n",
       "    <tr>\n",
       "      <th>January</th>\n",
       "      <td>438</td>\n",
       "    </tr>\n",
       "    <tr>\n",
       "      <th>July</th>\n",
       "      <td>1043</td>\n",
       "    </tr>\n",
       "    <tr>\n",
       "      <th>June</th>\n",
       "      <td>1720</td>\n",
       "    </tr>\n",
       "    <tr>\n",
       "      <th>March</th>\n",
       "      <td>1108</td>\n",
       "    </tr>\n",
       "    <tr>\n",
       "      <th>May</th>\n",
       "      <td>1436</td>\n",
       "    </tr>\n",
       "    <tr>\n",
       "      <th>November</th>\n",
       "      <td>1360</td>\n",
       "    </tr>\n",
       "    <tr>\n",
       "      <th>October</th>\n",
       "      <td>1947</td>\n",
       "    </tr>\n",
       "    <tr>\n",
       "      <th>September</th>\n",
       "      <td>1567</td>\n",
       "    </tr>\n",
       "    <tr>\n",
       "      <th rowspan=\"8\" valign=\"top\">2017</th>\n",
       "      <th>April</th>\n",
       "      <td>1926</td>\n",
       "    </tr>\n",
       "    <tr>\n",
       "      <th>August</th>\n",
       "      <td>1123</td>\n",
       "    </tr>\n",
       "    <tr>\n",
       "      <th>February</th>\n",
       "      <td>971</td>\n",
       "    </tr>\n",
       "    <tr>\n",
       "      <th>January</th>\n",
       "      <td>1044</td>\n",
       "    </tr>\n",
       "    <tr>\n",
       "      <th>July</th>\n",
       "      <td>1324</td>\n",
       "    </tr>\n",
       "    <tr>\n",
       "      <th>June</th>\n",
       "      <td>1808</td>\n",
       "    </tr>\n",
       "    <tr>\n",
       "      <th>March</th>\n",
       "      <td>1278</td>\n",
       "    </tr>\n",
       "    <tr>\n",
       "      <th>May</th>\n",
       "      <td>2217</td>\n",
       "    </tr>\n",
       "  </tbody>\n",
       "</table>\n",
       "</div>"
      ],
      "text/plain": [
       "                                      is_canceled\n",
       "arrival_date_year arrival_date_month             \n",
       "2015              August                     1232\n",
       "                  December                    668\n",
       "                  July                        939\n",
       "                  November                    301\n",
       "                  October                    1321\n",
       "                  September                  1543\n",
       "2016              April                      1539\n",
       "                  August                     1247\n",
       "                  December                   1072\n",
       "                  February                    930\n",
       "                  January                     438\n",
       "                  July                       1043\n",
       "                  June                       1720\n",
       "                  March                      1108\n",
       "                  May                        1436\n",
       "                  November                   1360\n",
       "                  October                    1947\n",
       "                  September                  1567\n",
       "2017              April                      1926\n",
       "                  August                     1123\n",
       "                  February                    971\n",
       "                  January                    1044\n",
       "                  July                       1324\n",
       "                  June                       1808\n",
       "                  March                      1278\n",
       "                  May                        2217"
      ]
     },
     "execution_count": 66,
     "metadata": {},
     "output_type": "execute_result"
    }
   ],
   "source": [
    "booking.query(\"(hotel == 'City Hotel') & (is_canceled == 1)\") \\\n",
    "    .groupby([\"arrival_date_year\", \"arrival_date_month\"]) \\\n",
    "    .agg({\"is_canceled\": \"count\"}) "
   ]
  },
  {
   "cell_type": "markdown",
   "id": "f7856848",
   "metadata": {},
   "source": [
    "Посмотрите на числовые характеристики трёх переменных: adults, children и babies. Какая из них имеет наибольшее среднее значение?"
   ]
  },
  {
   "cell_type": "code",
   "execution_count": 68,
   "id": "20ebeff1",
   "metadata": {
    "ExecuteTime": {
     "end_time": "2025-01-04T03:29:24.772010Z",
     "start_time": "2025-01-04T03:29:24.766507Z"
    }
   },
   "outputs": [
    {
     "data": {
      "text/plain": [
       "adults      1.856403\n",
       "children    0.103890\n",
       "babies      0.007949\n",
       "dtype: float64"
      ]
     },
     "execution_count": 68,
     "metadata": {},
     "output_type": "execute_result"
    }
   ],
   "source": [
    "booking[['adults','children', 'babies']].mean()"
   ]
  },
  {
   "cell_type": "markdown",
   "id": "40498a80",
   "metadata": {},
   "source": [
    "Создайте колонку total_kids, объединив children и babies. Для отелей какого типа среднее значение переменной оказалось наибольшим?"
   ]
  },
  {
   "cell_type": "code",
   "execution_count": 70,
   "id": "924fad34",
   "metadata": {
    "ExecuteTime": {
     "end_time": "2025-01-04T03:30:31.063647Z",
     "start_time": "2025-01-04T03:30:31.060640Z"
    }
   },
   "outputs": [],
   "source": [
    "booking['total_kids'] = booking['children'] + booking['babies']"
   ]
  },
  {
   "cell_type": "code",
   "execution_count": 73,
   "id": "5039d23f",
   "metadata": {
    "ExecuteTime": {
     "end_time": "2025-01-04T03:32:49.853961Z",
     "start_time": "2025-01-04T03:32:49.843272Z"
    }
   },
   "outputs": [
    {
     "data": {
      "text/html": [
       "<div>\n",
       "<style scoped>\n",
       "    .dataframe tbody tr th:only-of-type {\n",
       "        vertical-align: middle;\n",
       "    }\n",
       "\n",
       "    .dataframe tbody tr th {\n",
       "        vertical-align: top;\n",
       "    }\n",
       "\n",
       "    .dataframe thead th {\n",
       "        text-align: right;\n",
       "    }\n",
       "</style>\n",
       "<table border=\"1\" class=\"dataframe\">\n",
       "  <thead>\n",
       "    <tr style=\"text-align: right;\">\n",
       "      <th></th>\n",
       "      <th>total_kids</th>\n",
       "    </tr>\n",
       "    <tr>\n",
       "      <th>hotel</th>\n",
       "      <th></th>\n",
       "    </tr>\n",
       "  </thead>\n",
       "  <tbody>\n",
       "    <tr>\n",
       "      <th>City Hotel</th>\n",
       "      <td>0.10</td>\n",
       "    </tr>\n",
       "    <tr>\n",
       "      <th>Resort Hotel</th>\n",
       "      <td>0.14</td>\n",
       "    </tr>\n",
       "  </tbody>\n",
       "</table>\n",
       "</div>"
      ],
      "text/plain": [
       "              total_kids\n",
       "hotel                   \n",
       "City Hotel          0.10\n",
       "Resort Hotel        0.14"
      ]
     },
     "execution_count": 73,
     "metadata": {},
     "output_type": "execute_result"
    }
   ],
   "source": [
    "booking.groupby('hotel').agg({'total_kids':'mean'}).round(2)"
   ]
  },
  {
   "cell_type": "code",
   "execution_count": null,
   "id": "ca9e8da6",
   "metadata": {},
   "outputs": [],
   "source": []
  }
 ],
 "metadata": {
  "kernelspec": {
   "display_name": "Python 3 (ipykernel)",
   "language": "python",
   "name": "python3"
  },
  "language_info": {
   "codemirror_mode": {
    "name": "ipython",
    "version": 3
   },
   "file_extension": ".py",
   "mimetype": "text/x-python",
   "name": "python",
   "nbconvert_exporter": "python",
   "pygments_lexer": "ipython3",
   "version": "3.12.3"
  },
  "varInspector": {
   "cols": {
    "lenName": 16,
    "lenType": 16,
    "lenVar": 40
   },
   "kernels_config": {
    "python": {
     "delete_cmd_postfix": "",
     "delete_cmd_prefix": "del ",
     "library": "var_list.py",
     "varRefreshCmd": "print(var_dic_list())"
    },
    "r": {
     "delete_cmd_postfix": ") ",
     "delete_cmd_prefix": "rm(",
     "library": "var_list.r",
     "varRefreshCmd": "cat(var_dic_list()) "
    }
   },
   "types_to_exclude": [
    "module",
    "function",
    "builtin_function_or_method",
    "instance",
    "_Feature"
   ],
   "window_display": false
  }
 },
 "nbformat": 4,
 "nbformat_minor": 5
}
